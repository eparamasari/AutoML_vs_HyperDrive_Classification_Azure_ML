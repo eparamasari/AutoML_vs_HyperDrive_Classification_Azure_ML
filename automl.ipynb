{
 "cells": [
  {
   "cell_type": "markdown",
   "metadata": {},
   "source": [
    "# Automated ML\n",
    "\n",
    "TODO: Import Dependencies. In the cell below, import all the dependencies that you will need to complete the project."
   ]
  },
  {
   "cell_type": "code",
   "execution_count": 1,
   "metadata": {
    "gather": {
     "logged": 1598423888013
    },
    "jupyter": {
     "outputs_hidden": false,
     "source_hidden": false
    },
    "nteract": {
     "transient": {
      "deleting": false
     }
    }
   },
   "outputs": [],
   "source": [
    "import os\n",
    "import joblib\n",
    "from pprint import pprint\n",
    "\n",
    "from azureml.core import Workspace, Experiment, Model\n",
    "from azureml.core.compute import ComputeTarget, AmlCompute\n",
    "from azureml.core.run import Run\n",
    "from azureml.widgets import RunDetails\n",
    "from azureml.train.automl import AutoMLConfig\n",
    "from azureml.data.dataset_factory import TabularDatasetFactory"
   ]
  },
  {
   "cell_type": "markdown",
   "metadata": {},
   "source": [
    "\n",
    "## Dataset\n",
    "\n",
    "### Overview\n",
    "TODO: In this markdown cell, give an overview of the dataset you are using. Also mention the task you will be performing.\n",
    "\n",
    "This is a binary classification task that will predict death by heart failure.\n",
    "\n",
    "These are the twelve features in the dataset:\n",
    "- age (int): self explanatory\n",
    "- anaemia (bool): whether there has been a decrease of red blood cells or hemoglobin\n",
    "- creatinine_phosphokinase (int): level of the CPK enzyme in the blood in mcg/L\n",
    "- diabetes (bool): whether the patient has diabetes\n",
    "- ejection_fraction (int): percentage of blood leaving the heart at each contraction\n",
    "- high_blood_pressure (bool): whether the patient has hypertension\n",
    "- platelets (int): platelets in the blood in kiloplatelets/mL\n",
    "- serum_creatinine (float): level of serum creatinine in the blood in mg/dL\n",
    "- serum_sodium (int): level of serum sodium in the blood in mEq/L\n",
    "- sex (int): female or male (binary)"
   ]
  },
  {
   "cell_type": "code",
   "execution_count": 2,
   "metadata": {},
   "outputs": [],
   "source": [
    "# acquiring data\n",
    "ds = TabularDatasetFactory.from_delimited_files(\"https://raw.githubusercontent.com/eparamasari/ML_Engineer_ND_Capstone/main/data/heart_failure_clinical_records_dataset.csv\")"
   ]
  },
  {
   "cell_type": "code",
   "execution_count": 3,
   "metadata": {
    "gather": {
     "logged": 1598423890461
    },
    "jupyter": {
     "outputs_hidden": false,
     "source_hidden": false
    },
    "nteract": {
     "transient": {
      "deleting": false
     }
    }
   },
   "outputs": [],
   "source": [
    "ws = Workspace.from_config()\n",
    "\n",
    "# creating an experiment object\n",
    "experiment_name = 'HeartFailureClassificationExp'\n",
    "\n",
    "experiment = Experiment(ws, experiment_name)"
   ]
  },
  {
   "cell_type": "code",
   "execution_count": 4,
   "metadata": {},
   "outputs": [
    {
     "name": "stdout",
     "output_type": "stream",
     "text": [
      "Creating\n",
      "Succeeded........................\n",
      "AmlCompute wait for completion finished\n",
      "\n",
      "Minimum number of nodes requested have been provisioned\n",
      "{'currentNodeCount': 1, 'targetNodeCount': 1, 'nodeStateCounts': {'preparingNodeCount': 1, 'runningNodeCount': 0, 'idleNodeCount': 0, 'unusableNodeCount': 0, 'leavingNodeCount': 0, 'preemptedNodeCount': 0}, 'allocationState': 'Steady', 'allocationStateTransitionTime': '2021-02-12T07:29:54.987000+00:00', 'errors': None, 'creationTime': '2021-02-12T07:27:41.449347+00:00', 'modifiedTime': '2021-02-12T07:27:56.758676+00:00', 'provisioningState': 'Succeeded', 'provisioningStateTransitionTime': None, 'scaleSettings': {'minNodeCount': 1, 'maxNodeCount': 5, 'nodeIdleTimeBeforeScaleDown': 'PT120S'}, 'vmPriority': 'Dedicated', 'vmSize': 'STANDARD_D2_V2'}\n"
     ]
    }
   ],
   "source": [
    "# Checking an existing compute cluster or starting one\n",
    "compute_name = \"ComputeCluster\"\n",
    "try:\n",
    "    compute_target = ComputeTarget(ws, compute_name)\n",
    "    print(compute_name+ \" already exist.\")\n",
    "except:\n",
    "    compute_config = AmlCompute.provisioning_configuration(vm_size=\"Standard_D2_V2\", min_nodes=1, max_nodes=5)\n",
    "    compute_target = ComputeTarget.create(ws, compute_name, compute_config)\n",
    "compute_target.wait_for_completion(show_output=True)\n",
    "\n",
    "print(compute_target.get_status().serialize())"
   ]
  },
  {
   "cell_type": "markdown",
   "metadata": {},
   "source": [
    "## AutoML Configuration\n",
    "\n",
    "The automl settings and cofiguration chosen."
   ]
  },
  {
   "cell_type": "code",
   "execution_count": 5,
   "metadata": {
    "gather": {
     "logged": 1598429217746
    },
    "jupyter": {
     "outputs_hidden": false,
     "source_hidden": false
    },
    "nteract": {
     "transient": {
      "deleting": false
     }
    }
   },
   "outputs": [],
   "source": [
    "# setting up automl\n",
    "\n",
    "automl_settings = {\n",
    "    \"experiment_timeout_minutes\": 20,\n",
    "    \"max_concurrent_iterations\": 5,\n",
    "    \"primary_metric\": 'accuracy'\n",
    "}\n",
    "\n",
    "automl_config = AutoMLConfig(\n",
    "    task='classification',\n",
    "    compute_target=compute_target,\n",
    "    training_data=ds,\n",
    "    label_column_name='DEATH_EVENT',\n",
    "    n_cross_validations=5,\n",
    "    **automl_settings\n",
    ")"
   ]
  },
  {
   "cell_type": "code",
   "execution_count": 6,
   "metadata": {
    "gather": {
     "logged": 1598431107951
    },
    "jupyter": {
     "outputs_hidden": false,
     "source_hidden": false
    },
    "nteract": {
     "transient": {
      "deleting": false
     }
    }
   },
   "outputs": [
    {
     "name": "stdout",
     "output_type": "stream",
     "text": [
      "Running on remote.\n"
     ]
    }
   ],
   "source": [
    "# Submitting the experiment\n",
    "remote_run = experiment.submit(automl_config)"
   ]
  },
  {
   "cell_type": "markdown",
   "metadata": {},
   "source": [
    "## Run Details\n",
    "\n",
    "Using the `RunDetails` widget to show the different experiments."
   ]
  },
  {
   "cell_type": "code",
   "execution_count": 7,
   "metadata": {
    "gather": {
     "logged": 1598431121770
    },
    "jupyter": {
     "outputs_hidden": false,
     "source_hidden": false
    },
    "nteract": {
     "transient": {
      "deleting": false
     }
    }
   },
   "outputs": [
    {
     "data": {
      "application/vnd.jupyter.widget-view+json": {
       "model_id": "6fe7ab8132b74a579a5e7f1b53502b67",
       "version_major": 2,
       "version_minor": 0
      },
      "text/plain": [
       "_AutoMLWidget(widget_settings={'childWidgetDisplay': 'popup', 'send_telemetry': False, 'log_level': 'INFO', 's…"
      ]
     },
     "metadata": {},
     "output_type": "display_data"
    },
    {
     "data": {
      "application/aml.mini.widget.v1": "{\"status\": \"Completed\", \"workbench_run_details_uri\": \"https://ml.azure.com/experiments/HeartFailureClassificationExp/runs/AutoML_90926142-d8d8-4f9d-a593-3d5fff6a318c?wsid=/subscriptions/1b944a9b-fdae-4f97-aeb1-b7eea0beac53/resourcegroups/aml-quickstarts-138666/workspaces/quick-starts-ws-138666\", \"run_id\": \"AutoML_90926142-d8d8-4f9d-a593-3d5fff6a318c\", \"run_properties\": {\"run_id\": \"AutoML_90926142-d8d8-4f9d-a593-3d5fff6a318c\", \"created_utc\": \"2021-02-12T07:30:44.418678Z\", \"properties\": {\"num_iterations\": \"1000\", \"training_type\": \"TrainFull\", \"acquisition_function\": \"EI\", \"primary_metric\": \"accuracy\", \"train_split\": \"0\", \"acquisition_parameter\": \"0\", \"num_cross_validation\": \"5\", \"target\": \"ComputeCluster\", \"AMLSettingsJsonString\": \"{\\\"path\\\":null,\\\"name\\\":\\\"HeartFailureClassificationExp\\\",\\\"subscription_id\\\":\\\"1b944a9b-fdae-4f97-aeb1-b7eea0beac53\\\",\\\"resource_group\\\":\\\"aml-quickstarts-138666\\\",\\\"workspace_name\\\":\\\"quick-starts-ws-138666\\\",\\\"region\\\":\\\"southcentralus\\\",\\\"compute_target\\\":\\\"ComputeCluster\\\",\\\"spark_service\\\":null,\\\"azure_service\\\":\\\"remote\\\",\\\"many_models\\\":false,\\\"pipeline_fetch_max_batch_size\\\":1,\\\"iterations\\\":1000,\\\"primary_metric\\\":\\\"accuracy\\\",\\\"task_type\\\":\\\"classification\\\",\\\"data_script\\\":null,\\\"validation_size\\\":0.0,\\\"n_cross_validations\\\":5,\\\"y_min\\\":null,\\\"y_max\\\":null,\\\"num_classes\\\":null,\\\"featurization\\\":\\\"auto\\\",\\\"_ignore_package_version_incompatibilities\\\":false,\\\"is_timeseries\\\":false,\\\"max_cores_per_iteration\\\":1,\\\"max_concurrent_iterations\\\":5,\\\"iteration_timeout_minutes\\\":null,\\\"mem_in_mb\\\":null,\\\"enforce_time_on_windows\\\":false,\\\"experiment_timeout_minutes\\\":20,\\\"experiment_exit_score\\\":null,\\\"whitelist_models\\\":null,\\\"blacklist_algos\\\":[\\\"TensorFlowLinearClassifier\\\",\\\"TensorFlowDNN\\\"],\\\"supported_models\\\":[\\\"TensorFlowLinearClassifier\\\",\\\"DecisionTree\\\",\\\"ExtremeRandomTrees\\\",\\\"MultinomialNaiveBayes\\\",\\\"LogisticRegression\\\",\\\"KNN\\\",\\\"BernoulliNaiveBayes\\\",\\\"TensorFlowDNN\\\",\\\"LinearSVM\\\",\\\"LightGBM\\\",\\\"XGBoostClassifier\\\",\\\"SVM\\\",\\\"AveragedPerceptronClassifier\\\",\\\"SGD\\\",\\\"RandomForest\\\",\\\"GradientBoosting\\\"],\\\"auto_blacklist\\\":true,\\\"blacklist_samples_reached\\\":false,\\\"exclude_nan_labels\\\":true,\\\"verbosity\\\":20,\\\"_debug_log\\\":\\\"azureml_automl.log\\\",\\\"show_warnings\\\":false,\\\"model_explainability\\\":true,\\\"service_url\\\":null,\\\"sdk_url\\\":null,\\\"sdk_packages\\\":null,\\\"enable_onnx_compatible_models\\\":false,\\\"enable_split_onnx_featurizer_estimator_models\\\":false,\\\"vm_type\\\":\\\"STANDARD_D2_V2\\\",\\\"telemetry_verbosity\\\":20,\\\"send_telemetry\\\":true,\\\"enable_dnn\\\":false,\\\"scenario\\\":\\\"SDK-1.13.0\\\",\\\"environment_label\\\":null,\\\"force_text_dnn\\\":false,\\\"enable_feature_sweeping\\\":true,\\\"enable_early_stopping\\\":false,\\\"early_stopping_n_iters\\\":10,\\\"metrics\\\":null,\\\"enable_ensembling\\\":true,\\\"enable_stack_ensembling\\\":true,\\\"ensemble_iterations\\\":15,\\\"enable_tf\\\":false,\\\"enable_subsampling\\\":null,\\\"subsample_seed\\\":null,\\\"enable_nimbusml\\\":false,\\\"enable_streaming\\\":false,\\\"force_streaming\\\":false,\\\"track_child_runs\\\":true,\\\"allowed_private_models\\\":[],\\\"label_column_name\\\":\\\"DEATH_EVENT\\\",\\\"weight_column_name\\\":null,\\\"cv_split_column_names\\\":null,\\\"enable_local_managed\\\":false,\\\"_local_managed_run_id\\\":null,\\\"cost_mode\\\":1,\\\"lag_length\\\":0,\\\"metric_operation\\\":\\\"maximize\\\",\\\"preprocess\\\":true}\", \"DataPrepJsonString\": \"{\\\\\\\"training_data\\\\\\\": \\\\\\\"{\\\\\\\\\\\\\\\"blocks\\\\\\\\\\\\\\\": [{\\\\\\\\\\\\\\\"id\\\\\\\\\\\\\\\": \\\\\\\\\\\\\\\"0211f99c-7cf7-4da8-b8fb-2d5f36813395\\\\\\\\\\\\\\\", \\\\\\\\\\\\\\\"type\\\\\\\\\\\\\\\": \\\\\\\\\\\\\\\"Microsoft.DPrep.GetFilesBlock\\\\\\\\\\\\\\\", \\\\\\\\\\\\\\\"arguments\\\\\\\\\\\\\\\": {\\\\\\\\\\\\\\\"isArchive\\\\\\\\\\\\\\\": false, \\\\\\\\\\\\\\\"path\\\\\\\\\\\\\\\": {\\\\\\\\\\\\\\\"target\\\\\\\\\\\\\\\": 4, \\\\\\\\\\\\\\\"resourceDetails\\\\\\\\\\\\\\\": [{\\\\\\\\\\\\\\\"path\\\\\\\\\\\\\\\": \\\\\\\\\\\\\\\"https://raw.githubusercontent.com/eparamasari/ML_Engineer_ND_Capstone/main/data/heart_failure_clinical_records_dataset.csv\\\\\\\\\\\\\\\"}]}}, \\\\\\\\\\\\\\\"localData\\\\\\\\\\\\\\\": {}, \\\\\\\\\\\\\\\"isEnabled\\\\\\\\\\\\\\\": true, \\\\\\\\\\\\\\\"name\\\\\\\\\\\\\\\": null, \\\\\\\\\\\\\\\"annotation\\\\\\\\\\\\\\\": null}, {\\\\\\\\\\\\\\\"id\\\\\\\\\\\\\\\": \\\\\\\\\\\\\\\"d2676bfe-34e7-44f1-b1ea-7a4ea0418077\\\\\\\\\\\\\\\", \\\\\\\\\\\\\\\"type\\\\\\\\\\\\\\\": \\\\\\\\\\\\\\\"Microsoft.DPrep.ParseDelimitedBlock\\\\\\\\\\\\\\\", \\\\\\\\\\\\\\\"arguments\\\\\\\\\\\\\\\": {\\\\\\\\\\\\\\\"columnHeadersMode\\\\\\\\\\\\\\\": 3, \\\\\\\\\\\\\\\"fileEncoding\\\\\\\\\\\\\\\": 0, \\\\\\\\\\\\\\\"handleQuotedLineBreaks\\\\\\\\\\\\\\\": false, \\\\\\\\\\\\\\\"preview\\\\\\\\\\\\\\\": false, \\\\\\\\\\\\\\\"separator\\\\\\\\\\\\\\\": \\\\\\\\\\\\\\\",\\\\\\\\\\\\\\\", \\\\\\\\\\\\\\\"skipRows\\\\\\\\\\\\\\\": 0, \\\\\\\\\\\\\\\"skipRowsMode\\\\\\\\\\\\\\\": 0}, \\\\\\\\\\\\\\\"localData\\\\\\\\\\\\\\\": {}, \\\\\\\\\\\\\\\"isEnabled\\\\\\\\\\\\\\\": true, \\\\\\\\\\\\\\\"name\\\\\\\\\\\\\\\": null, \\\\\\\\\\\\\\\"annotation\\\\\\\\\\\\\\\": null}, {\\\\\\\\\\\\\\\"id\\\\\\\\\\\\\\\": \\\\\\\\\\\\\\\"3220cd5f-d072-42c4-9020-80ba5f7e2345\\\\\\\\\\\\\\\", \\\\\\\\\\\\\\\"type\\\\\\\\\\\\\\\": \\\\\\\\\\\\\\\"Microsoft.DPrep.DropColumnsBlock\\\\\\\\\\\\\\\", \\\\\\\\\\\\\\\"arguments\\\\\\\\\\\\\\\": {\\\\\\\\\\\\\\\"columns\\\\\\\\\\\\\\\": {\\\\\\\\\\\\\\\"type\\\\\\\\\\\\\\\": 0, \\\\\\\\\\\\\\\"details\\\\\\\\\\\\\\\": {\\\\\\\\\\\\\\\"selectedColumns\\\\\\\\\\\\\\\": [\\\\\\\\\\\\\\\"Path\\\\\\\\\\\\\\\"]}}}, \\\\\\\\\\\\\\\"localData\\\\\\\\\\\\\\\": {}, \\\\\\\\\\\\\\\"isEnabled\\\\\\\\\\\\\\\": true, \\\\\\\\\\\\\\\"name\\\\\\\\\\\\\\\": null, \\\\\\\\\\\\\\\"annotation\\\\\\\\\\\\\\\": null}, {\\\\\\\\\\\\\\\"id\\\\\\\\\\\\\\\": \\\\\\\\\\\\\\\"0a8b526d-96f6-4f75-b205-d6149a1dac2a\\\\\\\\\\\\\\\", \\\\\\\\\\\\\\\"type\\\\\\\\\\\\\\\": \\\\\\\\\\\\\\\"Microsoft.DPrep.SetColumnTypesBlock\\\\\\\\\\\\\\\", \\\\\\\\\\\\\\\"arguments\\\\\\\\\\\\\\\": {\\\\\\\\\\\\\\\"columnConversion\\\\\\\\\\\\\\\": [{\\\\\\\\\\\\\\\"column\\\\\\\\\\\\\\\": {\\\\\\\\\\\\\\\"type\\\\\\\\\\\\\\\": 2, \\\\\\\\\\\\\\\"details\\\\\\\\\\\\\\\": {\\\\\\\\\\\\\\\"selectedColumn\\\\\\\\\\\\\\\": \\\\\\\\\\\\\\\"age\\\\\\\\\\\\\\\"}}, \\\\\\\\\\\\\\\"typeProperty\\\\\\\\\\\\\\\": 3}, {\\\\\\\\\\\\\\\"column\\\\\\\\\\\\\\\": {\\\\\\\\\\\\\\\"type\\\\\\\\\\\\\\\": 2, \\\\\\\\\\\\\\\"details\\\\\\\\\\\\\\\": {\\\\\\\\\\\\\\\"selectedColumn\\\\\\\\\\\\\\\": \\\\\\\\\\\\\\\"anaemia\\\\\\\\\\\\\\\"}}, \\\\\\\\\\\\\\\"typeProperty\\\\\\\\\\\\\\\": 2}, {\\\\\\\\\\\\\\\"column\\\\\\\\\\\\\\\": {\\\\\\\\\\\\\\\"type\\\\\\\\\\\\\\\": 2, \\\\\\\\\\\\\\\"details\\\\\\\\\\\\\\\": {\\\\\\\\\\\\\\\"selectedColumn\\\\\\\\\\\\\\\": \\\\\\\\\\\\\\\"creatinine_phosphokinase\\\\\\\\\\\\\\\"}}, \\\\\\\\\\\\\\\"typeProperty\\\\\\\\\\\\\\\": 2}, {\\\\\\\\\\\\\\\"column\\\\\\\\\\\\\\\": {\\\\\\\\\\\\\\\"type\\\\\\\\\\\\\\\": 2, \\\\\\\\\\\\\\\"details\\\\\\\\\\\\\\\": {\\\\\\\\\\\\\\\"selectedColumn\\\\\\\\\\\\\\\": \\\\\\\\\\\\\\\"diabetes\\\\\\\\\\\\\\\"}}, \\\\\\\\\\\\\\\"typeProperty\\\\\\\\\\\\\\\": 2}, {\\\\\\\\\\\\\\\"column\\\\\\\\\\\\\\\": {\\\\\\\\\\\\\\\"type\\\\\\\\\\\\\\\": 2, \\\\\\\\\\\\\\\"details\\\\\\\\\\\\\\\": {\\\\\\\\\\\\\\\"selectedColumn\\\\\\\\\\\\\\\": \\\\\\\\\\\\\\\"ejection_fraction\\\\\\\\\\\\\\\"}}, \\\\\\\\\\\\\\\"typeProperty\\\\\\\\\\\\\\\": 2}, {\\\\\\\\\\\\\\\"column\\\\\\\\\\\\\\\": {\\\\\\\\\\\\\\\"type\\\\\\\\\\\\\\\": 2, \\\\\\\\\\\\\\\"details\\\\\\\\\\\\\\\": {\\\\\\\\\\\\\\\"selectedColumn\\\\\\\\\\\\\\\": \\\\\\\\\\\\\\\"high_blood_pressure\\\\\\\\\\\\\\\"}}, \\\\\\\\\\\\\\\"typeProperty\\\\\\\\\\\\\\\": 2}, {\\\\\\\\\\\\\\\"column\\\\\\\\\\\\\\\": {\\\\\\\\\\\\\\\"type\\\\\\\\\\\\\\\": 2, \\\\\\\\\\\\\\\"details\\\\\\\\\\\\\\\": {\\\\\\\\\\\\\\\"selectedColumn\\\\\\\\\\\\\\\": \\\\\\\\\\\\\\\"platelets\\\\\\\\\\\\\\\"}}, \\\\\\\\\\\\\\\"typeProperty\\\\\\\\\\\\\\\": 3}, {\\\\\\\\\\\\\\\"column\\\\\\\\\\\\\\\": {\\\\\\\\\\\\\\\"type\\\\\\\\\\\\\\\": 2, \\\\\\\\\\\\\\\"details\\\\\\\\\\\\\\\": {\\\\\\\\\\\\\\\"selectedColumn\\\\\\\\\\\\\\\": \\\\\\\\\\\\\\\"serum_creatinine\\\\\\\\\\\\\\\"}}, \\\\\\\\\\\\\\\"typeProperty\\\\\\\\\\\\\\\": 3}, {\\\\\\\\\\\\\\\"column\\\\\\\\\\\\\\\": {\\\\\\\\\\\\\\\"type\\\\\\\\\\\\\\\": 2, \\\\\\\\\\\\\\\"details\\\\\\\\\\\\\\\": {\\\\\\\\\\\\\\\"selectedColumn\\\\\\\\\\\\\\\": \\\\\\\\\\\\\\\"serum_sodium\\\\\\\\\\\\\\\"}}, \\\\\\\\\\\\\\\"typeProperty\\\\\\\\\\\\\\\": 2}, {\\\\\\\\\\\\\\\"column\\\\\\\\\\\\\\\": {\\\\\\\\\\\\\\\"type\\\\\\\\\\\\\\\": 2, \\\\\\\\\\\\\\\"details\\\\\\\\\\\\\\\": {\\\\\\\\\\\\\\\"selectedColumn\\\\\\\\\\\\\\\": \\\\\\\\\\\\\\\"sex\\\\\\\\\\\\\\\"}}, \\\\\\\\\\\\\\\"typeProperty\\\\\\\\\\\\\\\": 2}, {\\\\\\\\\\\\\\\"column\\\\\\\\\\\\\\\": {\\\\\\\\\\\\\\\"type\\\\\\\\\\\\\\\": 2, \\\\\\\\\\\\\\\"details\\\\\\\\\\\\\\\": {\\\\\\\\\\\\\\\"selectedColumn\\\\\\\\\\\\\\\": \\\\\\\\\\\\\\\"smoking\\\\\\\\\\\\\\\"}}, \\\\\\\\\\\\\\\"typeProperty\\\\\\\\\\\\\\\": 2}, {\\\\\\\\\\\\\\\"column\\\\\\\\\\\\\\\": {\\\\\\\\\\\\\\\"type\\\\\\\\\\\\\\\": 2, \\\\\\\\\\\\\\\"details\\\\\\\\\\\\\\\": {\\\\\\\\\\\\\\\"selectedColumn\\\\\\\\\\\\\\\": \\\\\\\\\\\\\\\"time\\\\\\\\\\\\\\\"}}, \\\\\\\\\\\\\\\"typeProperty\\\\\\\\\\\\\\\": 2}, {\\\\\\\\\\\\\\\"column\\\\\\\\\\\\\\\": {\\\\\\\\\\\\\\\"type\\\\\\\\\\\\\\\": 2, \\\\\\\\\\\\\\\"details\\\\\\\\\\\\\\\": {\\\\\\\\\\\\\\\"selectedColumn\\\\\\\\\\\\\\\": \\\\\\\\\\\\\\\"DEATH_EVENT\\\\\\\\\\\\\\\"}}, \\\\\\\\\\\\\\\"typeProperty\\\\\\\\\\\\\\\": 2}]}, \\\\\\\\\\\\\\\"localData\\\\\\\\\\\\\\\": {}, \\\\\\\\\\\\\\\"isEnabled\\\\\\\\\\\\\\\": true, \\\\\\\\\\\\\\\"name\\\\\\\\\\\\\\\": null, \\\\\\\\\\\\\\\"annotation\\\\\\\\\\\\\\\": null}], \\\\\\\\\\\\\\\"inspectors\\\\\\\\\\\\\\\": [], \\\\\\\\\\\\\\\"meta\\\\\\\\\\\\\\\": {\\\\\\\\\\\\\\\"savedDatasetId\\\\\\\\\\\\\\\": \\\\\\\\\\\\\\\"47eaaa05-82df-40d5-80a0-e6a06060490b\\\\\\\\\\\\\\\", \\\\\\\\\\\\\\\"datasetType\\\\\\\\\\\\\\\": \\\\\\\\\\\\\\\"tabular\\\\\\\\\\\\\\\", \\\\\\\\\\\\\\\"subscriptionId\\\\\\\\\\\\\\\": \\\\\\\\\\\\\\\"1b944a9b-fdae-4f97-aeb1-b7eea0beac53\\\\\\\\\\\\\\\", \\\\\\\\\\\\\\\"workspaceId\\\\\\\\\\\\\\\": \\\\\\\\\\\\\\\"d9cf2a4d-15ef-4b78-b0bd-4de288ffba5c\\\\\\\\\\\\\\\", \\\\\\\\\\\\\\\"workspaceLocation\\\\\\\\\\\\\\\": \\\\\\\\\\\\\\\"southcentralus\\\\\\\\\\\\\\\"}}\\\\\\\", \\\\\\\"activities\\\\\\\": 0}\", \"EnableSubsampling\": null, \"runTemplate\": \"AutoML\", \"azureml.runsource\": \"automl\", \"display_task_type\": \"classification\", \"dependencies_versions\": \"{\\\"azureml-widgets\\\": \\\"1.20.0\\\", \\\"azureml-train\\\": \\\"1.20.0\\\", \\\"azureml-train-restclients-hyperdrive\\\": \\\"1.20.0\\\", \\\"azureml-train-core\\\": \\\"1.20.0\\\", \\\"azureml-train-automl\\\": \\\"1.20.0\\\", \\\"azureml-train-automl-runtime\\\": \\\"1.20.0\\\", \\\"azureml-train-automl-client\\\": \\\"1.20.0\\\", \\\"azureml-tensorboard\\\": \\\"1.20.0\\\", \\\"azureml-telemetry\\\": \\\"1.20.0\\\", \\\"azureml-sdk\\\": \\\"1.20.0\\\", \\\"azureml-samples\\\": \\\"0+unknown\\\", \\\"azureml-pipeline\\\": \\\"1.20.0\\\", \\\"azureml-pipeline-steps\\\": \\\"1.20.0\\\", \\\"azureml-pipeline-core\\\": \\\"1.20.0\\\", \\\"azureml-opendatasets\\\": \\\"1.20.0\\\", \\\"azureml-model-management-sdk\\\": \\\"1.0.1b6.post1\\\", \\\"azureml-mlflow\\\": \\\"1.20.0.post1\\\", \\\"azureml-interpret\\\": \\\"1.20.0\\\", \\\"azureml-explain-model\\\": \\\"1.20.0\\\", \\\"azureml-defaults\\\": \\\"1.20.0\\\", \\\"azureml-dataset-runtime\\\": \\\"1.20.0\\\", \\\"azureml-dataprep\\\": \\\"2.7.3\\\", \\\"azureml-dataprep-rslex\\\": \\\"1.5.0\\\", \\\"azureml-dataprep-native\\\": \\\"27.0.0\\\", \\\"azureml-datadrift\\\": \\\"1.20.0\\\", \\\"azureml-core\\\": \\\"1.20.0\\\", \\\"azureml-contrib-services\\\": \\\"1.20.0\\\", \\\"azureml-contrib-server\\\": \\\"1.20.0\\\", \\\"azureml-contrib-reinforcementlearning\\\": \\\"1.20.0\\\", \\\"azureml-contrib-pipeline-steps\\\": \\\"1.20.0\\\", \\\"azureml-contrib-notebook\\\": \\\"1.20.0\\\", \\\"azureml-contrib-interpret\\\": \\\"1.20.0\\\", \\\"azureml-contrib-gbdt\\\": \\\"1.20.0\\\", \\\"azureml-contrib-fairness\\\": \\\"1.20.0\\\", \\\"azureml-contrib-dataset\\\": \\\"1.20.0\\\", \\\"azureml-cli-common\\\": \\\"1.20.0\\\", \\\"azureml-automl-runtime\\\": \\\"1.20.0\\\", \\\"azureml-automl-core\\\": \\\"1.20.0\\\", \\\"azureml-accel-models\\\": \\\"1.20.0\\\"}\", \"_aml_system_scenario_identification\": \"Remote.Parent\", \"ClientType\": \"SDK\", \"environment_cpu_name\": \"AzureML-AutoML\", \"environment_cpu_label\": \"prod\", \"environment_gpu_name\": \"AzureML-AutoML-GPU\", \"environment_gpu_label\": \"prod\", \"root_attribution\": \"automl\", \"attribution\": \"AutoML\", \"Orchestrator\": \"AutoML\", \"CancelUri\": \"https://southcentralus.experiments.azureml.net/jasmine/v1.0/subscriptions/1b944a9b-fdae-4f97-aeb1-b7eea0beac53/resourceGroups/aml-quickstarts-138666/providers/Microsoft.MachineLearningServices/workspaces/quick-starts-ws-138666/experimentids/27f0d882-b5a9-4a8b-8130-24427f2b980e/cancel/AutoML_90926142-d8d8-4f9d-a593-3d5fff6a318c\", \"ClientSdkVersion\": \"1.21.0\", \"snapshotId\": \"00000000-0000-0000-0000-000000000000\", \"SetupRunId\": \"AutoML_90926142-d8d8-4f9d-a593-3d5fff6a318c_setup\", \"SetupRunContainerId\": \"dcid.AutoML_90926142-d8d8-4f9d-a593-3d5fff6a318c_setup\", \"FeaturizationRunJsonPath\": \"featurizer_container.json\", \"FeaturizationRunId\": \"AutoML_90926142-d8d8-4f9d-a593-3d5fff6a318c_featurize\", \"ProblemInfoJsonString\": \"{\\\"dataset_num_categorical\\\": 0, \\\"is_sparse\\\": false, \\\"subsampling\\\": false, \\\"dataset_classes\\\": 2, \\\"dataset_features\\\": 12, \\\"dataset_samples\\\": 299, \\\"single_frequency_class_detected\\\": false}\", \"ModelExplainRunId\": \"AutoML_90926142-d8d8-4f9d-a593-3d5fff6a318c_ModelExplain\"}, \"tags\": {\"model_explain_run\": \"best_run\", \"_aml_system_azureml.automlComponent\": \"AutoML\", \"pipeline_id\": \"\", \"score\": \"\", \"predicted_cost\": \"\", \"fit_time\": \"\", \"training_percent\": \"\", \"iteration\": \"\", \"run_preprocessor\": \"\", \"run_algorithm\": \"\", \"dynamic_whitelisting_iterations\": \"<25>;<30>;<35>;<40>;<45>;<50>;<55>;<60>;<65>;\", \"automl_best_child_run_id\": \"AutoML_90926142-d8d8-4f9d-a593-3d5fff6a318c_70\", \"model_explain_best_run_child_id\": \"AutoML_90926142-d8d8-4f9d-a593-3d5fff6a318c_70\"}, \"end_time_utc\": \"2021-02-12T07:58:55.212453Z\", \"status\": \"Completed\", \"log_files\": {}, \"log_groups\": [], \"run_duration\": \"0:28:10\"}, \"child_runs\": [{\"run_id\": \"AutoML_90926142-d8d8-4f9d-a593-3d5fff6a318c_0\", \"run_number\": 5, \"metric\": null, \"status\": \"Completed\", \"run_type\": \"azureml.scriptrun\", \"training_percent\": \"100\", \"start_time\": \"2021-02-12T07:39:10.863402Z\", \"end_time\": \"2021-02-12T07:40:07.105213Z\", \"created_time\": \"2021-02-12T07:36:14.515811Z\", \"created_time_dt\": \"2021-02-12T07:36:14.515811Z\", \"duration\": \"0:03:52\", \"iteration\": \"0\", \"goal\": \"accuracy_max\", \"run_name\": \"MaxAbsScaler, LightGBM\", \"run_properties\": \"copy=True\", \"primary_metric\": 0.8059887, \"best_metric\": 0.8059887}, {\"run_id\": \"AutoML_90926142-d8d8-4f9d-a593-3d5fff6a318c_3\", \"run_number\": 6, \"metric\": null, \"status\": \"Completed\", \"run_type\": \"azureml.scriptrun\", \"training_percent\": \"100\", \"start_time\": \"2021-02-12T07:39:23.668554Z\", \"end_time\": \"2021-02-12T07:42:57.574978Z\", \"created_time\": \"2021-02-12T07:36:14.669661Z\", \"created_time_dt\": \"2021-02-12T07:36:14.669661Z\", \"duration\": \"0:06:42\", \"iteration\": \"3\", \"goal\": \"accuracy_max\", \"run_name\": \"MinMaxScaler, RandomForest\", \"run_properties\": \"copy=True, feature_range=(0, 1\", \"primary_metric\": 0.8359887, \"best_metric\": 0.85271186}, {\"run_id\": \"AutoML_90926142-d8d8-4f9d-a593-3d5fff6a318c_2\", \"run_number\": 7, \"metric\": null, \"status\": \"Completed\", \"run_type\": \"azureml.scriptrun\", \"training_percent\": \"100\", \"start_time\": \"2021-02-12T07:36:27.014917Z\", \"end_time\": \"2021-02-12T07:37:17.749454Z\", \"created_time\": \"2021-02-12T07:36:14.664863Z\", \"created_time_dt\": \"2021-02-12T07:36:14.664863Z\", \"duration\": \"0:01:03\", \"iteration\": \"2\", \"goal\": \"accuracy_max\", \"run_name\": \"MinMaxScaler, RandomForest\", \"run_properties\": \"copy=True, feature_range=(0, 1\", \"primary_metric\": 0.85271186, \"best_metric\": 0.85271186}, {\"run_id\": \"AutoML_90926142-d8d8-4f9d-a593-3d5fff6a318c_1\", \"run_number\": 8, \"metric\": null, \"status\": \"Completed\", \"run_type\": \"azureml.scriptrun\", \"training_percent\": \"100\", \"start_time\": \"2021-02-12T07:38:17.278038Z\", \"end_time\": \"2021-02-12T07:39:08.26701Z\", \"created_time\": \"2021-02-12T07:36:14.686544Z\", \"created_time_dt\": \"2021-02-12T07:36:14.686544Z\", \"duration\": \"0:02:53\", \"iteration\": \"1\", \"goal\": \"accuracy_max\", \"run_name\": \"MaxAbsScaler, XGBoostClassifier\", \"run_properties\": \"copy=True\", \"primary_metric\": 0.8259322, \"best_metric\": 0.8259322}, {\"run_id\": \"AutoML_90926142-d8d8-4f9d-a593-3d5fff6a318c_4\", \"run_number\": 9, \"metric\": null, \"status\": \"Completed\", \"run_type\": \"azureml.scriptrun\", \"training_percent\": \"100\", \"start_time\": \"2021-02-12T07:37:18.26997Z\", \"end_time\": \"2021-02-12T07:38:15.432849Z\", \"created_time\": \"2021-02-12T07:36:14.675047Z\", \"created_time_dt\": \"2021-02-12T07:36:14.675047Z\", \"duration\": \"0:02:00\", \"iteration\": \"4\", \"goal\": \"accuracy_max\", \"run_name\": \"MinMaxScaler, RandomForest\", \"run_properties\": \"copy=True, feature_range=(0, 1\", \"primary_metric\": 0.80915254, \"best_metric\": 0.85271186}, {\"run_id\": \"AutoML_90926142-d8d8-4f9d-a593-3d5fff6a318c_5\", \"run_number\": 10, \"metric\": null, \"status\": \"Completed\", \"run_type\": \"azureml.scriptrun\", \"training_percent\": \"100\", \"start_time\": \"2021-02-12T07:39:20.894384Z\", \"end_time\": \"2021-02-12T07:43:10.888581Z\", \"created_time\": \"2021-02-12T07:37:21.789761Z\", \"created_time_dt\": \"2021-02-12T07:37:21.789761Z\", \"duration\": \"0:05:49\", \"iteration\": \"5\", \"goal\": \"accuracy_max\", \"run_name\": \"SparseNormalizer, XGBoostClassifier\", \"run_properties\": \"<azureml.automl.runtime.shared.model_wrappers.SparseNormalizer object at 0x7efc827cf668\", \"primary_metric\": 0.83282486, \"best_metric\": 0.85271186}, {\"run_id\": \"AutoML_90926142-d8d8-4f9d-a593-3d5fff6a318c_6\", \"run_number\": 11, \"metric\": null, \"status\": \"Completed\", \"run_type\": \"azureml.scriptrun\", \"training_percent\": \"100\", \"start_time\": \"2021-02-12T07:39:24.293457Z\", \"end_time\": \"2021-02-12T07:42:57.875835Z\", \"created_time\": \"2021-02-12T07:38:18.367102Z\", \"created_time_dt\": \"2021-02-12T07:38:18.367102Z\", \"duration\": \"0:04:39\", \"iteration\": \"6\", \"goal\": \"accuracy_max\", \"run_name\": \"MinMaxScaler, SVM\", \"run_properties\": \"copy=True, feature_range=(0, 1\", \"primary_metric\": 0.70909605, \"best_metric\": 0.85271186}, {\"run_id\": \"AutoML_90926142-d8d8-4f9d-a593-3d5fff6a318c_7\", \"run_number\": 12, \"metric\": null, \"status\": \"Completed\", \"run_type\": \"azureml.scriptrun\", \"training_percent\": \"100\", \"start_time\": \"2021-02-12T07:39:28.043585Z\", \"end_time\": \"2021-02-12T07:43:05.149087Z\", \"created_time\": \"2021-02-12T07:39:10.783946Z\", \"created_time_dt\": \"2021-02-12T07:39:10.783946Z\", \"duration\": \"0:03:54\", \"iteration\": \"7\", \"goal\": \"accuracy_max\", \"run_name\": \"SparseNormalizer, XGBoostClassifier\", \"run_properties\": \"<azureml.automl.runtime.shared.model_wrappers.SparseNormalizer object at 0x7ff3c86894a8\", \"primary_metric\": 0.82615819, \"best_metric\": 0.85271186}, {\"run_id\": \"AutoML_90926142-d8d8-4f9d-a593-3d5fff6a318c_8\", \"run_number\": 13, \"metric\": null, \"status\": \"Completed\", \"run_type\": \"azureml.scriptrun\", \"training_percent\": \"100\", \"start_time\": \"2021-02-12T07:40:20.367026Z\", \"end_time\": \"2021-02-12T07:41:09.282081Z\", \"created_time\": \"2021-02-12T07:40:10.002682Z\", \"created_time_dt\": \"2021-02-12T07:40:10.002682Z\", \"duration\": \"0:00:59\", \"iteration\": \"8\", \"goal\": \"accuracy_max\", \"run_name\": \"SparseNormalizer, XGBoostClassifier\", \"run_properties\": \"<azureml.automl.runtime.shared.model_wrappers.SparseNormalizer object at 0x7f673f19a390\", \"primary_metric\": 0.84627119, \"best_metric\": 0.85271186}, {\"run_id\": \"AutoML_90926142-d8d8-4f9d-a593-3d5fff6a318c_9\", \"run_number\": 14, \"metric\": null, \"status\": \"Completed\", \"run_type\": \"azureml.scriptrun\", \"training_percent\": \"100\", \"start_time\": \"2021-02-12T07:41:25.15274Z\", \"end_time\": \"2021-02-12T07:42:19.825771Z\", \"created_time\": \"2021-02-12T07:41:12.44773Z\", \"created_time_dt\": \"2021-02-12T07:41:12.44773Z\", \"duration\": \"0:01:07\", \"iteration\": \"9\", \"goal\": \"accuracy_max\", \"run_name\": \"RobustScaler, SVM\", \"run_properties\": \"copy=True, quantile_range=[10, 90], with_centering=True,\\n             with_scaling=True\", \"primary_metric\": 0.70587571, \"best_metric\": 0.85271186}, {\"run_id\": \"AutoML_90926142-d8d8-4f9d-a593-3d5fff6a318c_10\", \"run_number\": 15, \"metric\": null, \"status\": \"Completed\", \"run_type\": \"azureml.scriptrun\", \"training_percent\": \"100\", \"start_time\": \"2021-02-12T07:42:35.340744Z\", \"end_time\": \"2021-02-12T07:43:26.922938Z\", \"created_time\": \"2021-02-12T07:42:23.598769Z\", \"created_time_dt\": \"2021-02-12T07:42:23.598769Z\", \"duration\": \"0:01:03\", \"iteration\": \"10\", \"goal\": \"accuracy_max\", \"run_name\": \"MaxAbsScaler, RandomForest\", \"run_properties\": \"copy=True\", \"primary_metric\": 0.76271186, \"best_metric\": 0.85271186}, {\"run_id\": \"AutoML_90926142-d8d8-4f9d-a593-3d5fff6a318c_11\", \"run_number\": 16, \"metric\": null, \"status\": \"Completed\", \"run_type\": \"azureml.scriptrun\", \"training_percent\": \"100\", \"start_time\": \"2021-02-12T07:43:11.144314Z\", \"end_time\": \"2021-02-12T07:44:04.60794Z\", \"created_time\": \"2021-02-12T07:43:00.113646Z\", \"created_time_dt\": \"2021-02-12T07:43:00.113646Z\", \"duration\": \"0:01:04\", \"iteration\": \"11\", \"goal\": \"accuracy_max\", \"run_name\": \"SparseNormalizer, LightGBM\", \"run_properties\": \"<azureml.automl.runtime.shared.model_wrappers.SparseNormalizer object at 0x7f64d98d0860\", \"primary_metric\": 0.83299435, \"best_metric\": 0.85271186}, {\"run_id\": \"AutoML_90926142-d8d8-4f9d-a593-3d5fff6a318c_12\", \"run_number\": 17, \"metric\": null, \"status\": \"Completed\", \"run_type\": \"azureml.scriptrun\", \"training_percent\": \"100\", \"start_time\": \"2021-02-12T07:43:13.091028Z\", \"end_time\": \"2021-02-12T07:44:11.07013Z\", \"created_time\": \"2021-02-12T07:43:00.252047Z\", \"created_time_dt\": \"2021-02-12T07:43:00.252047Z\", \"duration\": \"0:01:10\", \"iteration\": \"12\", \"goal\": \"accuracy_max\", \"run_name\": \"StandardScalerWrapper, RandomForest\", \"run_properties\": \"<azureml.automl.runtime.shared.model_wrappers.StandardScalerWrapper object at 0x7fb5e85e2080\", \"primary_metric\": 0.84621469, \"best_metric\": 0.85271186}, {\"run_id\": \"AutoML_90926142-d8d8-4f9d-a593-3d5fff6a318c_13\", \"run_number\": 18, \"metric\": null, \"status\": \"Completed\", \"run_type\": \"azureml.scriptrun\", \"training_percent\": \"100\", \"start_time\": \"2021-02-12T07:43:19.536827Z\", \"end_time\": \"2021-02-12T07:44:05.742541Z\", \"created_time\": \"2021-02-12T07:43:07.422429Z\", \"created_time_dt\": \"2021-02-12T07:43:07.422429Z\", \"duration\": \"0:00:58\", \"iteration\": \"13\", \"goal\": \"accuracy_max\", \"run_name\": \"StandardScalerWrapper, LightGBM\", \"run_properties\": \"<azureml.automl.runtime.shared.model_wrappers.StandardScalerWrapper object at 0x7f6d08d36710\", \"primary_metric\": 0.83937853, \"best_metric\": 0.85271186}, {\"run_id\": \"AutoML_90926142-d8d8-4f9d-a593-3d5fff6a318c_14\", \"run_number\": 19, \"metric\": null, \"status\": \"Completed\", \"run_type\": \"azureml.scriptrun\", \"training_percent\": \"100\", \"start_time\": \"2021-02-12T07:43:57.473133Z\", \"end_time\": \"2021-02-12T07:45:01.288969Z\", \"created_time\": \"2021-02-12T07:43:13.565018Z\", \"created_time_dt\": \"2021-02-12T07:43:13.565018Z\", \"duration\": \"0:01:47\", \"iteration\": \"14\", \"goal\": \"accuracy_max\", \"run_name\": \"StandardScalerWrapper, LightGBM\", \"run_properties\": \"<azureml.automl.runtime.shared.model_wrappers.StandardScalerWrapper object at 0x7f9868a86438\", \"primary_metric\": 0.80254237, \"best_metric\": 0.85271186}, {\"run_id\": \"AutoML_90926142-d8d8-4f9d-a593-3d5fff6a318c_15\", \"run_number\": 20, \"metric\": null, \"status\": \"Completed\", \"run_type\": \"azureml.scriptrun\", \"training_percent\": \"100\", \"start_time\": \"2021-02-12T07:43:39.98085Z\", \"end_time\": \"2021-02-12T07:44:30.941863Z\", \"created_time\": \"2021-02-12T07:43:29.199933Z\", \"created_time_dt\": \"2021-02-12T07:43:29.199933Z\", \"duration\": \"0:01:01\", \"iteration\": \"15\", \"goal\": \"accuracy_max\", \"run_name\": \"SparseNormalizer, XGBoostClassifier\", \"run_properties\": \"<azureml.automl.runtime.shared.model_wrappers.SparseNormalizer object at 0x7ff339662208\", \"primary_metric\": 0.80937853, \"best_metric\": 0.85271186}, {\"run_id\": \"AutoML_90926142-d8d8-4f9d-a593-3d5fff6a318c_16\", \"run_number\": 21, \"metric\": null, \"status\": \"Completed\", \"run_type\": \"azureml.scriptrun\", \"training_percent\": \"100\", \"start_time\": \"2021-02-12T07:44:17.227188Z\", \"end_time\": \"2021-02-12T07:45:10.878576Z\", \"created_time\": \"2021-02-12T07:44:06.785532Z\", \"created_time_dt\": \"2021-02-12T07:44:06.785532Z\", \"duration\": \"0:01:04\", \"iteration\": \"16\", \"goal\": \"accuracy_max\", \"run_name\": \"SparseNormalizer, XGBoostClassifier\", \"run_properties\": \"<azureml.automl.runtime.shared.model_wrappers.SparseNormalizer object at 0x7f3fe5524c88\", \"primary_metric\": 0.83966102, \"best_metric\": 0.85271186}, {\"run_id\": \"AutoML_90926142-d8d8-4f9d-a593-3d5fff6a318c_17\", \"run_number\": 22, \"metric\": null, \"status\": \"Completed\", \"run_type\": \"azureml.scriptrun\", \"training_percent\": \"100\", \"start_time\": \"2021-02-12T07:44:21.423918Z\", \"end_time\": \"2021-02-12T07:45:15.679081Z\", \"created_time\": \"2021-02-12T07:44:10.95422Z\", \"created_time_dt\": \"2021-02-12T07:44:10.95422Z\", \"duration\": \"0:01:04\", \"iteration\": \"17\", \"goal\": \"accuracy_max\", \"run_name\": \"SparseNormalizer, XGBoostClassifier\", \"run_properties\": \"<azureml.automl.runtime.shared.model_wrappers.SparseNormalizer object at 0x7fd7666da828\", \"primary_metric\": 0.81949153, \"best_metric\": 0.85271186}, {\"run_id\": \"AutoML_90926142-d8d8-4f9d-a593-3d5fff6a318c_18\", \"run_number\": 23, \"metric\": null, \"status\": \"Completed\", \"run_type\": \"azureml.scriptrun\", \"training_percent\": \"100\", \"start_time\": \"2021-02-12T07:44:26.856597Z\", \"end_time\": \"2021-02-12T07:45:18.671834Z\", \"created_time\": \"2021-02-12T07:44:15.036657Z\", \"created_time_dt\": \"2021-02-12T07:44:15.036657Z\", \"duration\": \"0:01:03\", \"iteration\": \"18\", \"goal\": \"accuracy_max\", \"run_name\": \"SparseNormalizer, RandomForest\", \"run_properties\": \"<azureml.automl.runtime.shared.model_wrappers.SparseNormalizer object at 0x7f91150e0a58\", \"primary_metric\": 0.81943503, \"best_metric\": 0.85271186}, {\"run_id\": \"AutoML_90926142-d8d8-4f9d-a593-3d5fff6a318c_19\", \"run_number\": 24, \"metric\": null, \"status\": \"Completed\", \"run_type\": \"azureml.scriptrun\", \"training_percent\": \"100\", \"start_time\": \"2021-02-12T07:44:43.518222Z\", \"end_time\": \"2021-02-12T07:45:35.173235Z\", \"created_time\": \"2021-02-12T07:44:33.415354Z\", \"created_time_dt\": \"2021-02-12T07:44:33.415354Z\", \"duration\": \"0:01:01\", \"iteration\": \"19\", \"goal\": \"accuracy_max\", \"run_name\": \"SparseNormalizer, LightGBM\", \"run_properties\": \"<azureml.automl.runtime.shared.model_wrappers.SparseNormalizer object at 0x7f1cbb84f390\", \"primary_metric\": 0.83282486, \"best_metric\": 0.85271186}, {\"run_id\": \"AutoML_90926142-d8d8-4f9d-a593-3d5fff6a318c_20\", \"run_number\": 25, \"metric\": null, \"status\": \"Completed\", \"run_type\": \"azureml.scriptrun\", \"training_percent\": \"100\", \"start_time\": \"2021-02-12T07:45:18.505443Z\", \"end_time\": \"2021-02-12T07:46:17.439517Z\", \"created_time\": \"2021-02-12T07:45:03.827631Z\", \"created_time_dt\": \"2021-02-12T07:45:03.827631Z\", \"duration\": \"0:01:13\", \"iteration\": \"20\", \"goal\": \"accuracy_max\", \"run_name\": \"RobustScaler, LightGBM\", \"run_properties\": \"copy=True, quantile_range=[25, 75], with_centering=False,\\n             with_scaling=False\", \"primary_metric\": 0.80276836, \"best_metric\": 0.85271186}, {\"run_id\": \"AutoML_90926142-d8d8-4f9d-a593-3d5fff6a318c_21\", \"run_number\": 26, \"metric\": null, \"status\": \"Completed\", \"run_type\": \"azureml.scriptrun\", \"training_percent\": \"100\", \"start_time\": \"2021-02-12T07:45:25.549188Z\", \"end_time\": \"2021-02-12T07:46:23.780425Z\", \"created_time\": \"2021-02-12T07:45:13.23016Z\", \"created_time_dt\": \"2021-02-12T07:45:13.23016Z\", \"duration\": \"0:01:10\", \"iteration\": \"21\", \"goal\": \"accuracy_max\", \"run_name\": \"SparseNormalizer, ExtremeRandomTrees\", \"run_properties\": \"<azureml.automl.runtime.shared.model_wrappers.SparseNormalizer object at 0x7f8c0496e550\", \"primary_metric\": 0.76943503, \"best_metric\": 0.85271186}, {\"run_id\": \"AutoML_90926142-d8d8-4f9d-a593-3d5fff6a318c_22\", \"run_number\": 27, \"metric\": null, \"status\": \"Completed\", \"run_type\": \"azureml.scriptrun\", \"training_percent\": \"100\", \"start_time\": \"2021-02-12T07:45:29.565117Z\", \"end_time\": \"2021-02-12T07:46:27.719629Z\", \"created_time\": \"2021-02-12T07:45:18.213417Z\", \"created_time_dt\": \"2021-02-12T07:45:18.213417Z\", \"duration\": \"0:01:09\", \"iteration\": \"22\", \"goal\": \"accuracy_max\", \"run_name\": \"StandardScalerWrapper, GradientBoosting\", \"run_properties\": \"<azureml.automl.runtime.shared.model_wrappers.StandardScalerWrapper object at 0x7f402da545f8\", \"primary_metric\": 0.82254237, \"best_metric\": 0.85271186}, {\"run_id\": \"AutoML_90926142-d8d8-4f9d-a593-3d5fff6a318c_23\", \"run_number\": 28, \"metric\": null, \"status\": \"Completed\", \"run_type\": \"azureml.scriptrun\", \"training_percent\": \"100\", \"start_time\": \"2021-02-12T07:45:36.451257Z\", \"end_time\": \"2021-02-12T07:46:22.028189Z\", \"created_time\": \"2021-02-12T07:45:22.772091Z\", \"created_time_dt\": \"2021-02-12T07:45:22.772091Z\", \"duration\": \"0:00:59\", \"iteration\": \"23\", \"goal\": \"accuracy_max\", \"run_name\": \"MaxAbsScaler, ExtremeRandomTrees\", \"run_properties\": \"copy=True\", \"primary_metric\": 0.8259887, \"best_metric\": 0.85271186}, {\"run_id\": \"AutoML_90926142-d8d8-4f9d-a593-3d5fff6a318c_24\", \"run_number\": 29, \"metric\": null, \"status\": \"Completed\", \"run_type\": \"azureml.scriptrun\", \"training_percent\": \"100\", \"start_time\": \"2021-02-12T07:46:08.505939Z\", \"end_time\": \"2021-02-12T07:47:01.911806Z\", \"created_time\": \"2021-02-12T07:45:38.231153Z\", \"created_time_dt\": \"2021-02-12T07:45:38.231153Z\", \"duration\": \"0:01:23\", \"iteration\": \"24\", \"goal\": \"accuracy_max\", \"run_name\": \"MaxAbsScaler, ExtremeRandomTrees\", \"run_properties\": \"copy=True\", \"primary_metric\": 0.78937853, \"best_metric\": 0.85271186}, {\"run_id\": \"AutoML_90926142-d8d8-4f9d-a593-3d5fff6a318c_25\", \"run_number\": 30, \"metric\": null, \"status\": \"Completed\", \"run_type\": \"azureml.scriptrun\", \"training_percent\": \"100\", \"start_time\": \"2021-02-12T07:46:31.784836Z\", \"end_time\": \"2021-02-12T07:47:32.515859Z\", \"created_time\": \"2021-02-12T07:46:21.249973Z\", \"created_time_dt\": \"2021-02-12T07:46:21.249973Z\", \"duration\": \"0:01:11\", \"iteration\": \"25\", \"goal\": \"accuracy_max\", \"run_name\": \"MinMaxScaler, RandomForest\", \"run_properties\": \"copy=True, feature_range=(0, 1\", \"primary_metric\": 0.80237288, \"best_metric\": 0.85271186}, {\"run_id\": \"AutoML_90926142-d8d8-4f9d-a593-3d5fff6a318c_26\", \"run_number\": 31, \"metric\": null, \"status\": \"Completed\", \"run_type\": \"azureml.scriptrun\", \"training_percent\": \"100\", \"start_time\": \"2021-02-12T07:46:36.318512Z\", \"end_time\": \"2021-02-12T07:47:27.274864Z\", \"created_time\": \"2021-02-12T07:46:25.579639Z\", \"created_time_dt\": \"2021-02-12T07:46:25.579639Z\", \"duration\": \"0:01:01\", \"iteration\": \"26\", \"goal\": \"accuracy_max\", \"run_name\": \"SparseNormalizer, GradientBoosting\", \"run_properties\": \"<azureml.automl.runtime.shared.model_wrappers.SparseNormalizer object at 0x7f08854549e8\", \"primary_metric\": 0.78282486, \"best_metric\": 0.85271186}, {\"run_id\": \"AutoML_90926142-d8d8-4f9d-a593-3d5fff6a318c_27\", \"run_number\": 32, \"metric\": null, \"status\": \"Completed\", \"run_type\": \"azureml.scriptrun\", \"training_percent\": \"100\", \"start_time\": \"2021-02-12T07:46:38.81245Z\", \"end_time\": \"2021-02-12T07:47:26.59551Z\", \"created_time\": \"2021-02-12T07:46:25.716173Z\", \"created_time_dt\": \"2021-02-12T07:46:25.716173Z\", \"duration\": \"0:01:00\", \"iteration\": \"27\", \"goal\": \"accuracy_max\", \"run_name\": \"SparseNormalizer, LightGBM\", \"run_properties\": \"<azureml.automl.runtime.shared.model_wrappers.SparseNormalizer object at 0x7f5a85fe05c0\", \"primary_metric\": 0.86299435, \"best_metric\": 0.86299435}, {\"run_id\": \"AutoML_90926142-d8d8-4f9d-a593-3d5fff6a318c_28\", \"run_number\": 33, \"metric\": null, \"status\": \"Completed\", \"run_type\": \"azureml.scriptrun\", \"training_percent\": \"100\", \"start_time\": \"2021-02-12T07:46:43.466918Z\", \"end_time\": \"2021-02-12T07:47:33.241647Z\", \"created_time\": \"2021-02-12T07:46:30.464145Z\", \"created_time_dt\": \"2021-02-12T07:46:30.464145Z\", \"duration\": \"0:01:02\", \"iteration\": \"28\", \"goal\": \"accuracy_max\", \"run_name\": \"StandardScalerWrapper, LightGBM\", \"run_properties\": \"<azureml.automl.runtime.shared.model_wrappers.StandardScalerWrapper object at 0x7f22300398d0\", \"primary_metric\": 0.8159322, \"best_metric\": 0.86299435}, {\"run_id\": \"AutoML_90926142-d8d8-4f9d-a593-3d5fff6a318c_29\", \"run_number\": 34, \"metric\": null, \"status\": \"Completed\", \"run_type\": \"azureml.scriptrun\", \"training_percent\": \"100\", \"start_time\": \"2021-02-12T07:47:17.398242Z\", \"end_time\": \"2021-02-12T07:48:09.374537Z\", \"created_time\": \"2021-02-12T07:47:04.981413Z\", \"created_time_dt\": \"2021-02-12T07:47:04.981413Z\", \"duration\": \"0:01:04\", \"iteration\": \"29\", \"goal\": \"accuracy_max\", \"run_name\": \"StandardScalerWrapper, XGBoostClassifier\", \"run_properties\": \"<azureml.automl.runtime.shared.model_wrappers.StandardScalerWrapper object at 0x7f12cc9d65c0\", \"primary_metric\": 0.81937853, \"best_metric\": 0.86299435}, {\"run_id\": \"AutoML_90926142-d8d8-4f9d-a593-3d5fff6a318c_30\", \"run_number\": 35, \"metric\": null, \"status\": \"Completed\", \"run_type\": \"azureml.scriptrun\", \"training_percent\": \"100\", \"start_time\": \"2021-02-12T07:47:43.89775Z\", \"end_time\": \"2021-02-12T07:48:36.305595Z\", \"created_time\": \"2021-02-12T07:47:30.524412Z\", \"created_time_dt\": \"2021-02-12T07:47:30.524412Z\", \"duration\": \"0:01:05\", \"iteration\": \"30\", \"goal\": \"accuracy_max\", \"run_name\": \"PCA, LightGBM\", \"run_properties\": \"copy=True, iterated_power='auto', n_components=0.3563157894736842,\\n    random_state=None, svd_solver='auto', tol=0.0, whiten=True\", \"primary_metric\": 0.61548023, \"best_metric\": 0.86299435}, {\"run_id\": \"AutoML_90926142-d8d8-4f9d-a593-3d5fff6a318c_31\", \"run_number\": 36, \"metric\": null, \"status\": \"Completed\", \"run_type\": \"azureml.scriptrun\", \"training_percent\": \"100\", \"start_time\": \"2021-02-12T07:47:43.740758Z\", \"end_time\": \"2021-02-12T07:48:41.653994Z\", \"created_time\": \"2021-02-12T07:47:30.688819Z\", \"created_time_dt\": \"2021-02-12T07:47:30.688819Z\", \"duration\": \"0:01:10\", \"iteration\": \"31\", \"goal\": \"accuracy_max\", \"run_name\": \"SparseNormalizer, LightGBM\", \"run_properties\": \"<azureml.automl.runtime.shared.model_wrappers.SparseNormalizer object at 0x7f08e05a2a58\", \"primary_metric\": 0.80271186, \"best_metric\": 0.86299435}, {\"run_id\": \"AutoML_90926142-d8d8-4f9d-a593-3d5fff6a318c_33\", \"run_number\": 37, \"metric\": null, \"status\": \"Completed\", \"run_type\": \"azureml.scriptrun\", \"training_percent\": \"100\", \"start_time\": \"2021-02-12T07:47:49.318763Z\", \"end_time\": \"2021-02-12T07:48:51.164928Z\", \"created_time\": \"2021-02-12T07:47:35.37927Z\", \"created_time_dt\": \"2021-02-12T07:47:35.37927Z\", \"duration\": \"0:01:15\", \"iteration\": \"33\", \"goal\": \"accuracy_max\", \"run_name\": \"MaxAbsScaler, LightGBM\", \"run_properties\": \"copy=True\", \"primary_metric\": 0.79920904, \"best_metric\": 0.86299435}, {\"run_id\": \"AutoML_90926142-d8d8-4f9d-a593-3d5fff6a318c_32\", \"run_number\": 38, \"metric\": null, \"status\": \"Completed\", \"run_type\": \"azureml.scriptrun\", \"training_percent\": \"100\", \"start_time\": \"2021-02-12T07:47:48.861227Z\", \"end_time\": \"2021-02-12T07:48:47.589492Z\", \"created_time\": \"2021-02-12T07:47:35.40587Z\", \"created_time_dt\": \"2021-02-12T07:47:35.40587Z\", \"duration\": \"0:01:12\", \"iteration\": \"32\", \"goal\": \"accuracy_max\", \"run_name\": \"SparseNormalizer, LightGBM\", \"run_properties\": \"<azureml.automl.runtime.shared.model_wrappers.SparseNormalizer object at 0x7f7afc397898\", \"primary_metric\": 0.82949153, \"best_metric\": 0.86299435}, {\"run_id\": \"AutoML_90926142-d8d8-4f9d-a593-3d5fff6a318c_34\", \"run_number\": 39, \"metric\": null, \"status\": \"Completed\", \"run_type\": \"azureml.scriptrun\", \"training_percent\": \"100\", \"start_time\": \"2021-02-12T07:48:25.092554Z\", \"end_time\": \"2021-02-12T07:49:11.478815Z\", \"created_time\": \"2021-02-12T07:48:11.666078Z\", \"created_time_dt\": \"2021-02-12T07:48:11.666078Z\", \"duration\": \"0:00:59\", \"iteration\": \"34\", \"goal\": \"accuracy_max\", \"run_name\": \"MaxAbsScaler, ExtremeRandomTrees\", \"run_properties\": \"copy=True\", \"primary_metric\": 0.84954802, \"best_metric\": 0.86299435}, {\"run_id\": \"AutoML_90926142-d8d8-4f9d-a593-3d5fff6a318c_35\", \"run_number\": 40, \"metric\": null, \"status\": \"Completed\", \"run_type\": \"azureml.scriptrun\", \"training_percent\": \"100\", \"start_time\": \"2021-02-12T07:48:55.569485Z\", \"end_time\": \"2021-02-12T07:49:47.548563Z\", \"created_time\": \"2021-02-12T07:48:40.04218Z\", \"created_time_dt\": \"2021-02-12T07:48:40.04218Z\", \"duration\": \"0:01:07\", \"iteration\": \"35\", \"goal\": \"accuracy_max\", \"run_name\": \"MinMaxScaler, LightGBM\", \"run_properties\": \"copy=True, feature_range=(0, 1\", \"primary_metric\": 0.84276836, \"best_metric\": 0.86299435}, {\"run_id\": \"AutoML_90926142-d8d8-4f9d-a593-3d5fff6a318c_36\", \"run_number\": 41, \"metric\": null, \"status\": \"Completed\", \"run_type\": \"azureml.scriptrun\", \"training_percent\": \"100\", \"start_time\": \"2021-02-12T07:49:02.313053Z\", \"end_time\": \"2021-02-12T07:49:52.312266Z\", \"created_time\": \"2021-02-12T07:48:46.307834Z\", \"created_time_dt\": \"2021-02-12T07:48:46.307834Z\", \"duration\": \"0:01:06\", \"iteration\": \"36\", \"goal\": \"accuracy_max\", \"run_name\": \"SparseNormalizer, XGBoostClassifier\", \"run_properties\": \"<azureml.automl.runtime.shared.model_wrappers.SparseNormalizer object at 0x7ff0a2beb898\", \"primary_metric\": 0.84293785, \"best_metric\": 0.86299435}, {\"run_id\": \"AutoML_90926142-d8d8-4f9d-a593-3d5fff6a318c_37\", \"run_number\": 42, \"metric\": null, \"status\": \"Completed\", \"run_type\": \"azureml.scriptrun\", \"training_percent\": \"100\", \"start_time\": \"2021-02-12T07:49:08.548133Z\", \"end_time\": \"2021-02-12T07:49:58.807375Z\", \"created_time\": \"2021-02-12T07:48:53.257839Z\", \"created_time_dt\": \"2021-02-12T07:48:53.257839Z\", \"duration\": \"0:01:05\", \"iteration\": \"37\", \"goal\": \"accuracy_max\", \"run_name\": \"MinMaxScaler, LogisticRegression\", \"run_properties\": \"copy=True, feature_range=(0, 1\", \"primary_metric\": 0.8160452, \"best_metric\": 0.86299435}, {\"run_id\": \"AutoML_90926142-d8d8-4f9d-a593-3d5fff6a318c_38\", \"run_number\": 43, \"metric\": null, \"status\": \"Completed\", \"run_type\": \"azureml.scriptrun\", \"training_percent\": \"100\", \"start_time\": \"2021-02-12T07:49:07.334237Z\", \"end_time\": \"2021-02-12T07:49:57.358661Z\", \"created_time\": \"2021-02-12T07:48:53.403456Z\", \"created_time_dt\": \"2021-02-12T07:48:53.403456Z\", \"duration\": \"0:01:03\", \"iteration\": \"38\", \"goal\": \"accuracy_max\", \"run_name\": \"RobustScaler, LightGBM\", \"run_properties\": \"copy=True, quantile_range=[10, 90], with_centering=True,\\n             with_scaling=True\", \"primary_metric\": 0.81937853, \"best_metric\": 0.86299435}, {\"run_id\": \"AutoML_90926142-d8d8-4f9d-a593-3d5fff6a318c_39\", \"run_number\": 44, \"metric\": null, \"status\": \"Completed\", \"run_type\": \"azureml.scriptrun\", \"training_percent\": \"100\", \"start_time\": \"2021-02-12T07:49:27.516292Z\", \"end_time\": \"2021-02-12T07:50:17.33606Z\", \"created_time\": \"2021-02-12T07:49:13.705575Z\", \"created_time_dt\": \"2021-02-12T07:49:13.705575Z\", \"duration\": \"0:01:03\", \"iteration\": \"39\", \"goal\": \"accuracy_max\", \"run_name\": \"MaxAbsScaler, LightGBM\", \"run_properties\": \"copy=True\", \"primary_metric\": 0.84259887, \"best_metric\": 0.86299435}, {\"run_id\": \"AutoML_90926142-d8d8-4f9d-a593-3d5fff6a318c_40\", \"run_number\": 45, \"metric\": null, \"status\": \"Completed\", \"run_type\": \"azureml.scriptrun\", \"training_percent\": \"100\", \"start_time\": \"2021-02-12T07:50:04.375978Z\", \"end_time\": \"2021-02-12T07:50:53.366585Z\", \"created_time\": \"2021-02-12T07:49:51.466392Z\", \"created_time_dt\": \"2021-02-12T07:49:51.466392Z\", \"duration\": \"0:01:01\", \"iteration\": \"40\", \"goal\": \"accuracy_max\", \"run_name\": \"SparseNormalizer, LightGBM\", \"run_properties\": \"<azureml.automl.runtime.shared.model_wrappers.SparseNormalizer object at 0x7fb5e2fd4b70\", \"primary_metric\": 0.83288136, \"best_metric\": 0.86299435}, {\"run_id\": \"AutoML_90926142-d8d8-4f9d-a593-3d5fff6a318c_41\", \"run_number\": 46, \"metric\": null, \"status\": \"Completed\", \"run_type\": \"azureml.scriptrun\", \"training_percent\": \"100\", \"start_time\": \"2021-02-12T07:50:09.745747Z\", \"end_time\": \"2021-02-12T07:50:55.854694Z\", \"created_time\": \"2021-02-12T07:49:56.322548Z\", \"created_time_dt\": \"2021-02-12T07:49:56.322548Z\", \"duration\": \"0:00:59\", \"iteration\": \"41\", \"goal\": \"accuracy_max\", \"run_name\": \"StandardScalerWrapper, XGBoostClassifier\", \"run_properties\": \"<azureml.automl.runtime.shared.model_wrappers.StandardScalerWrapper object at 0x7fae3f103c88\", \"primary_metric\": 0.83276836, \"best_metric\": 0.86299435}, {\"run_id\": \"AutoML_90926142-d8d8-4f9d-a593-3d5fff6a318c_43\", \"run_number\": 47, \"metric\": null, \"status\": \"Completed\", \"run_type\": \"azureml.scriptrun\", \"training_percent\": \"100\", \"start_time\": \"2021-02-12T07:50:14.545601Z\", \"end_time\": \"2021-02-12T07:51:12.997215Z\", \"created_time\": \"2021-02-12T07:50:01.693679Z\", \"created_time_dt\": \"2021-02-12T07:50:01.693679Z\", \"duration\": \"0:01:11\", \"iteration\": \"43\", \"goal\": \"accuracy_max\", \"run_name\": \"MinMaxScaler, LightGBM\", \"run_properties\": \"copy=True, feature_range=(0, 1\", \"primary_metric\": 0.82265537, \"best_metric\": 0.86299435}, {\"run_id\": \"AutoML_90926142-d8d8-4f9d-a593-3d5fff6a318c_42\", \"run_number\": 48, \"metric\": null, \"status\": \"Completed\", \"run_type\": \"azureml.scriptrun\", \"training_percent\": \"100\", \"start_time\": \"2021-02-12T07:50:14.843337Z\", \"end_time\": \"2021-02-12T07:51:07.010559Z\", \"created_time\": \"2021-02-12T07:50:01.739014Z\", \"created_time_dt\": \"2021-02-12T07:50:01.739014Z\", \"duration\": \"0:01:05\", \"iteration\": \"42\", \"goal\": \"accuracy_max\", \"run_name\": \"SparseNormalizer, XGBoostClassifier\", \"run_properties\": \"<azureml.automl.runtime.shared.model_wrappers.SparseNormalizer object at 0x7fa0f0fd72e8\", \"primary_metric\": 0.85293785, \"best_metric\": 0.86299435}, {\"run_id\": \"AutoML_90926142-d8d8-4f9d-a593-3d5fff6a318c_44\", \"run_number\": 49, \"metric\": null, \"status\": \"Completed\", \"run_type\": \"azureml.scriptrun\", \"training_percent\": \"100\", \"start_time\": \"2021-02-12T07:50:30.680582Z\", \"end_time\": \"2021-02-12T07:51:33.271Z\", \"created_time\": \"2021-02-12T07:50:19.686703Z\", \"created_time_dt\": \"2021-02-12T07:50:19.686703Z\", \"duration\": \"0:01:13\", \"iteration\": \"44\", \"goal\": \"accuracy_max\", \"run_name\": \"SparseNormalizer, XGBoostClassifier\", \"run_properties\": \"<azureml.automl.runtime.shared.model_wrappers.SparseNormalizer object at 0x7fd211008eb8\", \"primary_metric\": 0.83271186, \"best_metric\": 0.86299435}, {\"run_id\": \"AutoML_90926142-d8d8-4f9d-a593-3d5fff6a318c_45\", \"run_number\": 50, \"metric\": null, \"status\": \"Completed\", \"run_type\": \"azureml.scriptrun\", \"training_percent\": \"100\", \"start_time\": \"2021-02-12T07:51:09.953136Z\", \"end_time\": \"2021-02-12T07:52:01.895019Z\", \"created_time\": \"2021-02-12T07:50:56.727285Z\", \"created_time_dt\": \"2021-02-12T07:50:56.727285Z\", \"duration\": \"0:01:05\", \"iteration\": \"45\", \"goal\": \"accuracy_max\", \"run_name\": \"StandardScalerWrapper, LightGBM\", \"run_properties\": \"<azureml.automl.runtime.shared.model_wrappers.StandardScalerWrapper object at 0x7fe58efe0048\", \"primary_metric\": 0.70587571, \"best_metric\": 0.86299435}, {\"run_id\": \"AutoML_90926142-d8d8-4f9d-a593-3d5fff6a318c_46\", \"run_number\": 51, \"metric\": null, \"status\": \"Completed\", \"run_type\": \"azureml.scriptrun\", \"training_percent\": \"100\", \"start_time\": \"2021-02-12T07:51:12.665976Z\", \"end_time\": \"2021-02-12T07:52:03.111983Z\", \"created_time\": \"2021-02-12T07:51:01.515034Z\", \"created_time_dt\": \"2021-02-12T07:51:01.515034Z\", \"duration\": \"0:01:01\", \"iteration\": \"46\", \"goal\": \"accuracy_max\", \"run_name\": \"StandardScalerWrapper, RandomForest\", \"run_properties\": \"<azureml.automl.runtime.shared.model_wrappers.StandardScalerWrapper object at 0x7f483ca344a8\", \"primary_metric\": 0.82920904, \"best_metric\": 0.86299435}, {\"run_id\": \"AutoML_90926142-d8d8-4f9d-a593-3d5fff6a318c_47\", \"run_number\": 52, \"metric\": null, \"status\": \"Completed\", \"run_type\": \"azureml.scriptrun\", \"training_percent\": \"100\", \"start_time\": \"2021-02-12T07:51:20.484023Z\", \"end_time\": \"2021-02-12T07:52:14.244686Z\", \"created_time\": \"2021-02-12T07:51:09.409912Z\", \"created_time_dt\": \"2021-02-12T07:51:09.409912Z\", \"duration\": \"0:01:04\", \"iteration\": \"47\", \"goal\": \"accuracy_max\", \"run_name\": \"SparseNormalizer, XGBoostClassifier\", \"run_properties\": \"<azureml.automl.runtime.shared.model_wrappers.SparseNormalizer object at 0x7f4dcf171278\", \"primary_metric\": 0.83621469, \"best_metric\": 0.86299435}, {\"run_id\": \"AutoML_90926142-d8d8-4f9d-a593-3d5fff6a318c_48\", \"run_number\": 53, \"metric\": null, \"status\": \"Completed\", \"run_type\": \"azureml.scriptrun\", \"training_percent\": \"100\", \"start_time\": \"2021-02-12T07:51:29.877912Z\", \"end_time\": \"2021-02-12T07:52:25.922327Z\", \"created_time\": \"2021-02-12T07:51:16.280174Z\", \"created_time_dt\": \"2021-02-12T07:51:16.280174Z\", \"duration\": \"0:01:09\", \"iteration\": \"48\", \"goal\": \"accuracy_max\", \"run_name\": \"SparseNormalizer, XGBoostClassifier\", \"run_properties\": \"<azureml.automl.runtime.shared.model_wrappers.SparseNormalizer object at 0x7ff3b9eaf048\", \"primary_metric\": 0.83282486, \"best_metric\": 0.86299435}, {\"run_id\": \"AutoML_90926142-d8d8-4f9d-a593-3d5fff6a318c_49\", \"run_number\": 54, \"metric\": null, \"status\": \"Completed\", \"run_type\": \"azureml.scriptrun\", \"training_percent\": \"100\", \"start_time\": \"2021-02-12T07:51:48.741045Z\", \"end_time\": \"2021-02-12T07:52:43.124881Z\", \"created_time\": \"2021-02-12T07:51:35.524584Z\", \"created_time_dt\": \"2021-02-12T07:51:35.524584Z\", \"duration\": \"0:01:07\", \"iteration\": \"49\", \"goal\": \"accuracy_max\", \"run_name\": \"StandardScalerWrapper, RandomForest\", \"run_properties\": \"<azureml.automl.runtime.shared.model_wrappers.StandardScalerWrapper object at 0x7f2562c01828\", \"primary_metric\": 0.81242938, \"best_metric\": 0.86299435}, {\"run_id\": \"AutoML_90926142-d8d8-4f9d-a593-3d5fff6a318c_50\", \"run_number\": 55, \"metric\": null, \"status\": \"Completed\", \"run_type\": \"azureml.scriptrun\", \"training_percent\": \"100\", \"start_time\": \"2021-02-12T07:52:16.991393Z\", \"end_time\": \"2021-02-12T07:53:07.680917Z\", \"created_time\": \"2021-02-12T07:52:05.128347Z\", \"created_time_dt\": \"2021-02-12T07:52:05.128347Z\", \"duration\": \"0:01:02\", \"iteration\": \"50\", \"goal\": \"accuracy_max\", \"run_name\": \"MaxAbsScaler, LightGBM\", \"run_properties\": \"copy=True\", \"primary_metric\": 0.8360452, \"best_metric\": 0.86299435}, {\"run_id\": \"AutoML_90926142-d8d8-4f9d-a593-3d5fff6a318c_51\", \"run_number\": 56, \"metric\": null, \"status\": \"Completed\", \"run_type\": \"azureml.scriptrun\", \"training_percent\": \"100\", \"start_time\": \"2021-02-12T07:52:22.925095Z\", \"end_time\": \"2021-02-12T07:53:16.83132Z\", \"created_time\": \"2021-02-12T07:52:09.798567Z\", \"created_time_dt\": \"2021-02-12T07:52:09.798567Z\", \"duration\": \"0:01:07\", \"iteration\": \"51\", \"goal\": \"accuracy_max\", \"run_name\": \"SparseNormalizer, XGBoostClassifier\", \"run_properties\": \"<azureml.automl.runtime.shared.model_wrappers.SparseNormalizer object at 0x7eff71288b00\", \"primary_metric\": 0.84960452, \"best_metric\": 0.86299435}, {\"run_id\": \"AutoML_90926142-d8d8-4f9d-a593-3d5fff6a318c_52\", \"run_number\": 57, \"metric\": null, \"status\": \"Completed\", \"run_type\": \"azureml.scriptrun\", \"training_percent\": \"100\", \"start_time\": \"2021-02-12T07:52:29.416048Z\", \"end_time\": \"2021-02-12T07:53:24.554824Z\", \"created_time\": \"2021-02-12T07:52:16.894567Z\", \"created_time_dt\": \"2021-02-12T07:52:16.894567Z\", \"duration\": \"0:01:07\", \"iteration\": \"52\", \"goal\": \"accuracy_max\", \"run_name\": \"RobustScaler, ExtremeRandomTrees\", \"run_properties\": \"copy=True, quantile_range=[25, 75], with_centering=True,\\n             with_scaling=True\", \"primary_metric\": 0.85621469, \"best_metric\": 0.86299435}, {\"run_id\": \"AutoML_90926142-d8d8-4f9d-a593-3d5fff6a318c_53\", \"run_number\": 58, \"metric\": null, \"status\": \"Completed\", \"run_type\": \"azureml.scriptrun\", \"training_percent\": \"100\", \"start_time\": \"2021-02-12T07:52:40.78276Z\", \"end_time\": \"2021-02-12T07:53:26.519625Z\", \"created_time\": \"2021-02-12T07:52:28.363575Z\", \"created_time_dt\": \"2021-02-12T07:52:28.363575Z\", \"duration\": \"0:00:58\", \"iteration\": \"53\", \"goal\": \"accuracy_max\", \"run_name\": \"StandardScalerWrapper, LightGBM\", \"run_properties\": \"<azureml.automl.runtime.shared.model_wrappers.StandardScalerWrapper object at 0x7f1e581250b8\", \"primary_metric\": 0.8359887, \"best_metric\": 0.86299435}, {\"run_id\": \"AutoML_90926142-d8d8-4f9d-a593-3d5fff6a318c_54\", \"run_number\": 59, \"metric\": null, \"status\": \"Completed\", \"run_type\": \"azureml.scriptrun\", \"training_percent\": \"100\", \"start_time\": \"2021-02-12T07:52:59.753755Z\", \"end_time\": \"2021-02-12T07:53:52.415119Z\", \"created_time\": \"2021-02-12T07:52:45.821568Z\", \"created_time_dt\": \"2021-02-12T07:52:45.821568Z\", \"duration\": \"0:01:06\", \"iteration\": \"54\", \"goal\": \"accuracy_max\", \"run_name\": \"StandardScalerWrapper, LightGBM\", \"run_properties\": \"<azureml.automl.runtime.shared.model_wrappers.StandardScalerWrapper object at 0x7f5fa20e7eb8\", \"primary_metric\": 0.8059322, \"best_metric\": 0.86299435}, {\"run_id\": \"AutoML_90926142-d8d8-4f9d-a593-3d5fff6a318c_55\", \"run_number\": 60, \"metric\": null, \"status\": \"Completed\", \"run_type\": \"azureml.scriptrun\", \"training_percent\": \"100\", \"start_time\": \"2021-02-12T07:53:23.800235Z\", \"end_time\": \"2021-02-12T07:54:17.153218Z\", \"created_time\": \"2021-02-12T07:53:12.356056Z\", \"created_time_dt\": \"2021-02-12T07:53:12.356056Z\", \"duration\": \"0:01:04\", \"iteration\": \"55\", \"goal\": \"accuracy_max\", \"run_name\": \"StandardScalerWrapper, LightGBM\", \"run_properties\": \"<azureml.automl.runtime.shared.model_wrappers.StandardScalerWrapper object at 0x7f2948b38860\", \"primary_metric\": 0.81915254, \"best_metric\": 0.86299435}, {\"run_id\": \"AutoML_90926142-d8d8-4f9d-a593-3d5fff6a318c_56\", \"run_number\": 61, \"metric\": null, \"status\": \"Completed\", \"run_type\": \"azureml.scriptrun\", \"training_percent\": \"100\", \"start_time\": \"2021-02-12T07:53:35.947001Z\", \"end_time\": \"2021-02-12T07:54:28.828318Z\", \"created_time\": \"2021-02-12T07:53:19.802912Z\", \"created_time_dt\": \"2021-02-12T07:53:19.802912Z\", \"duration\": \"0:01:09\", \"iteration\": \"56\", \"goal\": \"accuracy_max\", \"run_name\": \"StandardScalerWrapper, ExtremeRandomTrees\", \"run_properties\": \"<azureml.automl.runtime.shared.model_wrappers.StandardScalerWrapper object at 0x7fd694c8d160\", \"primary_metric\": 0.85621469, \"best_metric\": 0.86299435}, {\"run_id\": \"AutoML_90926142-d8d8-4f9d-a593-3d5fff6a318c_57\", \"run_number\": 62, \"metric\": null, \"status\": \"Completed\", \"run_type\": \"azureml.scriptrun\", \"training_percent\": \"100\", \"start_time\": \"2021-02-12T07:53:41.620634Z\", \"end_time\": \"2021-02-12T07:54:32.41139Z\", \"created_time\": \"2021-02-12T07:53:28.405336Z\", \"created_time_dt\": \"2021-02-12T07:53:28.405336Z\", \"duration\": \"0:01:04\", \"iteration\": \"57\", \"goal\": \"accuracy_max\", \"run_name\": \"SparseNormalizer, LightGBM\", \"run_properties\": \"<azureml.automl.runtime.shared.model_wrappers.SparseNormalizer object at 0x7fa80e498a20\", \"primary_metric\": 0.80610169, \"best_metric\": 0.86299435}, {\"run_id\": \"AutoML_90926142-d8d8-4f9d-a593-3d5fff6a318c_58\", \"run_number\": 63, \"metric\": null, \"status\": \"Completed\", \"run_type\": \"azureml.scriptrun\", \"training_percent\": \"100\", \"start_time\": \"2021-02-12T07:53:46.832287Z\", \"end_time\": \"2021-02-12T07:54:44.107488Z\", \"created_time\": \"2021-02-12T07:53:34.964634Z\", \"created_time_dt\": \"2021-02-12T07:53:34.964634Z\", \"duration\": \"0:01:09\", \"iteration\": \"58\", \"goal\": \"accuracy_max\", \"run_name\": \"MinMaxScaler, LightGBM\", \"run_properties\": \"copy=True, feature_range=(0, 1\", \"primary_metric\": 0.83610169, \"best_metric\": 0.86299435}, {\"run_id\": \"AutoML_90926142-d8d8-4f9d-a593-3d5fff6a318c_59\", \"run_number\": 64, \"metric\": null, \"status\": \"Completed\", \"run_type\": \"azureml.scriptrun\", \"training_percent\": \"100\", \"start_time\": \"2021-02-12T07:54:07.043891Z\", \"end_time\": \"2021-02-12T07:54:55.572363Z\", \"created_time\": \"2021-02-12T07:53:55.287604Z\", \"created_time_dt\": \"2021-02-12T07:53:55.287604Z\", \"duration\": \"0:01:00\", \"iteration\": \"59\", \"goal\": \"accuracy_max\", \"run_name\": \"SparseNormalizer, XGBoostClassifier\", \"run_properties\": \"<azureml.automl.runtime.shared.model_wrappers.SparseNormalizer object at 0x7f569c75e0f0\", \"primary_metric\": 0.84621469, \"best_metric\": 0.86299435}, {\"run_id\": \"AutoML_90926142-d8d8-4f9d-a593-3d5fff6a318c_60\", \"run_number\": 65, \"metric\": null, \"status\": \"Completed\", \"run_type\": \"azureml.scriptrun\", \"training_percent\": \"100\", \"start_time\": \"2021-02-12T07:54:37.144381Z\", \"end_time\": \"2021-02-12T07:55:23.952378Z\", \"created_time\": \"2021-02-12T07:54:20.842273Z\", \"created_time_dt\": \"2021-02-12T07:54:20.842273Z\", \"duration\": \"0:01:03\", \"iteration\": \"60\", \"goal\": \"accuracy_max\", \"run_name\": \"RobustScaler, LightGBM\", \"run_properties\": \"copy=True, quantile_range=[25, 75], with_centering=True,\\n             with_scaling=True\", \"primary_metric\": 0.83276836, \"best_metric\": 0.86299435}, {\"run_id\": \"AutoML_90926142-d8d8-4f9d-a593-3d5fff6a318c_61\", \"run_number\": 66, \"metric\": null, \"status\": \"Completed\", \"run_type\": \"azureml.scriptrun\", \"training_percent\": \"100\", \"start_time\": \"2021-02-12T07:54:42.468879Z\", \"end_time\": \"2021-02-12T07:55:36.711673Z\", \"created_time\": \"2021-02-12T07:54:31.541009Z\", \"created_time_dt\": \"2021-02-12T07:54:31.541009Z\", \"duration\": \"0:01:05\", \"iteration\": \"61\", \"goal\": \"accuracy_max\", \"run_name\": \"RobustScaler, GradientBoosting\", \"run_properties\": \"copy=True, quantile_range=[25, 75], with_centering=True,\\n             with_scaling=False\", \"primary_metric\": 0.8360452, \"best_metric\": 0.86299435}, {\"run_id\": \"AutoML_90926142-d8d8-4f9d-a593-3d5fff6a318c_62\", \"run_number\": 67, \"metric\": null, \"status\": \"Completed\", \"run_type\": \"azureml.scriptrun\", \"training_percent\": \"100\", \"start_time\": \"2021-02-12T07:54:47.722194Z\", \"end_time\": \"2021-02-12T07:55:38.376093Z\", \"created_time\": \"2021-02-12T07:54:35.886782Z\", \"created_time_dt\": \"2021-02-12T07:54:35.886782Z\", \"duration\": \"0:01:02\", \"iteration\": \"62\", \"goal\": \"accuracy_max\", \"run_name\": \"MinMaxScaler, LightGBM\", \"run_properties\": \"copy=True, feature_range=(0, 1\", \"primary_metric\": 0.81915254, \"best_metric\": 0.86299435}, {\"run_id\": \"AutoML_90926142-d8d8-4f9d-a593-3d5fff6a318c_63\", \"run_number\": 68, \"metric\": null, \"status\": \"Completed\", \"run_type\": \"azureml.scriptrun\", \"training_percent\": \"100\", \"start_time\": \"2021-02-12T07:55:01.965425Z\", \"end_time\": \"2021-02-12T07:55:54.005536Z\", \"created_time\": \"2021-02-12T07:54:47.612572Z\", \"created_time_dt\": \"2021-02-12T07:54:47.612572Z\", \"duration\": \"0:01:06\", \"iteration\": \"63\", \"goal\": \"accuracy_max\", \"run_name\": \"StandardScalerWrapper, RandomForest\", \"run_properties\": \"<azureml.automl.runtime.shared.model_wrappers.StandardScalerWrapper object at 0x7f44d05c6780\", \"primary_metric\": 0.8259322, \"best_metric\": 0.86299435}, {\"run_id\": \"AutoML_90926142-d8d8-4f9d-a593-3d5fff6a318c_64\", \"run_number\": 69, \"metric\": null, \"status\": \"Completed\", \"run_type\": \"azureml.scriptrun\", \"training_percent\": \"100\", \"start_time\": \"2021-02-12T07:55:11.964649Z\", \"end_time\": \"2021-02-12T07:56:01.984208Z\", \"created_time\": \"2021-02-12T07:54:58.628804Z\", \"created_time_dt\": \"2021-02-12T07:54:58.628804Z\", \"duration\": \"0:01:03\", \"iteration\": \"64\", \"goal\": \"accuracy_max\", \"run_name\": \"SparseNormalizer, LightGBM\", \"run_properties\": \"<azureml.automl.runtime.shared.model_wrappers.SparseNormalizer object at 0x7f0dab294048\", \"primary_metric\": 0.83960452, \"best_metric\": 0.86299435}, {\"run_id\": \"AutoML_90926142-d8d8-4f9d-a593-3d5fff6a318c_65\", \"run_number\": 70, \"metric\": null, \"status\": \"Canceled\", \"run_type\": \"azureml.scriptrun\", \"training_percent\": \"100\", \"start_time\": \"2021-02-12T07:55:38.278646Z\", \"end_time\": \"2021-02-12T07:56:26.290066Z\", \"created_time\": \"2021-02-12T07:55:27.589939Z\", \"created_time_dt\": \"2021-02-12T07:55:27.589939Z\", \"duration\": \"0:00:58\", \"iteration\": \"65\", \"goal\": \"accuracy_max\", \"run_name\": \"StandardScalerWrapper, LightGBM\", \"run_properties\": \"<azureml.automl.runtime.shared.model_wrappers.StandardScalerWrapper object at 0x7fc73d9583c8\", \"primary_metric\": 0.80254237, \"best_metric\": 0.86299435}, {\"run_id\": \"AutoML_90926142-d8d8-4f9d-a593-3d5fff6a318c_66\", \"run_number\": 71, \"metric\": null, \"status\": \"Canceled\", \"run_type\": \"azureml.scriptrun\", \"training_percent\": \"100\", \"start_time\": \"2021-02-12T07:55:39.397505Z\", \"end_time\": \"2021-02-12T07:56:29.820931Z\", \"created_time\": \"2021-02-12T07:55:39.397505Z\", \"created_time_dt\": \"2021-02-12T07:55:39.397505Z\", \"duration\": \"0:00:50\", \"iteration\": \"66\", \"goal\": null, \"run_name\": \"Canceled\", \"run_properties\": null}, {\"run_id\": \"AutoML_90926142-d8d8-4f9d-a593-3d5fff6a318c_67\", \"run_number\": 72, \"metric\": null, \"status\": \"Canceled\", \"run_type\": \"azureml.scriptrun\", \"training_percent\": \"100\", \"start_time\": \"2021-02-12T07:56:14.904246Z\", \"end_time\": \"2021-02-12T07:56:32.541215Z\", \"created_time\": \"2021-02-12T07:56:14.904246Z\", \"created_time_dt\": \"2021-02-12T07:56:14.904246Z\", \"duration\": \"0:00:17\", \"iteration\": \"67\", \"goal\": null, \"run_name\": \"Canceled\", \"run_properties\": null}, {\"run_id\": \"AutoML_90926142-d8d8-4f9d-a593-3d5fff6a318c_68\", \"run_number\": 73, \"metric\": null, \"status\": \"Canceled\", \"run_type\": \"azureml.scriptrun\", \"training_percent\": \"100\", \"start_time\": \"2021-02-12T07:56:15.039853Z\", \"end_time\": \"2021-02-12T07:56:32.549232Z\", \"created_time\": \"2021-02-12T07:56:15.039853Z\", \"created_time_dt\": \"2021-02-12T07:56:15.039853Z\", \"duration\": \"0:00:17\", \"iteration\": \"68\", \"goal\": null, \"run_name\": \"Canceled\", \"run_properties\": null}, {\"run_id\": \"AutoML_90926142-d8d8-4f9d-a593-3d5fff6a318c_69\", \"run_number\": 74, \"metric\": null, \"status\": \"Canceled\", \"run_type\": \"azureml.scriptrun\", \"training_percent\": \"100\", \"start_time\": \"2021-02-12T07:56:15.052743Z\", \"end_time\": \"2021-02-12T07:56:19.783299Z\", \"created_time\": \"2021-02-12T07:56:15.052743Z\", \"created_time_dt\": \"2021-02-12T07:56:15.052743Z\", \"duration\": \"0:00:04\", \"iteration\": \"69\", \"goal\": null, \"run_name\": \"Canceled\", \"run_properties\": null}, {\"run_id\": \"AutoML_90926142-d8d8-4f9d-a593-3d5fff6a318c_70\", \"run_number\": 75, \"metric\": null, \"status\": \"Completed\", \"run_type\": \"azureml.scriptrun\", \"training_percent\": \"100\", \"start_time\": \"2021-02-12T07:56:44.638435Z\", \"end_time\": \"2021-02-12T07:58:37.002426Z\", \"created_time\": \"2021-02-12T07:56:34.151239Z\", \"created_time_dt\": \"2021-02-12T07:56:34.151239Z\", \"duration\": \"0:02:02\", \"iteration\": \"70\", \"goal\": \"accuracy_max\", \"run_name\": \"VotingEnsemble\", \"run_properties\": \"classification_labels=None,\\n                              estimators=[('27',\\n                                           Pipeline(memory=None,\\n                                                    steps=[('sparsenormalizer',\\n                                                            <azureml.automl.runtime.shared.model_wrappers.SparseNormalizer object at 0x7f32a4e2a320>\", \"primary_metric\": 0.87632768, \"best_metric\": 0.87632768}, {\"run_id\": \"AutoML_90926142-d8d8-4f9d-a593-3d5fff6a318c_71\", \"run_number\": 76, \"metric\": null, \"status\": \"Completed\", \"run_type\": \"azureml.scriptrun\", \"training_percent\": \"100\", \"start_time\": \"2021-02-12T07:56:47.828945Z\", \"end_time\": \"2021-02-12T07:58:39.949367Z\", \"created_time\": \"2021-02-12T07:56:34.274318Z\", \"created_time_dt\": \"2021-02-12T07:56:34.274318Z\", \"duration\": \"0:02:05\", \"iteration\": \"71\", \"goal\": \"accuracy_max\", \"run_name\": \"StackEnsemble\", \"run_properties\": \"base_learners=[('27',\\n                                        Pipeline(memory=None,\\n                                                 steps=[('sparsenormalizer',\\n                                                         <azureml.automl.runtime.shared.model_wrappers.SparseNormalizer object at 0x7f29924ac080>\", \"primary_metric\": 0.85960452, \"best_metric\": 0.87632768}], \"children_metrics\": {\"categories\": [0], \"series\": {\"weighted_accuracy\": [{\"categories\": [\"0\", \"1\", \"2\", \"3\", \"4\", \"5\", \"6\", \"7\", \"8\", \"9\", \"10\", \"11\", \"12\", \"13\", \"14\", \"15\", \"16\", \"17\", \"18\", \"19\", \"20\", \"21\", \"22\", \"23\", \"24\", \"25\", \"26\", \"27\", \"28\", \"29\", \"30\", \"31\", \"32\", \"33\", \"34\", \"35\", \"36\", \"37\", \"38\", \"39\", \"40\", \"41\", \"42\", \"43\", \"44\", \"45\", \"46\", \"47\", \"48\", \"49\", \"50\", \"51\", \"52\", \"53\", \"54\", \"55\", \"56\", \"57\", \"58\", \"59\", \"60\", \"61\", \"62\", \"63\", \"64\", \"65\", \"70\", \"71\"], \"mode\": \"markers\", \"name\": \"weighted_accuracy\", \"stepped\": false, \"type\": \"scatter\", \"data\": [0.8252063202764133, 0.8406325321291572, 0.8749007053350002, 0.8590043520319444, 0.81839799227029, 0.8581118297864625, 0.7715242910482673, 0.853412521437642, 0.8614527378563306, 0.7501093625771416, 0.8423520030928732, 0.8533820798830117, 0.8753606135956999, 0.8618238554329096, 0.8365299867324645, 0.8396048623725025, 0.8586782896708176, 0.8527437725221466, 0.8511961761140672, 0.8547947975103691, 0.8492426598874052, 0.834930322563095, 0.8467757019861736, 0.8356807457517302, 0.8485081717550284, 0.8100718334629589, 0.8303936076774476, 0.8803225622706569, 0.8462833886250358, 0.8511373777266147, 0.6879921243842796, 0.8530537209481569, 0.8550137905707761, 0.8308548274416656, 0.8829372131086055, 0.8694550789436916, 0.8669599290749449, 0.8360473402486086, 0.8503638420705764, 0.8568279164775868, 0.8552110585053393, 0.854429581287458, 0.8783487791517928, 0.8407971682734852, 0.8649812090644595, 0.8061485386957423, 0.8399966136665921, 0.860158124789024, 0.8501628547746847, 0.8170798001667613, 0.8614479996274046, 0.876880803619453, 0.8834692375762657, 0.8498945134062286, 0.8368108817697303, 0.8388470540424355, 0.8814692375762657, 0.8431073236054558, 0.8644746867868287, 0.8743809155217802, 0.8556119416887895, 0.8549093912637049, 0.8371326691734436, 0.8308088390885751, 0.8608429760990643, 0.839627331865208, 0.8968878829357403, 0.8797116110101999]}, {\"categories\": [\"0\", \"1\", \"2\", \"3\", \"4\", \"5\", \"6\", \"7\", \"8\", \"9\", \"10\", \"11\", \"12\", \"13\", \"14\", \"15\", \"16\", \"17\", \"18\", \"19\", \"20\", \"21\", \"22\", \"23\", \"24\", \"25\", \"26\", \"27\", \"28\", \"29\", \"30\", \"31\", \"32\", \"33\", \"34\", \"35\", \"36\", \"37\", \"38\", \"39\", \"40\", \"41\", \"42\", \"43\", \"44\", \"45\", \"46\", \"47\", \"48\", \"49\", \"50\", \"51\", \"52\", \"53\", \"54\", \"55\", \"56\", \"57\", \"58\", \"59\", \"60\", \"61\", \"62\", \"63\", \"64\", \"65\", \"70\", \"71\"], \"mode\": \"lines\", \"name\": \"weighted_accuracy_max\", \"stepped\": true, \"type\": \"scatter\", \"data\": [0.8252063202764133, 0.8406325321291572, 0.8749007053350002, 0.8749007053350002, 0.8749007053350002, 0.8749007053350002, 0.8749007053350002, 0.8749007053350002, 0.8749007053350002, 0.8749007053350002, 0.8749007053350002, 0.8749007053350002, 0.8753606135956999, 0.8753606135956999, 0.8753606135956999, 0.8753606135956999, 0.8753606135956999, 0.8753606135956999, 0.8753606135956999, 0.8753606135956999, 0.8753606135956999, 0.8753606135956999, 0.8753606135956999, 0.8753606135956999, 0.8753606135956999, 0.8753606135956999, 0.8753606135956999, 0.8803225622706569, 0.8803225622706569, 0.8803225622706569, 0.8803225622706569, 0.8803225622706569, 0.8803225622706569, 0.8803225622706569, 0.8829372131086055, 0.8829372131086055, 0.8829372131086055, 0.8829372131086055, 0.8829372131086055, 0.8829372131086055, 0.8829372131086055, 0.8829372131086055, 0.8829372131086055, 0.8829372131086055, 0.8829372131086055, 0.8829372131086055, 0.8829372131086055, 0.8829372131086055, 0.8829372131086055, 0.8829372131086055, 0.8829372131086055, 0.8829372131086055, 0.8834692375762657, 0.8834692375762657, 0.8834692375762657, 0.8834692375762657, 0.8834692375762657, 0.8834692375762657, 0.8834692375762657, 0.8834692375762657, 0.8834692375762657, 0.8834692375762657, 0.8834692375762657, 0.8834692375762657, 0.8834692375762657, 0.8834692375762657, 0.8968878829357403, 0.8968878829357403]}], \"recall_score_macro\": [{\"categories\": [\"0\", \"1\", \"2\", \"3\", \"4\", \"5\", \"6\", \"7\", \"8\", \"9\", \"10\", \"11\", \"12\", \"13\", \"14\", \"15\", \"16\", \"17\", \"18\", \"19\", \"20\", \"21\", \"22\", \"23\", \"24\", \"25\", \"26\", \"27\", \"28\", \"29\", \"30\", \"31\", \"32\", \"33\", \"34\", \"35\", \"36\", \"37\", \"38\", \"39\", \"40\", \"41\", \"42\", \"43\", \"44\", \"45\", \"46\", \"47\", \"48\", \"49\", \"50\", \"51\", \"52\", \"53\", \"54\", \"55\", \"56\", \"57\", \"58\", \"59\", \"60\", \"61\", \"62\", \"63\", \"64\", \"65\", \"70\", \"71\"], \"mode\": \"markers\", \"name\": \"recall_score_macro\", \"stepped\": false, \"type\": \"scatter\", \"data\": [0.7760209025470652, 0.8060125968992248, 0.8192137320044296, 0.8030703211517165, 0.794579872646733, 0.7932315891472868, 0.6182613510520487, 0.7896387043189369, 0.8268369324473974, 0.6443583887043189, 0.6447619047619048, 0.8043410852713178, 0.8049958471760796, 0.8058423311184939, 0.75265780730897, 0.7602512458471761, 0.810765503875969, 0.7711863233665559, 0.775140503875969, 0.8018071705426356, 0.7358928571428571, 0.67375, 0.7879215116279069, 0.8127387873754153, 0.6995833333333333, 0.7905578626799559, 0.712733942414175, 0.8370791805094131, 0.7683720930232558, 0.7740988372093023, 0.5043929955703211, 0.7261904761904763, 0.7911482558139534, 0.7543500830564784, 0.8013988095238094, 0.8050768272425248, 0.8076744186046512, 0.7885548172757475, 0.7742691029900332, 0.8216673588039868, 0.8021899224806202, 0.8021262458471761, 0.8162499999999999, 0.7972667497231452, 0.7842774086378739, 0.5583333333333333, 0.8137465393133999, 0.8022238372093022, 0.8063524363233666, 0.806000138427464, 0.8006679125138427, 0.8112458471760797, 0.8163946566998893, 0.8158381782945737, 0.7581381506090807, 0.7914292635658915, 0.8188946566998894, 0.7532101328903655, 0.7942434939091916, 0.802674418604651, 0.8009101605758582, 0.808376245847176, 0.7926495016611297, 0.8182108250276855, 0.809936323366556, 0.7487292358803986, 0.8456547619047619, 0.8295535714285714]}, {\"categories\": [\"0\", \"1\", \"2\", \"3\", \"4\", \"5\", \"6\", \"7\", \"8\", \"9\", \"10\", \"11\", \"12\", \"13\", \"14\", \"15\", \"16\", \"17\", \"18\", \"19\", \"20\", \"21\", \"22\", \"23\", \"24\", \"25\", \"26\", \"27\", \"28\", \"29\", \"30\", \"31\", \"32\", \"33\", \"34\", \"35\", \"36\", \"37\", \"38\", \"39\", \"40\", \"41\", \"42\", \"43\", \"44\", \"45\", \"46\", \"47\", \"48\", \"49\", \"50\", \"51\", \"52\", \"53\", \"54\", \"55\", \"56\", \"57\", \"58\", \"59\", \"60\", \"61\", \"62\", \"63\", \"64\", \"65\", \"70\", \"71\"], \"mode\": \"lines\", \"name\": \"recall_score_macro_max\", \"stepped\": true, \"type\": \"scatter\", \"data\": [0.7760209025470652, 0.8060125968992248, 0.8192137320044296, 0.8192137320044296, 0.8192137320044296, 0.8192137320044296, 0.8192137320044296, 0.8192137320044296, 0.8268369324473974, 0.8268369324473974, 0.8268369324473974, 0.8268369324473974, 0.8268369324473974, 0.8268369324473974, 0.8268369324473974, 0.8268369324473974, 0.8268369324473974, 0.8268369324473974, 0.8268369324473974, 0.8268369324473974, 0.8268369324473974, 0.8268369324473974, 0.8268369324473974, 0.8268369324473974, 0.8268369324473974, 0.8268369324473974, 0.8268369324473974, 0.8370791805094131, 0.8370791805094131, 0.8370791805094131, 0.8370791805094131, 0.8370791805094131, 0.8370791805094131, 0.8370791805094131, 0.8370791805094131, 0.8370791805094131, 0.8370791805094131, 0.8370791805094131, 0.8370791805094131, 0.8370791805094131, 0.8370791805094131, 0.8370791805094131, 0.8370791805094131, 0.8370791805094131, 0.8370791805094131, 0.8370791805094131, 0.8370791805094131, 0.8370791805094131, 0.8370791805094131, 0.8370791805094131, 0.8370791805094131, 0.8370791805094131, 0.8370791805094131, 0.8370791805094131, 0.8370791805094131, 0.8370791805094131, 0.8370791805094131, 0.8370791805094131, 0.8370791805094131, 0.8370791805094131, 0.8370791805094131, 0.8370791805094131, 0.8370791805094131, 0.8370791805094131, 0.8370791805094131, 0.8370791805094131, 0.8456547619047619, 0.8456547619047619]}], \"average_precision_score_micro\": [{\"categories\": [\"0\", \"1\", \"2\", \"3\", \"4\", \"5\", \"6\", \"7\", \"8\", \"9\", \"10\", \"11\", \"12\", \"13\", \"14\", \"15\", \"16\", \"17\", \"18\", \"19\", \"20\", \"21\", \"22\", \"23\", \"24\", \"25\", \"26\", \"27\", \"28\", \"29\", \"30\", \"31\", \"32\", \"33\", \"34\", \"35\", \"36\", \"37\", \"38\", \"39\", \"40\", \"41\", \"42\", \"43\", \"44\", \"45\", \"46\", \"47\", \"48\", \"49\", \"50\", \"51\", \"52\", \"53\", \"54\", \"55\", \"56\", \"57\", \"58\", \"59\", \"60\", \"61\", \"62\", \"63\", \"64\", \"65\", \"70\", \"71\"], \"mode\": \"markers\", \"name\": \"average_precision_score_micro\", \"stepped\": false, \"type\": \"scatter\", \"data\": [0.887958292631032, 0.9018582931163117, 0.9126786342748275, 0.9086780383063602, 0.906253350655232, 0.8983724439514169, 0.76243279090739, 0.8993760782921816, 0.9020916181204706, 0.8007338569564452, 0.8682130657472429, 0.893386848713541, 0.9018509664704499, 0.9051419512979809, 0.8973084466373693, 0.8723071880091318, 0.8958867734484735, 0.8874280039880285, 0.8798334656461494, 0.909343539667695, 0.8826025197499145, 0.8637899344894933, 0.9047517376626967, 0.8819407924927246, 0.8780144748797168, 0.879238939513991, 0.8623606151870382, 0.9028560054798153, 0.905079276175085, 0.8992073425948485, 0.6367107942592849, 0.8740721160144812, 0.8968951016033528, 0.8999212044446804, 0.8957680798746898, 0.898434676234577, 0.9056654306523594, 0.8799901075077005, 0.8775714928187417, 0.9143293799901617, 0.8899013733079322, 0.9151706694122195, 0.9014287455723851, 0.9075678952870557, 0.8957833120732153, 0.8571373505136227, 0.9106688934132116, 0.8937427828152918, 0.8772028692325972, 0.9041770268807093, 0.8971897461945664, 0.9026020432426062, 0.9119620700618064, 0.8987338005085036, 0.9005616771240886, 0.9056758677498873, 0.907361768523646, 0.8936484034435688, 0.8984803758573946, 0.9044640270740991, 0.9047451633704456, 0.9134364026574338, 0.9081725307420463, 0.9125868911957525, 0.8988368961560305, 0.9006803307129481, 0.9175761251835782, 0.9086390888491757]}, {\"categories\": [\"0\", \"1\", \"2\", \"3\", \"4\", \"5\", \"6\", \"7\", \"8\", \"9\", \"10\", \"11\", \"12\", \"13\", \"14\", \"15\", \"16\", \"17\", \"18\", \"19\", \"20\", \"21\", \"22\", \"23\", \"24\", \"25\", \"26\", \"27\", \"28\", \"29\", \"30\", \"31\", \"32\", \"33\", \"34\", \"35\", \"36\", \"37\", \"38\", \"39\", \"40\", \"41\", \"42\", \"43\", \"44\", \"45\", \"46\", \"47\", \"48\", \"49\", \"50\", \"51\", \"52\", \"53\", \"54\", \"55\", \"56\", \"57\", \"58\", \"59\", \"60\", \"61\", \"62\", \"63\", \"64\", \"65\", \"70\", \"71\"], \"mode\": \"lines\", \"name\": \"average_precision_score_micro_max\", \"stepped\": true, \"type\": \"scatter\", \"data\": [0.887958292631032, 0.9018582931163117, 0.9126786342748275, 0.9126786342748275, 0.9126786342748275, 0.9126786342748275, 0.9126786342748275, 0.9126786342748275, 0.9126786342748275, 0.9126786342748275, 0.9126786342748275, 0.9126786342748275, 0.9126786342748275, 0.9126786342748275, 0.9126786342748275, 0.9126786342748275, 0.9126786342748275, 0.9126786342748275, 0.9126786342748275, 0.9126786342748275, 0.9126786342748275, 0.9126786342748275, 0.9126786342748275, 0.9126786342748275, 0.9126786342748275, 0.9126786342748275, 0.9126786342748275, 0.9126786342748275, 0.9126786342748275, 0.9126786342748275, 0.9126786342748275, 0.9126786342748275, 0.9126786342748275, 0.9126786342748275, 0.9126786342748275, 0.9126786342748275, 0.9126786342748275, 0.9126786342748275, 0.9126786342748275, 0.9143293799901617, 0.9143293799901617, 0.9151706694122195, 0.9151706694122195, 0.9151706694122195, 0.9151706694122195, 0.9151706694122195, 0.9151706694122195, 0.9151706694122195, 0.9151706694122195, 0.9151706694122195, 0.9151706694122195, 0.9151706694122195, 0.9151706694122195, 0.9151706694122195, 0.9151706694122195, 0.9151706694122195, 0.9151706694122195, 0.9151706694122195, 0.9151706694122195, 0.9151706694122195, 0.9151706694122195, 0.9151706694122195, 0.9151706694122195, 0.9151706694122195, 0.9151706694122195, 0.9151706694122195, 0.9175761251835782, 0.9175761251835782]}], \"f1_score_weighted\": [{\"categories\": [\"0\", \"1\", \"2\", \"3\", \"4\", \"5\", \"6\", \"7\", \"8\", \"9\", \"10\", \"11\", \"12\", \"13\", \"14\", \"15\", \"16\", \"17\", \"18\", \"19\", \"20\", \"21\", \"22\", \"23\", \"24\", \"25\", \"26\", \"27\", \"28\", \"29\", \"30\", \"31\", \"32\", \"33\", \"34\", \"35\", \"36\", \"37\", \"38\", \"39\", \"40\", \"41\", \"42\", \"43\", \"44\", \"45\", \"46\", \"47\", \"48\", \"49\", \"50\", \"51\", \"52\", \"53\", \"54\", \"55\", \"56\", \"57\", \"58\", \"59\", \"60\", \"61\", \"62\", \"63\", \"64\", \"65\", \"70\", \"71\"], \"mode\": \"markers\", \"name\": \"f1_score_weighted\", \"stepped\": false, \"type\": \"scatter\", \"data\": [0.8014398448329555, 0.8237396450256732, 0.8498937169826878, 0.8300793858982758, 0.8100503219606143, 0.8284134109020347, 0.6758180977841994, 0.8157297548639766, 0.8440887176790568, 0.6805346452402135, 0.7175781554956463, 0.8295428462047711, 0.8403763731761902, 0.8348561535740927, 0.7927356471104344, 0.8039757220257486, 0.8366627045139088, 0.8113854251575822, 0.8124272924959728, 0.8288155855840393, 0.7842695316409457, 0.7358704086891893, 0.8183422965584055, 0.8270460199591054, 0.7625181575904232, 0.8066036350263304, 0.7663791070636945, 0.8598296244315418, 0.8100721363461434, 0.8117043943592867, 0.5845105810221921, 0.786087964531565, 0.8248347263799138, 0.7932245076632461, 0.8399978198779504, 0.836653440120747, 0.8388305709549861, 0.8111375615251999, 0.806450284500311, 0.8411581276272603, 0.8289417286188184, 0.8279811546834, 0.8472749894030983, 0.8194727553393492, 0.8240964759354193, 0.6122078809804463, 0.8298453831643645, 0.8316404237126921, 0.8311719316514949, 0.8158255620671657, 0.8306615305697997, 0.8445786473037667, 0.8493430952594061, 0.8340012062748162, 0.7978517246163198, 0.8166123403022748, 0.8497609213487298, 0.7950503011155767, 0.8299512892259214, 0.8406671678570078, 0.827968294824923, 0.831370932120242, 0.8154196839322587, 0.8288763164631362, 0.834974592861632, 0.792718293952519, 0.8720743353669373, 0.8540289787209792]}, {\"categories\": [\"0\", \"1\", \"2\", \"3\", \"4\", \"5\", \"6\", \"7\", \"8\", \"9\", \"10\", \"11\", \"12\", \"13\", \"14\", \"15\", \"16\", \"17\", \"18\", \"19\", \"20\", \"21\", \"22\", \"23\", \"24\", \"25\", \"26\", \"27\", \"28\", \"29\", \"30\", \"31\", \"32\", \"33\", \"34\", \"35\", \"36\", \"37\", \"38\", \"39\", \"40\", \"41\", \"42\", \"43\", \"44\", \"45\", \"46\", \"47\", \"48\", \"49\", \"50\", \"51\", \"52\", \"53\", \"54\", \"55\", \"56\", \"57\", \"58\", \"59\", \"60\", \"61\", \"62\", \"63\", \"64\", \"65\", \"70\", \"71\"], \"mode\": \"lines\", \"name\": \"f1_score_weighted_max\", \"stepped\": true, \"type\": \"scatter\", \"data\": [0.8014398448329555, 0.8237396450256732, 0.8498937169826878, 0.8498937169826878, 0.8498937169826878, 0.8498937169826878, 0.8498937169826878, 0.8498937169826878, 0.8498937169826878, 0.8498937169826878, 0.8498937169826878, 0.8498937169826878, 0.8498937169826878, 0.8498937169826878, 0.8498937169826878, 0.8498937169826878, 0.8498937169826878, 0.8498937169826878, 0.8498937169826878, 0.8498937169826878, 0.8498937169826878, 0.8498937169826878, 0.8498937169826878, 0.8498937169826878, 0.8498937169826878, 0.8498937169826878, 0.8498937169826878, 0.8598296244315418, 0.8598296244315418, 0.8598296244315418, 0.8598296244315418, 0.8598296244315418, 0.8598296244315418, 0.8598296244315418, 0.8598296244315418, 0.8598296244315418, 0.8598296244315418, 0.8598296244315418, 0.8598296244315418, 0.8598296244315418, 0.8598296244315418, 0.8598296244315418, 0.8598296244315418, 0.8598296244315418, 0.8598296244315418, 0.8598296244315418, 0.8598296244315418, 0.8598296244315418, 0.8598296244315418, 0.8598296244315418, 0.8598296244315418, 0.8598296244315418, 0.8598296244315418, 0.8598296244315418, 0.8598296244315418, 0.8598296244315418, 0.8598296244315418, 0.8598296244315418, 0.8598296244315418, 0.8598296244315418, 0.8598296244315418, 0.8598296244315418, 0.8598296244315418, 0.8598296244315418, 0.8598296244315418, 0.8598296244315418, 0.8720743353669373, 0.8720743353669373]}], \"average_precision_score_weighted\": [{\"categories\": [\"0\", \"1\", \"2\", \"3\", \"4\", \"5\", \"6\", \"7\", \"8\", \"9\", \"10\", \"11\", \"12\", \"13\", \"14\", \"15\", \"16\", \"17\", \"18\", \"19\", \"20\", \"21\", \"22\", \"23\", \"24\", \"25\", \"26\", \"27\", \"28\", \"29\", \"30\", \"31\", \"32\", \"33\", \"34\", \"35\", \"36\", \"37\", \"38\", \"39\", \"40\", \"41\", \"42\", \"43\", \"44\", \"45\", \"46\", \"47\", \"48\", \"49\", \"50\", \"51\", \"52\", \"53\", \"54\", \"55\", \"56\", \"57\", \"58\", \"59\", \"60\", \"61\", \"62\", \"63\", \"64\", \"65\", \"70\", \"71\"], \"mode\": \"markers\", \"name\": \"average_precision_score_weighted\", \"stepped\": false, \"type\": \"scatter\", \"data\": [0.8955370396295249, 0.9103506263314479, 0.9088804251521247, 0.9218543676327784, 0.9093696170392098, 0.8983086560307936, 0.7675756738587173, 0.9046303292122181, 0.907549263035289, 0.8050196710769141, 0.9044366294817261, 0.9027199794815131, 0.9060997973197733, 0.9186509252906317, 0.9052300829814242, 0.8720059756545379, 0.8977687189620761, 0.8938827711151603, 0.8803934694701084, 0.9126795621828252, 0.8955236381728549, 0.8825479658655329, 0.9077557416450045, 0.8992074208057421, 0.9010837672031053, 0.8936462353623721, 0.8741268229065309, 0.9086101441852659, 0.9125615434000881, 0.9047704752383419, 0.5932074765428835, 0.8733975240074745, 0.9017454630514325, 0.9063081710349252, 0.906247615613955, 0.9097774651362898, 0.9132120030044147, 0.8871327202451138, 0.8796458123313144, 0.9146960598272369, 0.8968508380453507, 0.9225669827791279, 0.9099507957746784, 0.9154252005212706, 0.9018864617330469, 0.9078674136414003, 0.9200250092787765, 0.8964143646522558, 0.874042313423946, 0.9194358230322279, 0.9081923195630643, 0.9044364305652293, 0.9181947334852204, 0.9080048396271477, 0.9076066227041656, 0.9124068269013955, 0.9145308667503802, 0.9000904397106384, 0.91236967914224, 0.9103343059865943, 0.913170139415316, 0.9255471372390396, 0.9133956903605795, 0.9182555905184735, 0.9048413865424114, 0.9104949330592907, 0.9256618927723945, 0.9219846691322559]}, {\"categories\": [\"0\", \"1\", \"2\", \"3\", \"4\", \"5\", \"6\", \"7\", \"8\", \"9\", \"10\", \"11\", \"12\", \"13\", \"14\", \"15\", \"16\", \"17\", \"18\", \"19\", \"20\", \"21\", \"22\", \"23\", \"24\", \"25\", \"26\", \"27\", \"28\", \"29\", \"30\", \"31\", \"32\", \"33\", \"34\", \"35\", \"36\", \"37\", \"38\", \"39\", \"40\", \"41\", \"42\", \"43\", \"44\", \"45\", \"46\", \"47\", \"48\", \"49\", \"50\", \"51\", \"52\", \"53\", \"54\", \"55\", \"56\", \"57\", \"58\", \"59\", \"60\", \"61\", \"62\", \"63\", \"64\", \"65\", \"70\", \"71\"], \"mode\": \"lines\", \"name\": \"average_precision_score_weighted_max\", \"stepped\": true, \"type\": \"scatter\", \"data\": [0.8955370396295249, 0.9103506263314479, 0.9103506263314479, 0.9218543676327784, 0.9218543676327784, 0.9218543676327784, 0.9218543676327784, 0.9218543676327784, 0.9218543676327784, 0.9218543676327784, 0.9218543676327784, 0.9218543676327784, 0.9218543676327784, 0.9218543676327784, 0.9218543676327784, 0.9218543676327784, 0.9218543676327784, 0.9218543676327784, 0.9218543676327784, 0.9218543676327784, 0.9218543676327784, 0.9218543676327784, 0.9218543676327784, 0.9218543676327784, 0.9218543676327784, 0.9218543676327784, 0.9218543676327784, 0.9218543676327784, 0.9218543676327784, 0.9218543676327784, 0.9218543676327784, 0.9218543676327784, 0.9218543676327784, 0.9218543676327784, 0.9218543676327784, 0.9218543676327784, 0.9218543676327784, 0.9218543676327784, 0.9218543676327784, 0.9218543676327784, 0.9218543676327784, 0.9225669827791279, 0.9225669827791279, 0.9225669827791279, 0.9225669827791279, 0.9225669827791279, 0.9225669827791279, 0.9225669827791279, 0.9225669827791279, 0.9225669827791279, 0.9225669827791279, 0.9225669827791279, 0.9225669827791279, 0.9225669827791279, 0.9225669827791279, 0.9225669827791279, 0.9225669827791279, 0.9225669827791279, 0.9225669827791279, 0.9225669827791279, 0.9225669827791279, 0.9255471372390396, 0.9255471372390396, 0.9255471372390396, 0.9255471372390396, 0.9255471372390396, 0.9256618927723945, 0.9256618927723945]}], \"matthews_correlation\": [{\"categories\": [\"0\", \"1\", \"2\", \"3\", \"4\", \"5\", \"6\", \"7\", \"8\", \"9\", \"10\", \"11\", \"12\", \"13\", \"14\", \"15\", \"16\", \"17\", \"18\", \"19\", \"20\", \"21\", \"22\", \"23\", \"24\", \"25\", \"26\", \"27\", \"28\", \"29\", \"30\", \"31\", \"32\", \"33\", \"34\", \"35\", \"36\", \"37\", \"38\", \"39\", \"40\", \"41\", \"42\", \"43\", \"44\", \"45\", \"46\", \"47\", \"48\", \"49\", \"50\", \"51\", \"52\", \"53\", \"54\", \"55\", \"56\", \"57\", \"58\", \"59\", \"60\", \"61\", \"62\", \"63\", \"64\", \"65\", \"70\", \"71\"], \"mode\": \"markers\", \"name\": \"matthews_correlation\", \"stepped\": false, \"type\": \"scatter\", \"data\": [0.5628617041183437, 0.6132552509330647, 0.6502095688194764, 0.6329444622239162, 0.5770475641667595, 0.6098322720344446, 0.28757187940300155, 0.6162686798389891, 0.6604081807336983, 0.31174437656989, 0.4415850523205519, 0.6311991764150848, 0.6474279067762632, 0.6293673494859856, 0.5413735838838376, 0.5428697166604373, 0.6341138679482298, 0.5854109086153064, 0.5810479427722941, 0.6199983476431427, 0.5493895363423165, 0.4543713094229485, 0.5890837701086225, 0.6124345610995126, 0.5057105318006015, 0.5549698217617817, 0.4906923450536239, 0.6967017064315904, 0.5695742102119717, 0.5815779631652127, 0.0057173609969871616, 0.532371350980896, 0.6066650041457701, 0.5321057662752623, 0.6616436995990532, 0.6381893711988964, 0.6427436726148947, 0.5903431657959342, 0.5923973506545038, 0.642925230841802, 0.6225434529950691, 0.6222327843383645, 0.6712156074442723, 0.5989642985454766, 0.6101184593970779, 0.23758780452885975, 0.6165055861232203, 0.6270233831494372, 0.6154995949020211, 0.5898744499672439, 0.6229162131076963, 0.6568903004948619, 0.6747423123577063, 0.6299139309053216, 0.5459253601870147, 0.5850122524932571, 0.6760121206483328, 0.554960979415112, 0.6186552200639295, 0.6419196526596067, 0.6178224114510384, 0.6302891091201293, 0.5923296808376164, 0.6147839322959681, 0.6440113337774938, 0.5367371440485287, 0.7258331573961796, 0.6896001997518351]}, {\"categories\": [\"0\", \"1\", \"2\", \"3\", \"4\", \"5\", \"6\", \"7\", \"8\", \"9\", \"10\", \"11\", \"12\", \"13\", \"14\", \"15\", \"16\", \"17\", \"18\", \"19\", \"20\", \"21\", \"22\", \"23\", \"24\", \"25\", \"26\", \"27\", \"28\", \"29\", \"30\", \"31\", \"32\", \"33\", \"34\", \"35\", \"36\", \"37\", \"38\", \"39\", \"40\", \"41\", \"42\", \"43\", \"44\", \"45\", \"46\", \"47\", \"48\", \"49\", \"50\", \"51\", \"52\", \"53\", \"54\", \"55\", \"56\", \"57\", \"58\", \"59\", \"60\", \"61\", \"62\", \"63\", \"64\", \"65\", \"70\", \"71\"], \"mode\": \"lines\", \"name\": \"matthews_correlation_max\", \"stepped\": true, \"type\": \"scatter\", \"data\": [0.5628617041183437, 0.6132552509330647, 0.6502095688194764, 0.6502095688194764, 0.6502095688194764, 0.6502095688194764, 0.6502095688194764, 0.6502095688194764, 0.6604081807336983, 0.6604081807336983, 0.6604081807336983, 0.6604081807336983, 0.6604081807336983, 0.6604081807336983, 0.6604081807336983, 0.6604081807336983, 0.6604081807336983, 0.6604081807336983, 0.6604081807336983, 0.6604081807336983, 0.6604081807336983, 0.6604081807336983, 0.6604081807336983, 0.6604081807336983, 0.6604081807336983, 0.6604081807336983, 0.6604081807336983, 0.6967017064315904, 0.6967017064315904, 0.6967017064315904, 0.6967017064315904, 0.6967017064315904, 0.6967017064315904, 0.6967017064315904, 0.6967017064315904, 0.6967017064315904, 0.6967017064315904, 0.6967017064315904, 0.6967017064315904, 0.6967017064315904, 0.6967017064315904, 0.6967017064315904, 0.6967017064315904, 0.6967017064315904, 0.6967017064315904, 0.6967017064315904, 0.6967017064315904, 0.6967017064315904, 0.6967017064315904, 0.6967017064315904, 0.6967017064315904, 0.6967017064315904, 0.6967017064315904, 0.6967017064315904, 0.6967017064315904, 0.6967017064315904, 0.6967017064315904, 0.6967017064315904, 0.6967017064315904, 0.6967017064315904, 0.6967017064315904, 0.6967017064315904, 0.6967017064315904, 0.6967017064315904, 0.6967017064315904, 0.6967017064315904, 0.7258331573961796, 0.7258331573961796]}], \"precision_score_weighted\": [{\"categories\": [\"0\", \"1\", \"2\", \"3\", \"4\", \"5\", \"6\", \"7\", \"8\", \"9\", \"10\", \"11\", \"12\", \"13\", \"14\", \"15\", \"16\", \"17\", \"18\", \"19\", \"20\", \"21\", \"22\", \"23\", \"24\", \"25\", \"26\", \"27\", \"28\", \"29\", \"30\", \"31\", \"32\", \"33\", \"34\", \"35\", \"36\", \"37\", \"38\", \"39\", \"40\", \"41\", \"42\", \"43\", \"44\", \"45\", \"46\", \"47\", \"48\", \"49\", \"50\", \"51\", \"52\", \"53\", \"54\", \"55\", \"56\", \"57\", \"58\", \"59\", \"60\", \"61\", \"62\", \"63\", \"64\", \"65\", \"70\", \"71\"], \"mode\": \"markers\", \"name\": \"precision_score_weighted\", \"stepped\": false, \"type\": \"scatter\", \"data\": [0.8237683758533973, 0.8403871377947292, 0.8551557774276851, 0.853153767704365, 0.8290835180802258, 0.8431960681441348, 0.7234391200280821, 0.852412546738455, 0.8646464804683163, 0.7195443017257723, 0.8167273488177443, 0.8531774663897151, 0.8605457471188205, 0.851090309907162, 0.8180345629300609, 0.8196810460480322, 0.8486564553883307, 0.8387098774887232, 0.8314096049391377, 0.8480004451721669, 0.8310137919373973, 0.7972724245976769, 0.8327321160512022, 0.8443026017283255, 0.8236559804004638, 0.8206949582672414, 0.8051021345900187, 0.8790294584035518, 0.8273280086885976, 0.8334694190175712, 0.576589164131537, 0.8256386286275749, 0.8390596976919749, 0.8129578648228012, 0.8665940133645677, 0.8545658291631482, 0.8608507844724513, 0.8407374045536857, 0.8432942785486341, 0.8552005305251003, 0.8489042974915912, 0.8490123736992228, 0.8722120025229827, 0.8374283140915418, 0.8470769273342704, 0.6909650397179389, 0.8458761067157965, 0.8480489524455879, 0.842140254999236, 0.8374499753748095, 0.8489054613955664, 0.8634172995690739, 0.8689567380481694, 0.8508375281506414, 0.8214516583998863, 0.8331734862751812, 0.8693163682846807, 0.8293711761369502, 0.8471193407289135, 0.8620865093197884, 0.8471796390744452, 0.8534766145619412, 0.8380089632225916, 0.8446860538608979, 0.861332685109708, 0.8154581480818566, 0.8934916290495668, 0.8789111363142637]}, {\"categories\": [\"0\", \"1\", \"2\", \"3\", \"4\", \"5\", \"6\", \"7\", \"8\", \"9\", \"10\", \"11\", \"12\", \"13\", \"14\", \"15\", \"16\", \"17\", \"18\", \"19\", \"20\", \"21\", \"22\", \"23\", \"24\", \"25\", \"26\", \"27\", \"28\", \"29\", \"30\", \"31\", \"32\", \"33\", \"34\", \"35\", \"36\", \"37\", \"38\", \"39\", \"40\", \"41\", \"42\", \"43\", \"44\", \"45\", \"46\", \"47\", \"48\", \"49\", \"50\", \"51\", \"52\", \"53\", \"54\", \"55\", \"56\", \"57\", \"58\", \"59\", \"60\", \"61\", \"62\", \"63\", \"64\", \"65\", \"70\", \"71\"], \"mode\": \"lines\", \"name\": \"precision_score_weighted_max\", \"stepped\": true, \"type\": \"scatter\", \"data\": [0.8237683758533973, 0.8403871377947292, 0.8551557774276851, 0.8551557774276851, 0.8551557774276851, 0.8551557774276851, 0.8551557774276851, 0.8551557774276851, 0.8646464804683163, 0.8646464804683163, 0.8646464804683163, 0.8646464804683163, 0.8646464804683163, 0.8646464804683163, 0.8646464804683163, 0.8646464804683163, 0.8646464804683163, 0.8646464804683163, 0.8646464804683163, 0.8646464804683163, 0.8646464804683163, 0.8646464804683163, 0.8646464804683163, 0.8646464804683163, 0.8646464804683163, 0.8646464804683163, 0.8646464804683163, 0.8790294584035518, 0.8790294584035518, 0.8790294584035518, 0.8790294584035518, 0.8790294584035518, 0.8790294584035518, 0.8790294584035518, 0.8790294584035518, 0.8790294584035518, 0.8790294584035518, 0.8790294584035518, 0.8790294584035518, 0.8790294584035518, 0.8790294584035518, 0.8790294584035518, 0.8790294584035518, 0.8790294584035518, 0.8790294584035518, 0.8790294584035518, 0.8790294584035518, 0.8790294584035518, 0.8790294584035518, 0.8790294584035518, 0.8790294584035518, 0.8790294584035518, 0.8790294584035518, 0.8790294584035518, 0.8790294584035518, 0.8790294584035518, 0.8790294584035518, 0.8790294584035518, 0.8790294584035518, 0.8790294584035518, 0.8790294584035518, 0.8790294584035518, 0.8790294584035518, 0.8790294584035518, 0.8790294584035518, 0.8790294584035518, 0.8934916290495668, 0.8934916290495668]}], \"accuracy\": [{\"categories\": [\"0\", \"1\", \"2\", \"3\", \"4\", \"5\", \"6\", \"7\", \"8\", \"9\", \"10\", \"11\", \"12\", \"13\", \"14\", \"15\", \"16\", \"17\", \"18\", \"19\", \"20\", \"21\", \"22\", \"23\", \"24\", \"25\", \"26\", \"27\", \"28\", \"29\", \"30\", \"31\", \"32\", \"33\", \"34\", \"35\", \"36\", \"37\", \"38\", \"39\", \"40\", \"41\", \"42\", \"43\", \"44\", \"45\", \"46\", \"47\", \"48\", \"49\", \"50\", \"51\", \"52\", \"53\", \"54\", \"55\", \"56\", \"57\", \"58\", \"59\", \"60\", \"61\", \"62\", \"63\", \"64\", \"65\", \"70\", \"71\"], \"mode\": \"markers\", \"name\": \"accuracy\", \"stepped\": false, \"type\": \"scatter\", \"data\": [0.8059887005649717, 0.8259322033898304, 0.8527118644067798, 0.8359887005649718, 0.8091525423728815, 0.8328248587570621, 0.7090960451977402, 0.8261581920903955, 0.846271186440678, 0.7058757062146892, 0.7627118644067796, 0.8329943502824859, 0.8462146892655367, 0.8393785310734463, 0.8025423728813559, 0.8093785310734465, 0.8396610169491525, 0.8194915254237287, 0.8194350282485875, 0.8328248587570621, 0.802768361581921, 0.7694350282485876, 0.822542372881356, 0.8259887005649716, 0.7893785310734462, 0.8023728813559323, 0.7828248587570621, 0.8629943502824858, 0.8159322033898304, 0.8193785310734463, 0.6154802259887006, 0.8027118644067798, 0.8294915254237288, 0.7992090395480226, 0.8495480225988701, 0.8427683615819209, 0.8429378531073446, 0.8160451977401131, 0.8193785310734464, 0.8425988700564971, 0.8328813559322035, 0.8327683615819209, 0.8529378531073446, 0.8226553672316385, 0.8327118644067795, 0.7058757062146892, 0.8292090395480226, 0.8362146892655368, 0.8328248587570621, 0.8124293785310736, 0.836045197740113, 0.8496045197740113, 0.8562146892655367, 0.8359887005649718, 0.8059322033898304, 0.8191525423728814, 0.8562146892655367, 0.8061016949152542, 0.8361016949152542, 0.8462146892655367, 0.8327683615819209, 0.836045197740113, 0.8191525423728814, 0.8259322033898305, 0.8396045197740113, 0.8025423728813559, 0.8763276836158193, 0.8596045197740112]}, {\"categories\": [\"0\", \"1\", \"2\", \"3\", \"4\", \"5\", \"6\", \"7\", \"8\", \"9\", \"10\", \"11\", \"12\", \"13\", \"14\", \"15\", \"16\", \"17\", \"18\", \"19\", \"20\", \"21\", \"22\", \"23\", \"24\", \"25\", \"26\", \"27\", \"28\", \"29\", \"30\", \"31\", \"32\", \"33\", \"34\", \"35\", \"36\", \"37\", \"38\", \"39\", \"40\", \"41\", \"42\", \"43\", \"44\", \"45\", \"46\", \"47\", \"48\", \"49\", \"50\", \"51\", \"52\", \"53\", \"54\", \"55\", \"56\", \"57\", \"58\", \"59\", \"60\", \"61\", \"62\", \"63\", \"64\", \"65\", \"70\", \"71\"], \"mode\": \"lines\", \"name\": \"accuracy_max\", \"stepped\": true, \"type\": \"scatter\", \"data\": [0.8059887005649717, 0.8259322033898304, 0.8527118644067798, 0.8527118644067798, 0.8527118644067798, 0.8527118644067798, 0.8527118644067798, 0.8527118644067798, 0.8527118644067798, 0.8527118644067798, 0.8527118644067798, 0.8527118644067798, 0.8527118644067798, 0.8527118644067798, 0.8527118644067798, 0.8527118644067798, 0.8527118644067798, 0.8527118644067798, 0.8527118644067798, 0.8527118644067798, 0.8527118644067798, 0.8527118644067798, 0.8527118644067798, 0.8527118644067798, 0.8527118644067798, 0.8527118644067798, 0.8527118644067798, 0.8629943502824858, 0.8629943502824858, 0.8629943502824858, 0.8629943502824858, 0.8629943502824858, 0.8629943502824858, 0.8629943502824858, 0.8629943502824858, 0.8629943502824858, 0.8629943502824858, 0.8629943502824858, 0.8629943502824858, 0.8629943502824858, 0.8629943502824858, 0.8629943502824858, 0.8629943502824858, 0.8629943502824858, 0.8629943502824858, 0.8629943502824858, 0.8629943502824858, 0.8629943502824858, 0.8629943502824858, 0.8629943502824858, 0.8629943502824858, 0.8629943502824858, 0.8629943502824858, 0.8629943502824858, 0.8629943502824858, 0.8629943502824858, 0.8629943502824858, 0.8629943502824858, 0.8629943502824858, 0.8629943502824858, 0.8629943502824858, 0.8629943502824858, 0.8629943502824858, 0.8629943502824858, 0.8629943502824858, 0.8629943502824858, 0.8763276836158193, 0.8763276836158193]}], \"AUC_micro\": [{\"categories\": [\"0\", \"1\", \"2\", \"3\", \"4\", \"5\", \"6\", \"7\", \"8\", \"9\", \"10\", \"11\", \"12\", \"13\", \"14\", \"15\", \"16\", \"17\", \"18\", \"19\", \"20\", \"21\", \"22\", \"23\", \"24\", \"25\", \"26\", \"27\", \"28\", \"29\", \"30\", \"31\", \"32\", \"33\", \"34\", \"35\", \"36\", \"37\", \"38\", \"39\", \"40\", \"41\", \"42\", \"43\", \"44\", \"45\", \"46\", \"47\", \"48\", \"49\", \"50\", \"51\", \"52\", \"53\", \"54\", \"55\", \"56\", \"57\", \"58\", \"59\", \"60\", \"61\", \"62\", \"63\", \"64\", \"65\", \"70\", \"71\"], \"mode\": \"markers\", \"name\": \"AUC_micro\", \"stepped\": false, \"type\": \"scatter\", \"data\": [0.8880105014523284, 0.8999905678444892, 0.9118770787449328, 0.9056539149031251, 0.9051154521369975, 0.9005570238437229, 0.7792636375243385, 0.8961263525806761, 0.9035812346388331, 0.8039162756551438, 0.8615447029908392, 0.8939478119314372, 0.9043675827508061, 0.9028295987742986, 0.8944535254875674, 0.8762564716396948, 0.8995741166331512, 0.887295397235788, 0.8815026732420442, 0.9071681349548341, 0.8813889527275048, 0.8569207603179162, 0.9008780203645184, 0.8885138370200135, 0.8741572345111559, 0.8836202240735421, 0.8641562769319162, 0.9021135210188642, 0.901777362826774, 0.9004606434932491, 0.6426449774968879, 0.8722555300201092, 0.8945921670018194, 0.8989886686456637, 0.8939511474991223, 0.897738421271027, 0.9047868428612468, 0.8784487854703309, 0.8817227648504581, 0.912053720195346, 0.8891272942002617, 0.910906987136519, 0.9007882632704522, 0.9066643525168374, 0.8955176194580101, 0.8472403364295061, 0.910653914903125, 0.8932559768904209, 0.8846429825401385, 0.9024654154297934, 0.89657223339398, 0.9057792460659453, 0.9103338600019152, 0.9006909413003925, 0.8991396629321077, 0.9024805930607425, 0.9084183823294711, 0.8918694659899773, 0.8985318714290275, 0.9040437294519454, 0.9060332918382329, 0.9108799195633438, 0.903020955025695, 0.9112213444412525, 0.8968082128379458, 0.8953889527275048, 0.9160299562705481, 0.9093979539723579]}, {\"categories\": [\"0\", \"1\", \"2\", \"3\", \"4\", \"5\", \"6\", \"7\", \"8\", \"9\", \"10\", \"11\", \"12\", \"13\", \"14\", \"15\", \"16\", \"17\", \"18\", \"19\", \"20\", \"21\", \"22\", \"23\", \"24\", \"25\", \"26\", \"27\", \"28\", \"29\", \"30\", \"31\", \"32\", \"33\", \"34\", \"35\", \"36\", \"37\", \"38\", \"39\", \"40\", \"41\", \"42\", \"43\", \"44\", \"45\", \"46\", \"47\", \"48\", \"49\", \"50\", \"51\", \"52\", \"53\", \"54\", \"55\", \"56\", \"57\", \"58\", \"59\", \"60\", \"61\", \"62\", \"63\", \"64\", \"65\", \"70\", \"71\"], \"mode\": \"lines\", \"name\": \"AUC_micro_max\", \"stepped\": true, \"type\": \"scatter\", \"data\": [0.8880105014523284, 0.8999905678444892, 0.9118770787449328, 0.9118770787449328, 0.9118770787449328, 0.9118770787449328, 0.9118770787449328, 0.9118770787449328, 0.9118770787449328, 0.9118770787449328, 0.9118770787449328, 0.9118770787449328, 0.9118770787449328, 0.9118770787449328, 0.9118770787449328, 0.9118770787449328, 0.9118770787449328, 0.9118770787449328, 0.9118770787449328, 0.9118770787449328, 0.9118770787449328, 0.9118770787449328, 0.9118770787449328, 0.9118770787449328, 0.9118770787449328, 0.9118770787449328, 0.9118770787449328, 0.9118770787449328, 0.9118770787449328, 0.9118770787449328, 0.9118770787449328, 0.9118770787449328, 0.9118770787449328, 0.9118770787449328, 0.9118770787449328, 0.9118770787449328, 0.9118770787449328, 0.9118770787449328, 0.9118770787449328, 0.912053720195346, 0.912053720195346, 0.912053720195346, 0.912053720195346, 0.912053720195346, 0.912053720195346, 0.912053720195346, 0.912053720195346, 0.912053720195346, 0.912053720195346, 0.912053720195346, 0.912053720195346, 0.912053720195346, 0.912053720195346, 0.912053720195346, 0.912053720195346, 0.912053720195346, 0.912053720195346, 0.912053720195346, 0.912053720195346, 0.912053720195346, 0.912053720195346, 0.912053720195346, 0.912053720195346, 0.912053720195346, 0.912053720195346, 0.912053720195346, 0.9160299562705481, 0.9160299562705481]}], \"f1_score_macro\": [{\"categories\": [\"0\", \"1\", \"2\", \"3\", \"4\", \"5\", \"6\", \"7\", \"8\", \"9\", \"10\", \"11\", \"12\", \"13\", \"14\", \"15\", \"16\", \"17\", \"18\", \"19\", \"20\", \"21\", \"22\", \"23\", \"24\", \"25\", \"26\", \"27\", \"28\", \"29\", \"30\", \"31\", \"32\", \"33\", \"34\", \"35\", \"36\", \"37\", \"38\", \"39\", \"40\", \"41\", \"42\", \"43\", \"44\", \"45\", \"46\", \"47\", \"48\", \"49\", \"50\", \"51\", \"52\", \"53\", \"54\", \"55\", \"56\", \"57\", \"58\", \"59\", \"60\", \"61\", \"62\", \"63\", \"64\", \"65\", \"70\", \"71\"], \"mode\": \"markers\", \"name\": \"f1_score_macro\", \"stepped\": false, \"type\": \"scatter\", \"data\": [0.7682096405971308, 0.7972526241921125, 0.8206226273628084, 0.8027164149666165, 0.7790350256512768, 0.7953834848434392, 0.6025715673215674, 0.784384931703028, 0.8182329158586782, 0.6249451482324965, 0.6464044730307192, 0.8017629707082936, 0.810088966363303, 0.8045872420707253, 0.7538489296370823, 0.7611013563473851, 0.8095790583685322, 0.7743469371274937, 0.776696725246094, 0.7977064698505035, 0.7414977902241594, 0.678285959499023, 0.78529137107324, 0.7974723133363444, 0.708066847545016, 0.7713992043753789, 0.7181038145498233, 0.8370500682658986, 0.7733497506413967, 0.7754473481504516, 0.48935277402950417, 0.7362912400346854, 0.7939746869295674, 0.7529803843266767, 0.8118199413825643, 0.8069452597676164, 0.8079982691541832, 0.777731957024298, 0.7731602696562982, 0.8137449462581573, 0.7993398674957167, 0.7985823866888583, 0.8195788114817821, 0.7889856453734924, 0.7889732670088738, 0.5082306977349559, 0.8001150853057049, 0.8027945235847085, 0.8013796753188039, 0.7846771990047532, 0.7994871657024281, 0.8161275803155832, 0.8237410712567863, 0.8054915040413915, 0.7574840591507258, 0.7827402027593681, 0.8246435536850356, 0.7542112514696655, 0.7976574354672008, 0.8071886883069187, 0.7965207363758088, 0.8020291516497903, 0.7833767456673864, 0.8002089107119434, 0.8061032122406548, 0.7524711910705888, 0.8495459791619602, 0.8287036715732065]}, {\"categories\": [\"0\", \"1\", \"2\", \"3\", \"4\", \"5\", \"6\", \"7\", \"8\", \"9\", \"10\", \"11\", \"12\", \"13\", \"14\", \"15\", \"16\", \"17\", \"18\", \"19\", \"20\", \"21\", \"22\", \"23\", \"24\", \"25\", \"26\", \"27\", \"28\", \"29\", \"30\", \"31\", \"32\", \"33\", \"34\", \"35\", \"36\", \"37\", \"38\", \"39\", \"40\", \"41\", \"42\", \"43\", \"44\", \"45\", \"46\", \"47\", \"48\", \"49\", \"50\", \"51\", \"52\", \"53\", \"54\", \"55\", \"56\", \"57\", \"58\", \"59\", \"60\", \"61\", \"62\", \"63\", \"64\", \"65\", \"70\", \"71\"], \"mode\": \"lines\", \"name\": \"f1_score_macro_max\", \"stepped\": true, \"type\": \"scatter\", \"data\": [0.7682096405971308, 0.7972526241921125, 0.8206226273628084, 0.8206226273628084, 0.8206226273628084, 0.8206226273628084, 0.8206226273628084, 0.8206226273628084, 0.8206226273628084, 0.8206226273628084, 0.8206226273628084, 0.8206226273628084, 0.8206226273628084, 0.8206226273628084, 0.8206226273628084, 0.8206226273628084, 0.8206226273628084, 0.8206226273628084, 0.8206226273628084, 0.8206226273628084, 0.8206226273628084, 0.8206226273628084, 0.8206226273628084, 0.8206226273628084, 0.8206226273628084, 0.8206226273628084, 0.8206226273628084, 0.8370500682658986, 0.8370500682658986, 0.8370500682658986, 0.8370500682658986, 0.8370500682658986, 0.8370500682658986, 0.8370500682658986, 0.8370500682658986, 0.8370500682658986, 0.8370500682658986, 0.8370500682658986, 0.8370500682658986, 0.8370500682658986, 0.8370500682658986, 0.8370500682658986, 0.8370500682658986, 0.8370500682658986, 0.8370500682658986, 0.8370500682658986, 0.8370500682658986, 0.8370500682658986, 0.8370500682658986, 0.8370500682658986, 0.8370500682658986, 0.8370500682658986, 0.8370500682658986, 0.8370500682658986, 0.8370500682658986, 0.8370500682658986, 0.8370500682658986, 0.8370500682658986, 0.8370500682658986, 0.8370500682658986, 0.8370500682658986, 0.8370500682658986, 0.8370500682658986, 0.8370500682658986, 0.8370500682658986, 0.8370500682658986, 0.8495459791619602, 0.8495459791619602]}], \"log_loss\": [{\"categories\": [\"0\", \"1\", \"2\", \"3\", \"4\", \"5\", \"6\", \"7\", \"8\", \"9\", \"10\", \"11\", \"12\", \"13\", \"14\", \"15\", \"16\", \"17\", \"18\", \"19\", \"20\", \"21\", \"22\", \"23\", \"24\", \"25\", \"26\", \"27\", \"28\", \"29\", \"30\", \"31\", \"32\", \"33\", \"34\", \"35\", \"36\", \"37\", \"38\", \"39\", \"40\", \"41\", \"42\", \"43\", \"44\", \"45\", \"46\", \"47\", \"48\", \"49\", \"50\", \"51\", \"52\", \"53\", \"54\", \"55\", \"56\", \"57\", \"58\", \"59\", \"60\", \"61\", \"62\", \"63\", \"64\", \"65\", \"70\", \"71\"], \"mode\": \"markers\", \"name\": \"log_loss\", \"stepped\": false, \"type\": \"scatter\", \"data\": [0.5282491261622873, 0.43217688137359717, 0.38136028345993384, 0.3926138932694811, 0.39588099245262537, 0.41147536333410406, 0.5909069946687417, 0.41609772050327454, 0.39668155380939407, 0.5462478593762794, 0.49479099978984975, 0.41472333246893617, 0.41004773972812725, 0.41773726522789173, 0.43546851362189176, 0.4899611430866921, 0.4049669611121631, 0.5076274594344932, 0.43276807177354304, 0.3907823102788081, 0.4647339290667677, 0.5003124241794972, 0.4070862552186435, 0.48299288737028734, 0.47813459806386643, 0.47361167312264635, 0.46628763492939385, 0.39638618829671424, 0.40283210236564937, 0.49685862213817666, 0.6980782270512373, 0.47619505397809425, 0.41231197417096216, 0.40438081622641187, 0.43807362378504333, 0.41746986252835416, 0.4022716767920362, 0.44822806573662416, 0.4635284890545358, 0.3778251877645161, 0.42269993035842823, 0.38643071157350467, 0.4175754024887988, 0.39476123934127805, 0.40822234183938627, 0.5325556587538646, 0.37746855263557816, 0.4232753973418095, 0.47391762159455303, 0.39387086342070354, 0.43317750258376153, 0.38995629857272407, 0.3945672883439378, 0.39997659347850567, 0.40340435698971167, 0.3946772174593303, 0.389089091484602, 0.42372478224211585, 0.4225379409453021, 0.3963164200575965, 0.3897837665525084, 0.3846286125137054, 0.4046568352382722, 0.44155466334955024, 0.40476403835256336, 0.4146436896371314, 0.3712387980151897, 0.3918241833293944]}, {\"categories\": [\"0\", \"1\", \"2\", \"3\", \"4\", \"5\", \"6\", \"7\", \"8\", \"9\", \"10\", \"11\", \"12\", \"13\", \"14\", \"15\", \"16\", \"17\", \"18\", \"19\", \"20\", \"21\", \"22\", \"23\", \"24\", \"25\", \"26\", \"27\", \"28\", \"29\", \"30\", \"31\", \"32\", \"33\", \"34\", \"35\", \"36\", \"37\", \"38\", \"39\", \"40\", \"41\", \"42\", \"43\", \"44\", \"45\", \"46\", \"47\", \"48\", \"49\", \"50\", \"51\", \"52\", \"53\", \"54\", \"55\", \"56\", \"57\", \"58\", \"59\", \"60\", \"61\", \"62\", \"63\", \"64\", \"65\", \"70\", \"71\"], \"mode\": \"lines\", \"name\": \"log_loss_min\", \"stepped\": true, \"type\": \"scatter\", \"data\": [0.5282491261622873, 0.43217688137359717, 0.38136028345993384, 0.38136028345993384, 0.38136028345993384, 0.38136028345993384, 0.38136028345993384, 0.38136028345993384, 0.38136028345993384, 0.38136028345993384, 0.38136028345993384, 0.38136028345993384, 0.38136028345993384, 0.38136028345993384, 0.38136028345993384, 0.38136028345993384, 0.38136028345993384, 0.38136028345993384, 0.38136028345993384, 0.38136028345993384, 0.38136028345993384, 0.38136028345993384, 0.38136028345993384, 0.38136028345993384, 0.38136028345993384, 0.38136028345993384, 0.38136028345993384, 0.38136028345993384, 0.38136028345993384, 0.38136028345993384, 0.38136028345993384, 0.38136028345993384, 0.38136028345993384, 0.38136028345993384, 0.38136028345993384, 0.38136028345993384, 0.38136028345993384, 0.38136028345993384, 0.38136028345993384, 0.3778251877645161, 0.3778251877645161, 0.3778251877645161, 0.3778251877645161, 0.3778251877645161, 0.3778251877645161, 0.3778251877645161, 0.37746855263557816, 0.37746855263557816, 0.37746855263557816, 0.37746855263557816, 0.37746855263557816, 0.37746855263557816, 0.37746855263557816, 0.37746855263557816, 0.37746855263557816, 0.37746855263557816, 0.37746855263557816, 0.37746855263557816, 0.37746855263557816, 0.37746855263557816, 0.37746855263557816, 0.37746855263557816, 0.37746855263557816, 0.37746855263557816, 0.37746855263557816, 0.37746855263557816, 0.3712387980151897, 0.3712387980151897]}], \"average_precision_score_macro\": [{\"categories\": [\"0\", \"1\", \"2\", \"3\", \"4\", \"5\", \"6\", \"7\", \"8\", \"9\", \"10\", \"11\", \"12\", \"13\", \"14\", \"15\", \"16\", \"17\", \"18\", \"19\", \"20\", \"21\", \"22\", \"23\", \"24\", \"25\", \"26\", \"27\", \"28\", \"29\", \"30\", \"31\", \"32\", \"33\", \"34\", \"35\", \"36\", \"37\", \"38\", \"39\", \"40\", \"41\", \"42\", \"43\", \"44\", \"45\", \"46\", \"47\", \"48\", \"49\", \"50\", \"51\", \"52\", \"53\", \"54\", \"55\", \"56\", \"57\", \"58\", \"59\", \"60\", \"61\", \"62\", \"63\", \"64\", \"65\", \"70\", \"71\"], \"mode\": \"markers\", \"name\": \"average_precision_score_macro\", \"stepped\": false, \"type\": \"scatter\", \"data\": [0.8655792376041671, 0.8826936933050062, 0.880172924401158, 0.8989089379675859, 0.8784836804588654, 0.8711459513030043, 0.7184634262666745, 0.873840304380457, 0.8817569707809666, 0.7533660858636584, 0.8775267919236173, 0.8756968477195303, 0.8829306872369479, 0.8964114768327522, 0.8773379269334891, 0.8329476717741734, 0.8728899332889071, 0.8681415908355511, 0.8477273093475757, 0.8846801667087874, 0.8662341386613235, 0.8506617490999726, 0.879386448794212, 0.8752270776762568, 0.8749216926658885, 0.8552759527951324, 0.8447052661124144, 0.881924579696425, 0.8858515100406625, 0.8772380460087564, 0.5154966161015346, 0.8339445190361652, 0.8699005220007546, 0.8797859148942979, 0.8819603720394482, 0.8868840185762868, 0.8854270746896253, 0.8519402146392121, 0.8378793738361147, 0.8889312064198037, 0.8688933189711486, 0.8978674713737431, 0.8872161186287257, 0.8923751008788816, 0.8717873896962847, 0.8869900517351155, 0.8952020345858591, 0.8690637121250344, 0.841342753381442, 0.8922081271438163, 0.8847702331701225, 0.8802531433544377, 0.8959227564046847, 0.8845386911147678, 0.8819006551069156, 0.8841391948383958, 0.8926169542119229, 0.8701390957908991, 0.8901505873721739, 0.8856947230443731, 0.8900170997201361, 0.9024612747765053, 0.8842447366854044, 0.8941183309285303, 0.8736384978211287, 0.881866619804969, 0.9032289354516564, 0.8988615409480243]}, {\"categories\": [\"0\", \"1\", \"2\", \"3\", \"4\", \"5\", \"6\", \"7\", \"8\", \"9\", \"10\", \"11\", \"12\", \"13\", \"14\", \"15\", \"16\", \"17\", \"18\", \"19\", \"20\", \"21\", \"22\", \"23\", \"24\", \"25\", \"26\", \"27\", \"28\", \"29\", \"30\", \"31\", \"32\", \"33\", \"34\", \"35\", \"36\", \"37\", \"38\", \"39\", \"40\", \"41\", \"42\", \"43\", \"44\", \"45\", \"46\", \"47\", \"48\", \"49\", \"50\", \"51\", \"52\", \"53\", \"54\", \"55\", \"56\", \"57\", \"58\", \"59\", \"60\", \"61\", \"62\", \"63\", \"64\", \"65\", \"70\", \"71\"], \"mode\": \"lines\", \"name\": \"average_precision_score_macro_max\", \"stepped\": true, \"type\": \"scatter\", \"data\": [0.8655792376041671, 0.8826936933050062, 0.8826936933050062, 0.8989089379675859, 0.8989089379675859, 0.8989089379675859, 0.8989089379675859, 0.8989089379675859, 0.8989089379675859, 0.8989089379675859, 0.8989089379675859, 0.8989089379675859, 0.8989089379675859, 0.8989089379675859, 0.8989089379675859, 0.8989089379675859, 0.8989089379675859, 0.8989089379675859, 0.8989089379675859, 0.8989089379675859, 0.8989089379675859, 0.8989089379675859, 0.8989089379675859, 0.8989089379675859, 0.8989089379675859, 0.8989089379675859, 0.8989089379675859, 0.8989089379675859, 0.8989089379675859, 0.8989089379675859, 0.8989089379675859, 0.8989089379675859, 0.8989089379675859, 0.8989089379675859, 0.8989089379675859, 0.8989089379675859, 0.8989089379675859, 0.8989089379675859, 0.8989089379675859, 0.8989089379675859, 0.8989089379675859, 0.8989089379675859, 0.8989089379675859, 0.8989089379675859, 0.8989089379675859, 0.8989089379675859, 0.8989089379675859, 0.8989089379675859, 0.8989089379675859, 0.8989089379675859, 0.8989089379675859, 0.8989089379675859, 0.8989089379675859, 0.8989089379675859, 0.8989089379675859, 0.8989089379675859, 0.8989089379675859, 0.8989089379675859, 0.8989089379675859, 0.8989089379675859, 0.8989089379675859, 0.9024612747765053, 0.9024612747765053, 0.9024612747765053, 0.9024612747765053, 0.9024612747765053, 0.9032289354516564, 0.9032289354516564]}], \"recall_score_micro\": [{\"categories\": [\"0\", \"1\", \"2\", \"3\", \"4\", \"5\", \"6\", \"7\", \"8\", \"9\", \"10\", \"11\", \"12\", \"13\", \"14\", \"15\", \"16\", \"17\", \"18\", \"19\", \"20\", \"21\", \"22\", \"23\", \"24\", \"25\", \"26\", \"27\", \"28\", \"29\", \"30\", \"31\", \"32\", \"33\", \"34\", \"35\", \"36\", \"37\", \"38\", \"39\", \"40\", \"41\", \"42\", \"43\", \"44\", \"45\", \"46\", \"47\", \"48\", \"49\", \"50\", \"51\", \"52\", \"53\", \"54\", \"55\", \"56\", \"57\", \"58\", \"59\", \"60\", \"61\", \"62\", \"63\", \"64\", \"65\", \"70\", \"71\"], \"mode\": \"markers\", \"name\": \"recall_score_micro\", \"stepped\": false, \"type\": \"scatter\", \"data\": [0.8059887005649717, 0.8259322033898304, 0.8527118644067798, 0.8359887005649718, 0.8091525423728815, 0.8328248587570621, 0.7090960451977402, 0.8261581920903955, 0.846271186440678, 0.7058757062146892, 0.7627118644067796, 0.8329943502824859, 0.8462146892655367, 0.8393785310734463, 0.8025423728813559, 0.8093785310734465, 0.8396610169491525, 0.8194915254237287, 0.8194350282485875, 0.8328248587570621, 0.802768361581921, 0.7694350282485876, 0.822542372881356, 0.8259887005649716, 0.7893785310734462, 0.8023728813559323, 0.7828248587570621, 0.8629943502824858, 0.8159322033898304, 0.8193785310734463, 0.6154802259887006, 0.8027118644067798, 0.8294915254237288, 0.7992090395480226, 0.8495480225988701, 0.8427683615819209, 0.8429378531073446, 0.8160451977401131, 0.8193785310734464, 0.8425988700564971, 0.8328813559322035, 0.8327683615819209, 0.8529378531073446, 0.8226553672316385, 0.8327118644067795, 0.7058757062146892, 0.8292090395480226, 0.8362146892655368, 0.8328248587570621, 0.8124293785310736, 0.836045197740113, 0.8496045197740113, 0.8562146892655367, 0.8359887005649718, 0.8059322033898304, 0.8191525423728814, 0.8562146892655367, 0.8061016949152542, 0.8361016949152542, 0.8462146892655367, 0.8327683615819209, 0.836045197740113, 0.8191525423728814, 0.8259322033898305, 0.8396045197740113, 0.8025423728813559, 0.8763276836158193, 0.8596045197740112]}, {\"categories\": [\"0\", \"1\", \"2\", \"3\", \"4\", \"5\", \"6\", \"7\", \"8\", \"9\", \"10\", \"11\", \"12\", \"13\", \"14\", \"15\", \"16\", \"17\", \"18\", \"19\", \"20\", \"21\", \"22\", \"23\", \"24\", \"25\", \"26\", \"27\", \"28\", \"29\", \"30\", \"31\", \"32\", \"33\", \"34\", \"35\", \"36\", \"37\", \"38\", \"39\", \"40\", \"41\", \"42\", \"43\", \"44\", \"45\", \"46\", \"47\", \"48\", \"49\", \"50\", \"51\", \"52\", \"53\", \"54\", \"55\", \"56\", \"57\", \"58\", \"59\", \"60\", \"61\", \"62\", \"63\", \"64\", \"65\", \"70\", \"71\"], \"mode\": \"lines\", \"name\": \"recall_score_micro_max\", \"stepped\": true, \"type\": \"scatter\", \"data\": [0.8059887005649717, 0.8259322033898304, 0.8527118644067798, 0.8527118644067798, 0.8527118644067798, 0.8527118644067798, 0.8527118644067798, 0.8527118644067798, 0.8527118644067798, 0.8527118644067798, 0.8527118644067798, 0.8527118644067798, 0.8527118644067798, 0.8527118644067798, 0.8527118644067798, 0.8527118644067798, 0.8527118644067798, 0.8527118644067798, 0.8527118644067798, 0.8527118644067798, 0.8527118644067798, 0.8527118644067798, 0.8527118644067798, 0.8527118644067798, 0.8527118644067798, 0.8527118644067798, 0.8527118644067798, 0.8629943502824858, 0.8629943502824858, 0.8629943502824858, 0.8629943502824858, 0.8629943502824858, 0.8629943502824858, 0.8629943502824858, 0.8629943502824858, 0.8629943502824858, 0.8629943502824858, 0.8629943502824858, 0.8629943502824858, 0.8629943502824858, 0.8629943502824858, 0.8629943502824858, 0.8629943502824858, 0.8629943502824858, 0.8629943502824858, 0.8629943502824858, 0.8629943502824858, 0.8629943502824858, 0.8629943502824858, 0.8629943502824858, 0.8629943502824858, 0.8629943502824858, 0.8629943502824858, 0.8629943502824858, 0.8629943502824858, 0.8629943502824858, 0.8629943502824858, 0.8629943502824858, 0.8629943502824858, 0.8629943502824858, 0.8629943502824858, 0.8629943502824858, 0.8629943502824858, 0.8629943502824858, 0.8629943502824858, 0.8629943502824858, 0.8763276836158193, 0.8763276836158193]}], \"AUC_weighted\": [{\"categories\": [\"0\", \"1\", \"2\", \"3\", \"4\", \"5\", \"6\", \"7\", \"8\", \"9\", \"10\", \"11\", \"12\", \"13\", \"14\", \"15\", \"16\", \"17\", \"18\", \"19\", \"20\", \"21\", \"22\", \"23\", \"24\", \"25\", \"26\", \"27\", \"28\", \"29\", \"30\", \"31\", \"32\", \"33\", \"34\", \"35\", \"36\", \"37\", \"38\", \"39\", \"40\", \"41\", \"42\", \"43\", \"44\", \"45\", \"46\", \"47\", \"48\", \"49\", \"50\", \"51\", \"52\", \"53\", \"54\", \"55\", \"56\", \"57\", \"58\", \"59\", \"60\", \"61\", \"62\", \"63\", \"64\", \"65\", \"70\", \"71\"], \"mode\": \"markers\", \"name\": \"AUC_weighted\", \"stepped\": false, \"type\": \"scatter\", \"data\": [0.8811331210778885, 0.8929591177556293, 0.8999768133997785, 0.9090493724621631, 0.8980521871539313, 0.889329422757475, 0.7394446982281285, 0.8907245985603544, 0.894921534699151, 0.7886524547803617, 0.8820064368770764, 0.8876433877814691, 0.8948378091546696, 0.9038673864894795, 0.8927271594684386, 0.8592381875230715, 0.8876623292727943, 0.8760033453303802, 0.8677461586378736, 0.9017715023994095, 0.8798557585825029, 0.862297965116279, 0.8928366555924697, 0.8818579734219268, 0.8839640319306016, 0.8810113510520488, 0.8585059523809523, 0.8956993816906609, 0.8986199012550757, 0.8939180624769287, 0.4873819905869324, 0.8621787790697674, 0.8866551541159099, 0.8899154438907345, 0.8910059754521964, 0.8970446774640088, 0.9005084671465486, 0.8681016519010705, 0.886327888519749, 0.9041476790328534, 0.8788698781838316, 0.9113850590623847, 0.8949521963824291, 0.9010762504614249, 0.8898385474344777, 0.8960231866002214, 0.909735049833887, 0.8798122462163158, 0.8706157022886675, 0.908874054078996, 0.8927693106312293, 0.8940481035437431, 0.9061499400147655, 0.8942957272056109, 0.8895452657807308, 0.8976160022148394, 0.8986755029531193, 0.8826056893687706, 0.8990177648578811, 0.8947563907345885, 0.9011477943890736, 0.9085517718715392, 0.9004177279438907, 0.9034035391288299, 0.8928854743447767, 0.8945503183831672, 0.9148786683277963, 0.9113170450350683]}, {\"categories\": [\"0\", \"1\", \"2\", \"3\", \"4\", \"5\", \"6\", \"7\", \"8\", \"9\", \"10\", \"11\", \"12\", \"13\", \"14\", \"15\", \"16\", \"17\", \"18\", \"19\", \"20\", \"21\", \"22\", \"23\", \"24\", \"25\", \"26\", \"27\", \"28\", \"29\", \"30\", \"31\", \"32\", \"33\", \"34\", \"35\", \"36\", \"37\", \"38\", \"39\", \"40\", \"41\", \"42\", \"43\", \"44\", \"45\", \"46\", \"47\", \"48\", \"49\", \"50\", \"51\", \"52\", \"53\", \"54\", \"55\", \"56\", \"57\", \"58\", \"59\", \"60\", \"61\", \"62\", \"63\", \"64\", \"65\", \"70\", \"71\"], \"mode\": \"lines\", \"name\": \"AUC_weighted_max\", \"stepped\": true, \"type\": \"scatter\", \"data\": [0.8811331210778885, 0.8929591177556293, 0.8999768133997785, 0.9090493724621631, 0.9090493724621631, 0.9090493724621631, 0.9090493724621631, 0.9090493724621631, 0.9090493724621631, 0.9090493724621631, 0.9090493724621631, 0.9090493724621631, 0.9090493724621631, 0.9090493724621631, 0.9090493724621631, 0.9090493724621631, 0.9090493724621631, 0.9090493724621631, 0.9090493724621631, 0.9090493724621631, 0.9090493724621631, 0.9090493724621631, 0.9090493724621631, 0.9090493724621631, 0.9090493724621631, 0.9090493724621631, 0.9090493724621631, 0.9090493724621631, 0.9090493724621631, 0.9090493724621631, 0.9090493724621631, 0.9090493724621631, 0.9090493724621631, 0.9090493724621631, 0.9090493724621631, 0.9090493724621631, 0.9090493724621631, 0.9090493724621631, 0.9090493724621631, 0.9090493724621631, 0.9090493724621631, 0.9113850590623847, 0.9113850590623847, 0.9113850590623847, 0.9113850590623847, 0.9113850590623847, 0.9113850590623847, 0.9113850590623847, 0.9113850590623847, 0.9113850590623847, 0.9113850590623847, 0.9113850590623847, 0.9113850590623847, 0.9113850590623847, 0.9113850590623847, 0.9113850590623847, 0.9113850590623847, 0.9113850590623847, 0.9113850590623847, 0.9113850590623847, 0.9113850590623847, 0.9113850590623847, 0.9113850590623847, 0.9113850590623847, 0.9113850590623847, 0.9113850590623847, 0.9148786683277963, 0.9148786683277963]}], \"precision_score_macro\": [{\"categories\": [\"0\", \"1\", \"2\", \"3\", \"4\", \"5\", \"6\", \"7\", \"8\", \"9\", \"10\", \"11\", \"12\", \"13\", \"14\", \"15\", \"16\", \"17\", \"18\", \"19\", \"20\", \"21\", \"22\", \"23\", \"24\", \"25\", \"26\", \"27\", \"28\", \"29\", \"30\", \"31\", \"32\", \"33\", \"34\", \"35\", \"36\", \"37\", \"38\", \"39\", \"40\", \"41\", \"42\", \"43\", \"44\", \"45\", \"46\", \"47\", \"48\", \"49\", \"50\", \"51\", \"52\", \"53\", \"54\", \"55\", \"56\", \"57\", \"58\", \"59\", \"60\", \"61\", \"62\", \"63\", \"64\", \"65\", \"70\", \"71\"], \"mode\": \"markers\", \"name\": \"precision_score_macro\", \"stepped\": false, \"type\": \"scatter\", \"data\": [0.7889041743265773, 0.8086642059265495, 0.8320616971680801, 0.8325606628596448, 0.7837684883136319, 0.8180646825841335, 0.683156491390106, 0.8342656144205393, 0.836190434874329, 0.6764379292386812, 0.8388888888888889, 0.8298263723233414, 0.8459992977277541, 0.8250551121712085, 0.7924821022648049, 0.7842618251313904, 0.824308208922212, 0.8195682512574279, 0.8093902002392742, 0.8210411445279867, 0.8276575235956118, 0.8019947084228496, 0.802596618357488, 0.8013135059361629, 0.8281907488039563, 0.7657643826761473, 0.7865734279218934, 0.861761666434392, 0.8033704973748508, 0.8116152589785492, 0.5006181318681319, 0.8208580630319761, 0.8169519429845516, 0.7803199054546937, 0.8667523712183461, 0.8354715340947816, 0.8382620703885426, 0.8057518640185325, 0.8249177222983525, 0.8223432524423572, 0.8226472098782216, 0.8225133362896649, 0.8600086000955566, 0.8035171810550981, 0.8301173771004227, 0.7173705450065843, 0.8041516336135011, 0.8268778548627982, 0.8099373650408876, 0.7857536533188707, 0.8245200059230868, 0.848492463658258, 0.8617367867268243, 0.8156290197630467, 0.7911373847590151, 0.7953282828282828, 0.8604285448850668, 0.8093888616052481, 0.8265622543017933, 0.842761755100993, 0.8195160508628849, 0.824491286015703, 0.8020563681803274, 0.7977778537252223, 0.8380782711129857, 0.7912959711796193, 0.8837545144509594, 0.864930248030823]}, {\"categories\": [\"0\", \"1\", \"2\", \"3\", \"4\", \"5\", \"6\", \"7\", \"8\", \"9\", \"10\", \"11\", \"12\", \"13\", \"14\", \"15\", \"16\", \"17\", \"18\", \"19\", \"20\", \"21\", \"22\", \"23\", \"24\", \"25\", \"26\", \"27\", \"28\", \"29\", \"30\", \"31\", \"32\", \"33\", \"34\", \"35\", \"36\", \"37\", \"38\", \"39\", \"40\", \"41\", \"42\", \"43\", \"44\", \"45\", \"46\", \"47\", \"48\", \"49\", \"50\", \"51\", \"52\", \"53\", \"54\", \"55\", \"56\", \"57\", \"58\", \"59\", \"60\", \"61\", \"62\", \"63\", \"64\", \"65\", \"70\", \"71\"], \"mode\": \"lines\", \"name\": \"precision_score_macro_max\", \"stepped\": true, \"type\": \"scatter\", \"data\": [0.7889041743265773, 0.8086642059265495, 0.8320616971680801, 0.8325606628596448, 0.8325606628596448, 0.8325606628596448, 0.8325606628596448, 0.8342656144205393, 0.836190434874329, 0.836190434874329, 0.8388888888888889, 0.8388888888888889, 0.8459992977277541, 0.8459992977277541, 0.8459992977277541, 0.8459992977277541, 0.8459992977277541, 0.8459992977277541, 0.8459992977277541, 0.8459992977277541, 0.8459992977277541, 0.8459992977277541, 0.8459992977277541, 0.8459992977277541, 0.8459992977277541, 0.8459992977277541, 0.8459992977277541, 0.861761666434392, 0.861761666434392, 0.861761666434392, 0.861761666434392, 0.861761666434392, 0.861761666434392, 0.861761666434392, 0.8667523712183461, 0.8667523712183461, 0.8667523712183461, 0.8667523712183461, 0.8667523712183461, 0.8667523712183461, 0.8667523712183461, 0.8667523712183461, 0.8667523712183461, 0.8667523712183461, 0.8667523712183461, 0.8667523712183461, 0.8667523712183461, 0.8667523712183461, 0.8667523712183461, 0.8667523712183461, 0.8667523712183461, 0.8667523712183461, 0.8667523712183461, 0.8667523712183461, 0.8667523712183461, 0.8667523712183461, 0.8667523712183461, 0.8667523712183461, 0.8667523712183461, 0.8667523712183461, 0.8667523712183461, 0.8667523712183461, 0.8667523712183461, 0.8667523712183461, 0.8667523712183461, 0.8667523712183461, 0.8837545144509594, 0.8837545144509594]}], \"recall_score_weighted\": [{\"categories\": [\"0\", \"1\", \"2\", \"3\", \"4\", \"5\", \"6\", \"7\", \"8\", \"9\", \"10\", \"11\", \"12\", \"13\", \"14\", \"15\", \"16\", \"17\", \"18\", \"19\", \"20\", \"21\", \"22\", \"23\", \"24\", \"25\", \"26\", \"27\", \"28\", \"29\", \"30\", \"31\", \"32\", \"33\", \"34\", \"35\", \"36\", \"37\", \"38\", \"39\", \"40\", \"41\", \"42\", \"43\", \"44\", \"45\", \"46\", \"47\", \"48\", \"49\", \"50\", \"51\", \"52\", \"53\", \"54\", \"55\", \"56\", \"57\", \"58\", \"59\", \"60\", \"61\", \"62\", \"63\", \"64\", \"65\", \"70\", \"71\"], \"mode\": \"markers\", \"name\": \"recall_score_weighted\", \"stepped\": false, \"type\": \"scatter\", \"data\": [0.8059887005649717, 0.8259322033898304, 0.8527118644067798, 0.8359887005649718, 0.8091525423728815, 0.8328248587570621, 0.7090960451977402, 0.8261581920903955, 0.846271186440678, 0.7058757062146892, 0.7627118644067796, 0.8329943502824859, 0.8462146892655367, 0.8393785310734463, 0.8025423728813559, 0.8093785310734465, 0.8396610169491525, 0.8194915254237287, 0.8194350282485875, 0.8328248587570621, 0.802768361581921, 0.7694350282485876, 0.822542372881356, 0.8259887005649716, 0.7893785310734462, 0.8023728813559323, 0.7828248587570621, 0.8629943502824858, 0.8159322033898304, 0.8193785310734463, 0.6154802259887006, 0.8027118644067798, 0.8294915254237288, 0.7992090395480226, 0.8495480225988701, 0.8427683615819209, 0.8429378531073446, 0.8160451977401131, 0.8193785310734464, 0.8425988700564971, 0.8328813559322035, 0.8327683615819209, 0.8529378531073446, 0.8226553672316385, 0.8327118644067795, 0.7058757062146892, 0.8292090395480226, 0.8362146892655368, 0.8328248587570621, 0.8124293785310736, 0.836045197740113, 0.8496045197740113, 0.8562146892655367, 0.8359887005649718, 0.8059322033898304, 0.8191525423728814, 0.8562146892655367, 0.8061016949152542, 0.8361016949152542, 0.8462146892655367, 0.8327683615819209, 0.836045197740113, 0.8191525423728814, 0.8259322033898305, 0.8396045197740113, 0.8025423728813559, 0.8763276836158193, 0.8596045197740112]}, {\"categories\": [\"0\", \"1\", \"2\", \"3\", \"4\", \"5\", \"6\", \"7\", \"8\", \"9\", \"10\", \"11\", \"12\", \"13\", \"14\", \"15\", \"16\", \"17\", \"18\", \"19\", \"20\", \"21\", \"22\", \"23\", \"24\", \"25\", \"26\", \"27\", \"28\", \"29\", \"30\", \"31\", \"32\", \"33\", \"34\", \"35\", \"36\", \"37\", \"38\", \"39\", \"40\", \"41\", \"42\", \"43\", \"44\", \"45\", \"46\", \"47\", \"48\", \"49\", \"50\", \"51\", \"52\", \"53\", \"54\", \"55\", \"56\", \"57\", \"58\", \"59\", \"60\", \"61\", \"62\", \"63\", \"64\", \"65\", \"70\", \"71\"], \"mode\": \"lines\", \"name\": \"recall_score_weighted_max\", \"stepped\": true, \"type\": \"scatter\", \"data\": [0.8059887005649717, 0.8259322033898304, 0.8527118644067798, 0.8527118644067798, 0.8527118644067798, 0.8527118644067798, 0.8527118644067798, 0.8527118644067798, 0.8527118644067798, 0.8527118644067798, 0.8527118644067798, 0.8527118644067798, 0.8527118644067798, 0.8527118644067798, 0.8527118644067798, 0.8527118644067798, 0.8527118644067798, 0.8527118644067798, 0.8527118644067798, 0.8527118644067798, 0.8527118644067798, 0.8527118644067798, 0.8527118644067798, 0.8527118644067798, 0.8527118644067798, 0.8527118644067798, 0.8527118644067798, 0.8629943502824858, 0.8629943502824858, 0.8629943502824858, 0.8629943502824858, 0.8629943502824858, 0.8629943502824858, 0.8629943502824858, 0.8629943502824858, 0.8629943502824858, 0.8629943502824858, 0.8629943502824858, 0.8629943502824858, 0.8629943502824858, 0.8629943502824858, 0.8629943502824858, 0.8629943502824858, 0.8629943502824858, 0.8629943502824858, 0.8629943502824858, 0.8629943502824858, 0.8629943502824858, 0.8629943502824858, 0.8629943502824858, 0.8629943502824858, 0.8629943502824858, 0.8629943502824858, 0.8629943502824858, 0.8629943502824858, 0.8629943502824858, 0.8629943502824858, 0.8629943502824858, 0.8629943502824858, 0.8629943502824858, 0.8629943502824858, 0.8629943502824858, 0.8629943502824858, 0.8629943502824858, 0.8629943502824858, 0.8629943502824858, 0.8763276836158193, 0.8763276836158193]}], \"f1_score_micro\": [{\"categories\": [\"0\", \"1\", \"2\", \"3\", \"4\", \"5\", \"6\", \"7\", \"8\", \"9\", \"10\", \"11\", \"12\", \"13\", \"14\", \"15\", \"16\", \"17\", \"18\", \"19\", \"20\", \"21\", \"22\", \"23\", \"24\", \"25\", \"26\", \"27\", \"28\", \"29\", \"30\", \"31\", \"32\", \"33\", \"34\", \"35\", \"36\", \"37\", \"38\", \"39\", \"40\", \"41\", \"42\", \"43\", \"44\", \"45\", \"46\", \"47\", \"48\", \"49\", \"50\", \"51\", \"52\", \"53\", \"54\", \"55\", \"56\", \"57\", \"58\", \"59\", \"60\", \"61\", \"62\", \"63\", \"64\", \"65\", \"70\", \"71\"], \"mode\": \"markers\", \"name\": \"f1_score_micro\", \"stepped\": false, \"type\": \"scatter\", \"data\": [0.8059887005649718, 0.8259322033898304, 0.8527118644067798, 0.8359887005649718, 0.8091525423728815, 0.8328248587570621, 0.7090960451977402, 0.8261581920903955, 0.846271186440678, 0.7058757062146892, 0.7627118644067796, 0.8329943502824859, 0.8462146892655367, 0.8393785310734463, 0.8025423728813559, 0.8093785310734465, 0.8396610169491525, 0.8194915254237287, 0.8194350282485875, 0.8328248587570621, 0.802768361581921, 0.7694350282485876, 0.822542372881356, 0.8259887005649716, 0.7893785310734465, 0.8023728813559323, 0.7828248587570621, 0.8629943502824858, 0.8159322033898304, 0.8193785310734464, 0.6154802259887006, 0.8027118644067798, 0.8294915254237288, 0.7992090395480226, 0.8495480225988701, 0.8427683615819209, 0.8429378531073446, 0.8160451977401131, 0.8193785310734464, 0.8425988700564971, 0.8328813559322035, 0.8327683615819209, 0.8529378531073446, 0.8226553672316385, 0.8327118644067797, 0.7058757062146892, 0.8292090395480226, 0.8362146892655368, 0.8328248587570621, 0.8124293785310736, 0.836045197740113, 0.8496045197740113, 0.8562146892655367, 0.8359887005649718, 0.8059322033898304, 0.8191525423728814, 0.8562146892655367, 0.8061016949152542, 0.8361016949152542, 0.8462146892655367, 0.8327683615819209, 0.836045197740113, 0.8191525423728814, 0.8259322033898305, 0.8396045197740113, 0.8025423728813559, 0.8763276836158193, 0.8596045197740112]}, {\"categories\": [\"0\", \"1\", \"2\", \"3\", \"4\", \"5\", \"6\", \"7\", \"8\", \"9\", \"10\", \"11\", \"12\", \"13\", \"14\", \"15\", \"16\", \"17\", \"18\", \"19\", \"20\", \"21\", \"22\", \"23\", \"24\", \"25\", \"26\", \"27\", \"28\", \"29\", \"30\", \"31\", \"32\", \"33\", \"34\", \"35\", \"36\", \"37\", \"38\", \"39\", \"40\", \"41\", \"42\", \"43\", \"44\", \"45\", \"46\", \"47\", \"48\", \"49\", \"50\", \"51\", \"52\", \"53\", \"54\", \"55\", \"56\", \"57\", \"58\", \"59\", \"60\", \"61\", \"62\", \"63\", \"64\", \"65\", \"70\", \"71\"], \"mode\": \"lines\", \"name\": \"f1_score_micro_max\", \"stepped\": true, \"type\": \"scatter\", \"data\": [0.8059887005649718, 0.8259322033898304, 0.8527118644067798, 0.8527118644067798, 0.8527118644067798, 0.8527118644067798, 0.8527118644067798, 0.8527118644067798, 0.8527118644067798, 0.8527118644067798, 0.8527118644067798, 0.8527118644067798, 0.8527118644067798, 0.8527118644067798, 0.8527118644067798, 0.8527118644067798, 0.8527118644067798, 0.8527118644067798, 0.8527118644067798, 0.8527118644067798, 0.8527118644067798, 0.8527118644067798, 0.8527118644067798, 0.8527118644067798, 0.8527118644067798, 0.8527118644067798, 0.8527118644067798, 0.8629943502824858, 0.8629943502824858, 0.8629943502824858, 0.8629943502824858, 0.8629943502824858, 0.8629943502824858, 0.8629943502824858, 0.8629943502824858, 0.8629943502824858, 0.8629943502824858, 0.8629943502824858, 0.8629943502824858, 0.8629943502824858, 0.8629943502824858, 0.8629943502824858, 0.8629943502824858, 0.8629943502824858, 0.8629943502824858, 0.8629943502824858, 0.8629943502824858, 0.8629943502824858, 0.8629943502824858, 0.8629943502824858, 0.8629943502824858, 0.8629943502824858, 0.8629943502824858, 0.8629943502824858, 0.8629943502824858, 0.8629943502824858, 0.8629943502824858, 0.8629943502824858, 0.8629943502824858, 0.8629943502824858, 0.8629943502824858, 0.8629943502824858, 0.8629943502824858, 0.8629943502824858, 0.8629943502824858, 0.8629943502824858, 0.8763276836158193, 0.8763276836158193]}], \"precision_score_micro\": [{\"categories\": [\"0\", \"1\", \"2\", \"3\", \"4\", \"5\", \"6\", \"7\", \"8\", \"9\", \"10\", \"11\", \"12\", \"13\", \"14\", \"15\", \"16\", \"17\", \"18\", \"19\", \"20\", \"21\", \"22\", \"23\", \"24\", \"25\", \"26\", \"27\", \"28\", \"29\", \"30\", \"31\", \"32\", \"33\", \"34\", \"35\", \"36\", \"37\", \"38\", \"39\", \"40\", \"41\", \"42\", \"43\", \"44\", \"45\", \"46\", \"47\", \"48\", \"49\", \"50\", \"51\", \"52\", \"53\", \"54\", \"55\", \"56\", \"57\", \"58\", \"59\", \"60\", \"61\", \"62\", \"63\", \"64\", \"65\", \"70\", \"71\"], \"mode\": \"markers\", \"name\": \"precision_score_micro\", \"stepped\": false, \"type\": \"scatter\", \"data\": [0.8059887005649717, 0.8259322033898304, 0.8527118644067798, 0.8359887005649718, 0.8091525423728815, 0.8328248587570621, 0.7090960451977402, 0.8261581920903955, 0.846271186440678, 0.7058757062146892, 0.7627118644067796, 0.8329943502824859, 0.8462146892655367, 0.8393785310734463, 0.8025423728813559, 0.8093785310734465, 0.8396610169491525, 0.8194915254237287, 0.8194350282485875, 0.8328248587570621, 0.802768361581921, 0.7694350282485876, 0.822542372881356, 0.8259887005649716, 0.7893785310734462, 0.8023728813559323, 0.7828248587570621, 0.8629943502824858, 0.8159322033898304, 0.8193785310734463, 0.6154802259887006, 0.8027118644067798, 0.8294915254237288, 0.7992090395480226, 0.8495480225988701, 0.8427683615819209, 0.8429378531073446, 0.8160451977401131, 0.8193785310734464, 0.8425988700564971, 0.8328813559322035, 0.8327683615819209, 0.8529378531073446, 0.8226553672316385, 0.8327118644067795, 0.7058757062146892, 0.8292090395480226, 0.8362146892655368, 0.8328248587570621, 0.8124293785310736, 0.836045197740113, 0.8496045197740113, 0.8562146892655367, 0.8359887005649718, 0.8059322033898304, 0.8191525423728814, 0.8562146892655367, 0.8061016949152542, 0.8361016949152542, 0.8462146892655367, 0.8327683615819209, 0.836045197740113, 0.8191525423728814, 0.8259322033898305, 0.8396045197740113, 0.8025423728813559, 0.8763276836158193, 0.8596045197740112]}, {\"categories\": [\"0\", \"1\", \"2\", \"3\", \"4\", \"5\", \"6\", \"7\", \"8\", \"9\", \"10\", \"11\", \"12\", \"13\", \"14\", \"15\", \"16\", \"17\", \"18\", \"19\", \"20\", \"21\", \"22\", \"23\", \"24\", \"25\", \"26\", \"27\", \"28\", \"29\", \"30\", \"31\", \"32\", \"33\", \"34\", \"35\", \"36\", \"37\", \"38\", \"39\", \"40\", \"41\", \"42\", \"43\", \"44\", \"45\", \"46\", \"47\", \"48\", \"49\", \"50\", \"51\", \"52\", \"53\", \"54\", \"55\", \"56\", \"57\", \"58\", \"59\", \"60\", \"61\", \"62\", \"63\", \"64\", \"65\", \"70\", \"71\"], \"mode\": \"lines\", \"name\": \"precision_score_micro_max\", \"stepped\": true, \"type\": \"scatter\", \"data\": [0.8059887005649717, 0.8259322033898304, 0.8527118644067798, 0.8527118644067798, 0.8527118644067798, 0.8527118644067798, 0.8527118644067798, 0.8527118644067798, 0.8527118644067798, 0.8527118644067798, 0.8527118644067798, 0.8527118644067798, 0.8527118644067798, 0.8527118644067798, 0.8527118644067798, 0.8527118644067798, 0.8527118644067798, 0.8527118644067798, 0.8527118644067798, 0.8527118644067798, 0.8527118644067798, 0.8527118644067798, 0.8527118644067798, 0.8527118644067798, 0.8527118644067798, 0.8527118644067798, 0.8527118644067798, 0.8629943502824858, 0.8629943502824858, 0.8629943502824858, 0.8629943502824858, 0.8629943502824858, 0.8629943502824858, 0.8629943502824858, 0.8629943502824858, 0.8629943502824858, 0.8629943502824858, 0.8629943502824858, 0.8629943502824858, 0.8629943502824858, 0.8629943502824858, 0.8629943502824858, 0.8629943502824858, 0.8629943502824858, 0.8629943502824858, 0.8629943502824858, 0.8629943502824858, 0.8629943502824858, 0.8629943502824858, 0.8629943502824858, 0.8629943502824858, 0.8629943502824858, 0.8629943502824858, 0.8629943502824858, 0.8629943502824858, 0.8629943502824858, 0.8629943502824858, 0.8629943502824858, 0.8629943502824858, 0.8629943502824858, 0.8629943502824858, 0.8629943502824858, 0.8629943502824858, 0.8629943502824858, 0.8629943502824858, 0.8629943502824858, 0.8763276836158193, 0.8763276836158193]}], \"balanced_accuracy\": [{\"categories\": [\"0\", \"1\", \"2\", \"3\", \"4\", \"5\", \"6\", \"7\", \"8\", \"9\", \"10\", \"11\", \"12\", \"13\", \"14\", \"15\", \"16\", \"17\", \"18\", \"19\", \"20\", \"21\", \"22\", \"23\", \"24\", \"25\", \"26\", \"27\", \"28\", \"29\", \"30\", \"31\", \"32\", \"33\", \"34\", \"35\", \"36\", \"37\", \"38\", \"39\", \"40\", \"41\", \"42\", \"43\", \"44\", \"45\", \"46\", \"47\", \"48\", \"49\", \"50\", \"51\", \"52\", \"53\", \"54\", \"55\", \"56\", \"57\", \"58\", \"59\", \"60\", \"61\", \"62\", \"63\", \"64\", \"65\", \"70\", \"71\"], \"mode\": \"markers\", \"name\": \"balanced_accuracy\", \"stepped\": false, \"type\": \"scatter\", \"data\": [0.7760209025470652, 0.8060125968992248, 0.8192137320044296, 0.8030703211517165, 0.794579872646733, 0.7932315891472868, 0.6182613510520487, 0.7896387043189369, 0.8268369324473974, 0.6443583887043189, 0.6447619047619048, 0.8043410852713178, 0.8049958471760796, 0.8058423311184939, 0.75265780730897, 0.7602512458471761, 0.810765503875969, 0.7711863233665559, 0.775140503875969, 0.8018071705426356, 0.7358928571428571, 0.67375, 0.7879215116279069, 0.8127387873754153, 0.6995833333333333, 0.7905578626799559, 0.712733942414175, 0.8370791805094131, 0.7683720930232558, 0.7740988372093023, 0.5043929955703211, 0.7261904761904763, 0.7911482558139534, 0.7543500830564784, 0.8013988095238094, 0.8050768272425248, 0.8076744186046512, 0.7885548172757475, 0.7742691029900332, 0.8216673588039868, 0.8021899224806202, 0.8021262458471761, 0.8162499999999999, 0.7972667497231452, 0.7842774086378739, 0.5583333333333333, 0.8137465393133999, 0.8022238372093022, 0.8063524363233666, 0.806000138427464, 0.8006679125138427, 0.8112458471760797, 0.8163946566998893, 0.8158381782945737, 0.7581381506090807, 0.7914292635658915, 0.8188946566998894, 0.7532101328903655, 0.7942434939091916, 0.802674418604651, 0.8009101605758582, 0.808376245847176, 0.7926495016611297, 0.8182108250276855, 0.809936323366556, 0.7487292358803986, 0.8456547619047619, 0.8295535714285714]}, {\"categories\": [\"0\", \"1\", \"2\", \"3\", \"4\", \"5\", \"6\", \"7\", \"8\", \"9\", \"10\", \"11\", \"12\", \"13\", \"14\", \"15\", \"16\", \"17\", \"18\", \"19\", \"20\", \"21\", \"22\", \"23\", \"24\", \"25\", \"26\", \"27\", \"28\", \"29\", \"30\", \"31\", \"32\", \"33\", \"34\", \"35\", \"36\", \"37\", \"38\", \"39\", \"40\", \"41\", \"42\", \"43\", \"44\", \"45\", \"46\", \"47\", \"48\", \"49\", \"50\", \"51\", \"52\", \"53\", \"54\", \"55\", \"56\", \"57\", \"58\", \"59\", \"60\", \"61\", \"62\", \"63\", \"64\", \"65\", \"70\", \"71\"], \"mode\": \"lines\", \"name\": \"balanced_accuracy_max\", \"stepped\": true, \"type\": \"scatter\", \"data\": [0.7760209025470652, 0.8060125968992248, 0.8192137320044296, 0.8192137320044296, 0.8192137320044296, 0.8192137320044296, 0.8192137320044296, 0.8192137320044296, 0.8268369324473974, 0.8268369324473974, 0.8268369324473974, 0.8268369324473974, 0.8268369324473974, 0.8268369324473974, 0.8268369324473974, 0.8268369324473974, 0.8268369324473974, 0.8268369324473974, 0.8268369324473974, 0.8268369324473974, 0.8268369324473974, 0.8268369324473974, 0.8268369324473974, 0.8268369324473974, 0.8268369324473974, 0.8268369324473974, 0.8268369324473974, 0.8370791805094131, 0.8370791805094131, 0.8370791805094131, 0.8370791805094131, 0.8370791805094131, 0.8370791805094131, 0.8370791805094131, 0.8370791805094131, 0.8370791805094131, 0.8370791805094131, 0.8370791805094131, 0.8370791805094131, 0.8370791805094131, 0.8370791805094131, 0.8370791805094131, 0.8370791805094131, 0.8370791805094131, 0.8370791805094131, 0.8370791805094131, 0.8370791805094131, 0.8370791805094131, 0.8370791805094131, 0.8370791805094131, 0.8370791805094131, 0.8370791805094131, 0.8370791805094131, 0.8370791805094131, 0.8370791805094131, 0.8370791805094131, 0.8370791805094131, 0.8370791805094131, 0.8370791805094131, 0.8370791805094131, 0.8370791805094131, 0.8370791805094131, 0.8370791805094131, 0.8370791805094131, 0.8370791805094131, 0.8370791805094131, 0.8456547619047619, 0.8456547619047619]}], \"AUC_macro\": [{\"categories\": [\"0\", \"1\", \"2\", \"3\", \"4\", \"5\", \"6\", \"7\", \"8\", \"9\", \"10\", \"11\", \"12\", \"13\", \"14\", \"15\", \"16\", \"17\", \"18\", \"19\", \"20\", \"21\", \"22\", \"23\", \"24\", \"25\", \"26\", \"27\", \"28\", \"29\", \"30\", \"31\", \"32\", \"33\", \"34\", \"35\", \"36\", \"37\", \"38\", \"39\", \"40\", \"41\", \"42\", \"43\", \"44\", \"45\", \"46\", \"47\", \"48\", \"49\", \"50\", \"51\", \"52\", \"53\", \"54\", \"55\", \"56\", \"57\", \"58\", \"59\", \"60\", \"61\", \"62\", \"63\", \"64\", \"65\", \"70\", \"71\"], \"mode\": \"markers\", \"name\": \"AUC_macro\", \"stepped\": false, \"type\": \"scatter\", \"data\": [0.8811331210778885, 0.8929591177556295, 0.8999768133997785, 0.9090493724621631, 0.8980521871539313, 0.8893294227574751, 0.7394446982281285, 0.8907245985603544, 0.894921534699151, 0.7886524547803617, 0.8820064368770764, 0.8876433877814691, 0.8948378091546696, 0.9038673864894795, 0.8927271594684386, 0.8592381875230715, 0.8876623292727943, 0.8760033453303804, 0.867766991971207, 0.9017715023994095, 0.8798557585825029, 0.8622979651162792, 0.8928366555924697, 0.8818579734219268, 0.8839640319306017, 0.8810113510520488, 0.8585059523809523, 0.8956993816906607, 0.8986199012550756, 0.8939180624769287, 0.4873819905869324, 0.8621787790697674, 0.8866551541159099, 0.8899154438907345, 0.8910059754521964, 0.8970446774640088, 0.9005084671465486, 0.8681016519010705, 0.886327888519749, 0.9041476790328534, 0.8788698781838317, 0.9113850590623847, 0.8949521963824288, 0.9010762504614249, 0.8898385474344777, 0.8960231866002214, 0.909735049833887, 0.8798122462163158, 0.8706157022886675, 0.908874054078996, 0.8927693106312293, 0.8940481035437431, 0.9061499400147657, 0.8942957272056109, 0.8895452657807308, 0.8976160022148395, 0.8986755029531193, 0.8826056893687708, 0.8990177648578811, 0.8947563907345885, 0.9011477943890733, 0.9085517718715392, 0.9004177279438907, 0.9034035391288298, 0.8928854743447767, 0.8945503183831672, 0.9148786683277963, 0.9113170450350682]}, {\"categories\": [\"0\", \"1\", \"2\", \"3\", \"4\", \"5\", \"6\", \"7\", \"8\", \"9\", \"10\", \"11\", \"12\", \"13\", \"14\", \"15\", \"16\", \"17\", \"18\", \"19\", \"20\", \"21\", \"22\", \"23\", \"24\", \"25\", \"26\", \"27\", \"28\", \"29\", \"30\", \"31\", \"32\", \"33\", \"34\", \"35\", \"36\", \"37\", \"38\", \"39\", \"40\", \"41\", \"42\", \"43\", \"44\", \"45\", \"46\", \"47\", \"48\", \"49\", \"50\", \"51\", \"52\", \"53\", \"54\", \"55\", \"56\", \"57\", \"58\", \"59\", \"60\", \"61\", \"62\", \"63\", \"64\", \"65\", \"70\", \"71\"], \"mode\": \"lines\", \"name\": \"AUC_macro_max\", \"stepped\": true, \"type\": \"scatter\", \"data\": [0.8811331210778885, 0.8929591177556295, 0.8999768133997785, 0.9090493724621631, 0.9090493724621631, 0.9090493724621631, 0.9090493724621631, 0.9090493724621631, 0.9090493724621631, 0.9090493724621631, 0.9090493724621631, 0.9090493724621631, 0.9090493724621631, 0.9090493724621631, 0.9090493724621631, 0.9090493724621631, 0.9090493724621631, 0.9090493724621631, 0.9090493724621631, 0.9090493724621631, 0.9090493724621631, 0.9090493724621631, 0.9090493724621631, 0.9090493724621631, 0.9090493724621631, 0.9090493724621631, 0.9090493724621631, 0.9090493724621631, 0.9090493724621631, 0.9090493724621631, 0.9090493724621631, 0.9090493724621631, 0.9090493724621631, 0.9090493724621631, 0.9090493724621631, 0.9090493724621631, 0.9090493724621631, 0.9090493724621631, 0.9090493724621631, 0.9090493724621631, 0.9090493724621631, 0.9113850590623847, 0.9113850590623847, 0.9113850590623847, 0.9113850590623847, 0.9113850590623847, 0.9113850590623847, 0.9113850590623847, 0.9113850590623847, 0.9113850590623847, 0.9113850590623847, 0.9113850590623847, 0.9113850590623847, 0.9113850590623847, 0.9113850590623847, 0.9113850590623847, 0.9113850590623847, 0.9113850590623847, 0.9113850590623847, 0.9113850590623847, 0.9113850590623847, 0.9113850590623847, 0.9113850590623847, 0.9113850590623847, 0.9113850590623847, 0.9113850590623847, 0.9148786683277963, 0.9148786683277963]}], \"norm_macro_recall\": [{\"categories\": [\"0\", \"1\", \"2\", \"3\", \"4\", \"5\", \"6\", \"7\", \"8\", \"9\", \"10\", \"11\", \"12\", \"13\", \"14\", \"15\", \"16\", \"17\", \"18\", \"19\", \"20\", \"21\", \"22\", \"23\", \"24\", \"25\", \"26\", \"27\", \"28\", \"29\", \"30\", \"31\", \"32\", \"33\", \"34\", \"35\", \"36\", \"37\", \"38\", \"39\", \"40\", \"41\", \"42\", \"43\", \"44\", \"45\", \"46\", \"47\", \"48\", \"49\", \"50\", \"51\", \"52\", \"53\", \"54\", \"55\", \"56\", \"57\", \"58\", \"59\", \"60\", \"61\", \"62\", \"63\", \"64\", \"65\", \"70\", \"71\"], \"mode\": \"markers\", \"name\": \"norm_macro_recall\", \"stepped\": false, \"type\": \"scatter\", \"data\": [0.5520418050941306, 0.6120251937984496, 0.6384274640088593, 0.6061406423034329, 0.5891597452934663, 0.5864631782945736, 0.23652270210409737, 0.5792774086378738, 0.6536738648947951, 0.28871677740863777, 0.2895238095238095, 0.6086821705426356, 0.6099916943521595, 0.6116846622369877, 0.5053156146179403, 0.5205024916943521, 0.6215310077519379, 0.5423726467331119, 0.550281007751938, 0.6036143410852712, 0.47178571428571436, 0.34750000000000003, 0.5758430232558138, 0.6254775747508305, 0.39916666666666667, 0.5811157253599114, 0.42546788482834996, 0.6741583610188261, 0.5367441860465115, 0.5481976744186046, 0.0393217054263566, 0.4523809523809524, 0.582296511627907, 0.5087001661129568, 0.602797619047619, 0.6101536544850499, 0.6153488372093023, 0.577109634551495, 0.5485382059800663, 0.6433347176079734, 0.6043798449612403, 0.6042524916943521, 0.6325000000000001, 0.5945334994462902, 0.5685548172757475, 0.11666666666666665, 0.6274930786267996, 0.6044476744186047, 0.6127048726467331, 0.6120002768549281, 0.6013358250276856, 0.6224916943521595, 0.6327893133997786, 0.6316763565891472, 0.5162763012181616, 0.582858527131783, 0.6377893133997785, 0.5064202657807308, 0.5884869878183832, 0.6053488372093023, 0.6018203211517166, 0.6167524916943522, 0.5852990033222591, 0.636421650055371, 0.6198726467331118, 0.4974584717607973, 0.6913095238095238, 0.6591071428571429]}, {\"categories\": [\"0\", \"1\", \"2\", \"3\", \"4\", \"5\", \"6\", \"7\", \"8\", \"9\", \"10\", \"11\", \"12\", \"13\", \"14\", \"15\", \"16\", \"17\", \"18\", \"19\", \"20\", \"21\", \"22\", \"23\", \"24\", \"25\", \"26\", \"27\", \"28\", \"29\", \"30\", \"31\", \"32\", \"33\", \"34\", \"35\", \"36\", \"37\", \"38\", \"39\", \"40\", \"41\", \"42\", \"43\", \"44\", \"45\", \"46\", \"47\", \"48\", \"49\", \"50\", \"51\", \"52\", \"53\", \"54\", \"55\", \"56\", \"57\", \"58\", \"59\", \"60\", \"61\", \"62\", \"63\", \"64\", \"65\", \"70\", \"71\"], \"mode\": \"lines\", \"name\": \"norm_macro_recall_max\", \"stepped\": true, \"type\": \"scatter\", \"data\": [0.5520418050941306, 0.6120251937984496, 0.6384274640088593, 0.6384274640088593, 0.6384274640088593, 0.6384274640088593, 0.6384274640088593, 0.6384274640088593, 0.6536738648947951, 0.6536738648947951, 0.6536738648947951, 0.6536738648947951, 0.6536738648947951, 0.6536738648947951, 0.6536738648947951, 0.6536738648947951, 0.6536738648947951, 0.6536738648947951, 0.6536738648947951, 0.6536738648947951, 0.6536738648947951, 0.6536738648947951, 0.6536738648947951, 0.6536738648947951, 0.6536738648947951, 0.6536738648947951, 0.6536738648947951, 0.6741583610188261, 0.6741583610188261, 0.6741583610188261, 0.6741583610188261, 0.6741583610188261, 0.6741583610188261, 0.6741583610188261, 0.6741583610188261, 0.6741583610188261, 0.6741583610188261, 0.6741583610188261, 0.6741583610188261, 0.6741583610188261, 0.6741583610188261, 0.6741583610188261, 0.6741583610188261, 0.6741583610188261, 0.6741583610188261, 0.6741583610188261, 0.6741583610188261, 0.6741583610188261, 0.6741583610188261, 0.6741583610188261, 0.6741583610188261, 0.6741583610188261, 0.6741583610188261, 0.6741583610188261, 0.6741583610188261, 0.6741583610188261, 0.6741583610188261, 0.6741583610188261, 0.6741583610188261, 0.6741583610188261, 0.6741583610188261, 0.6741583610188261, 0.6741583610188261, 0.6741583610188261, 0.6741583610188261, 0.6741583610188261, 0.6913095238095238, 0.6913095238095238]}]}, \"metricName\": null, \"primaryMetricName\": \"accuracy\", \"showLegend\": false}, \"run_metrics\": [{\"name\": \"experiment_status\", \"run_id\": \"AutoML_90926142-d8d8-4f9d-a593-3d5fff6a318c\", \"categories\": [0, 1, 2, 3, 4, 5, 6, 7, 8, 9, 10, 11, 12, 13], \"series\": [{\"data\": [\"DatasetEvaluation\", \"FeaturesGeneration\", \"DatasetFeaturization\", \"DatasetFeaturizationCompleted\", \"DatasetCrossValidationSplit\", \"ModelSelection\", \"BestRunExplainModel\", \"ModelExplanationDataSetSetup\", \"PickSurrogateModel\", \"EngineeredFeatureExplanations\", \"EngineeredFeatureExplanations\", \"RawFeaturesExplanations\", \"RawFeaturesExplanations\", \"BestRunExplainModel\"]}]}, {\"name\": \"experiment_status_description\", \"run_id\": \"AutoML_90926142-d8d8-4f9d-a593-3d5fff6a318c\", \"categories\": [0, 1, 2, 3, 4, 5, 6, 7, 8, 9, 10, 11, 12, 13], \"series\": [{\"data\": [\"Gathering dataset statistics.\", \"Generating features for the dataset.\", \"Beginning to fit featurizers and featurize the dataset.\", \"Completed fit featurizers and featurizing the dataset.\", \"Generating individually featurized CV splits.\", \"Beginning model selection.\", \"Best run model explanations started\", \"Model explanations data setup completed\", \"Choosing LightGBM as the surrogate model for explanations\", \"Computation of engineered features started\", \"Computation of engineered features completed\", \"Computation of raw features started\", \"Computation of raw features completed\", \"Best run model explanations completed\"]}]}, {\"name\": \"AUC_weighted\", \"run_id\": \"AutoML_90926142-d8d8-4f9d-a593-3d5fff6a318c\", \"categories\": [0], \"series\": [{\"data\": [0.9148786683277963]}]}, {\"name\": \"AUC_micro\", \"run_id\": \"AutoML_90926142-d8d8-4f9d-a593-3d5fff6a318c\", \"categories\": [0], \"series\": [{\"data\": [0.9160299562705481]}]}, {\"name\": \"recall_score_micro\", \"run_id\": \"AutoML_90926142-d8d8-4f9d-a593-3d5fff6a318c\", \"categories\": [0], \"series\": [{\"data\": [0.8763276836158193]}]}, {\"name\": \"accuracy\", \"run_id\": \"AutoML_90926142-d8d8-4f9d-a593-3d5fff6a318c\", \"categories\": [0], \"series\": [{\"data\": [0.8763276836158193]}]}, {\"name\": \"norm_macro_recall\", \"run_id\": \"AutoML_90926142-d8d8-4f9d-a593-3d5fff6a318c\", \"categories\": [0], \"series\": [{\"data\": [0.6913095238095238]}]}, {\"name\": \"f1_score_weighted\", \"run_id\": \"AutoML_90926142-d8d8-4f9d-a593-3d5fff6a318c\", \"categories\": [0], \"series\": [{\"data\": [0.8720743353669373]}]}, {\"name\": \"precision_score_micro\", \"run_id\": \"AutoML_90926142-d8d8-4f9d-a593-3d5fff6a318c\", \"categories\": [0], \"series\": [{\"data\": [0.8763276836158193]}]}, {\"name\": \"average_precision_score_micro\", \"run_id\": \"AutoML_90926142-d8d8-4f9d-a593-3d5fff6a318c\", \"categories\": [0], \"series\": [{\"data\": [0.9175761251835782]}]}, {\"name\": \"average_precision_score_macro\", \"run_id\": \"AutoML_90926142-d8d8-4f9d-a593-3d5fff6a318c\", \"categories\": [0], \"series\": [{\"data\": [0.9032289354516564]}]}, {\"name\": \"weighted_accuracy\", \"run_id\": \"AutoML_90926142-d8d8-4f9d-a593-3d5fff6a318c\", \"categories\": [0], \"series\": [{\"data\": [0.8968878829357403]}]}, {\"name\": \"average_precision_score_weighted\", \"run_id\": \"AutoML_90926142-d8d8-4f9d-a593-3d5fff6a318c\", \"categories\": [0], \"series\": [{\"data\": [0.9256618927723945]}]}, {\"name\": \"precision_score_macro\", \"run_id\": \"AutoML_90926142-d8d8-4f9d-a593-3d5fff6a318c\", \"categories\": [0], \"series\": [{\"data\": [0.8837545144509594]}]}, {\"name\": \"recall_score_weighted\", \"run_id\": \"AutoML_90926142-d8d8-4f9d-a593-3d5fff6a318c\", \"categories\": [0], \"series\": [{\"data\": [0.8763276836158193]}]}, {\"name\": \"balanced_accuracy\", \"run_id\": \"AutoML_90926142-d8d8-4f9d-a593-3d5fff6a318c\", \"categories\": [0], \"series\": [{\"data\": [0.8456547619047619]}]}, {\"name\": \"recall_score_macro\", \"run_id\": \"AutoML_90926142-d8d8-4f9d-a593-3d5fff6a318c\", \"categories\": [0], \"series\": [{\"data\": [0.8456547619047619]}]}, {\"name\": \"log_loss\", \"run_id\": \"AutoML_90926142-d8d8-4f9d-a593-3d5fff6a318c\", \"categories\": [0], \"series\": [{\"data\": [0.3712387980151897]}]}, {\"name\": \"matthews_correlation\", \"run_id\": \"AutoML_90926142-d8d8-4f9d-a593-3d5fff6a318c\", \"categories\": [0], \"series\": [{\"data\": [0.7258331573961796]}]}, {\"name\": \"AUC_macro\", \"run_id\": \"AutoML_90926142-d8d8-4f9d-a593-3d5fff6a318c\", \"categories\": [0], \"series\": [{\"data\": [0.9148786683277963]}]}, {\"name\": \"precision_score_weighted\", \"run_id\": \"AutoML_90926142-d8d8-4f9d-a593-3d5fff6a318c\", \"categories\": [0], \"series\": [{\"data\": [0.8934916290495668]}]}, {\"name\": \"f1_score_macro\", \"run_id\": \"AutoML_90926142-d8d8-4f9d-a593-3d5fff6a318c\", \"categories\": [0], \"series\": [{\"data\": [0.8495459791619602]}]}, {\"name\": \"f1_score_micro\", \"run_id\": \"AutoML_90926142-d8d8-4f9d-a593-3d5fff6a318c\", \"categories\": [0], \"series\": [{\"data\": [0.8763276836158193]}]}], \"run_logs\": \"\\nRun is completed.\", \"graph\": {}, \"widget_settings\": {\"childWidgetDisplay\": \"popup\", \"send_telemetry\": false, \"log_level\": \"INFO\", \"sdk_version\": \"1.20.0\"}, \"loading\": false}"
     },
     "metadata": {},
     "output_type": "display_data"
    }
   ],
   "source": [
    "RunDetails(remote_run).show()"
   ]
  },
  {
   "cell_type": "code",
   "execution_count": 8,
   "metadata": {},
   "outputs": [
    {
     "name": "stdout",
     "output_type": "stream",
     "text": [
      "\n",
      "Current status: FeaturesGeneration. Generating features for the dataset.\n",
      "Current status: DatasetCrossValidationSplit. Generating individually featurized CV splits.\n",
      "Current status: ModelSelection. Beginning model selection.\n",
      "\n",
      "****************************************************************************************************\n",
      "DATA GUARDRAILS: \n",
      "\n",
      "TYPE:         Class balancing detection\n",
      "STATUS:       PASSED\n",
      "DESCRIPTION:  Your inputs were analyzed, and all classes are balanced in your training data.\n",
      "              Learn more about imbalanced data: https://aka.ms/AutomatedMLImbalancedData\n",
      "\n",
      "****************************************************************************************************\n",
      "\n",
      "TYPE:         Missing feature values imputation\n",
      "STATUS:       PASSED\n",
      "DESCRIPTION:  No feature missing values were detected in the training data.\n",
      "              Learn more about missing value imputation: https://aka.ms/AutomatedMLFeaturization\n",
      "\n",
      "****************************************************************************************************\n",
      "\n",
      "TYPE:         High cardinality feature detection\n",
      "STATUS:       PASSED\n",
      "DESCRIPTION:  Your inputs were analyzed, and no high cardinality features were detected.\n",
      "              Learn more about high cardinality feature handling: https://aka.ms/AutomatedMLFeaturization\n",
      "\n",
      "****************************************************************************************************\n",
      "\n",
      "****************************************************************************************************\n",
      "ITERATION: The iteration being evaluated.\n",
      "PIPELINE: A summary description of the pipeline being evaluated.\n",
      "DURATION: Time taken for the current iteration.\n",
      "METRIC: The result of computing score on the fitted pipeline.\n",
      "BEST: The best observed score thus far.\n",
      "****************************************************************************************************\n",
      "\n",
      " ITERATION   PIPELINE                                       DURATION      METRIC      BEST\n",
      "         2   MinMaxScaler RandomForest                      0:00:51       0.8527    0.8527\n",
      "         4   MinMaxScaler RandomForest                      0:00:57       0.8092    0.8527\n",
      "         1   MaxAbsScaler XGBoostClassifier                 0:00:51       0.8259    0.8527\n",
      "         0   MaxAbsScaler LightGBM                          0:00:56       0.8060    0.8527\n",
      "         8   SparseNormalizer XGBoostClassifier             0:00:49       0.8463    0.8527\n",
      "         9   RobustScaler SVM                               0:00:55       0.7059    0.8527\n",
      "         3   MinMaxScaler RandomForest                      0:03:34       0.8360    0.8527\n",
      "         6   MinMaxScaler SVM                               0:03:34       0.7091    0.8527\n",
      "        10   MaxAbsScaler RandomForest                      0:00:52       0.7627    0.8527\n",
      "         5   SparseNormalizer XGBoostClassifier             0:03:50       0.8328    0.8527\n",
      "         7   SparseNormalizer XGBoostClassifier             0:03:37       0.8262    0.8527\n",
      "        11   SparseNormalizer LightGBM                      0:00:53       0.8330    0.8527\n",
      "        13   StandardScalerWrapper LightGBM                 0:00:46       0.8394    0.8527\n",
      "        12   StandardScalerWrapper RandomForest             0:00:58       0.8462    0.8527\n",
      "        15   SparseNormalizer XGBoostClassifier             0:00:51       0.8094    0.8527\n",
      "        14   StandardScalerWrapper LightGBM                 0:01:04       0.8025    0.8527\n",
      "        16   SparseNormalizer XGBoostClassifier             0:00:54       0.8397    0.8527\n",
      "        17   SparseNormalizer XGBoostClassifier             0:00:54       0.8195    0.8527\n",
      "        18   SparseNormalizer RandomForest                  0:00:52       0.8194    0.8527\n",
      "        19   SparseNormalizer LightGBM                      0:00:52       0.8328    0.8527\n",
      "        20   RobustScaler LightGBM                          0:00:59       0.8028    0.8527\n",
      "        21   SparseNormalizer ExtremeRandomTrees            0:00:58       0.7694    0.8527\n",
      "        22   StandardScalerWrapper GradientBoosting         0:00:58       0.8225    0.8527\n",
      "        23   MaxAbsScaler ExtremeRandomTrees                0:00:46       0.8260    0.8527\n",
      "        24   MaxAbsScaler ExtremeRandomTrees                0:00:53       0.7894    0.8527\n",
      "        25   MinMaxScaler RandomForest                      0:01:01       0.8024    0.8527\n",
      "        26   SparseNormalizer GradientBoosting              0:00:51       0.7828    0.8527\n",
      "        27   SparseNormalizer LightGBM                      0:00:48       0.8630    0.8630\n",
      "        28   StandardScalerWrapper LightGBM                 0:00:50       0.8159    0.8630\n",
      "        29   StandardScalerWrapper XGBoostClassifier        0:00:52       0.8194    0.8630\n",
      "        30   PCA LightGBM                                   0:00:52       0.6155    0.8630\n",
      "        31   SparseNormalizer LightGBM                      0:00:58       0.8027    0.8630\n",
      "        32   SparseNormalizer LightGBM                      0:00:59       0.8295    0.8630\n",
      "        33   MaxAbsScaler LightGBM                          0:01:02       0.7992    0.8630\n",
      "        34   MaxAbsScaler ExtremeRandomTrees                0:00:46       0.8495    0.8630\n",
      "        35   MinMaxScaler LightGBM                          0:00:52       0.8428    0.8630\n",
      "        36   SparseNormalizer XGBoostClassifier             0:00:50       0.8429    0.8630\n",
      "        37   MinMaxScaler LogisticRegression                0:00:50       0.8160    0.8630\n",
      "        38   RobustScaler LightGBM                          0:00:50       0.8194    0.8630\n",
      "        39   MaxAbsScaler LightGBM                          0:00:50       0.8426    0.8630\n",
      "        40   SparseNormalizer LightGBM                      0:00:49       0.8329    0.8630\n",
      "        41   StandardScalerWrapper XGBoostClassifier        0:00:46       0.8328    0.8630\n",
      "        42   SparseNormalizer XGBoostClassifier             0:00:52       0.8529    0.8630\n",
      "        43   MinMaxScaler LightGBM                          0:00:58       0.8227    0.8630\n",
      "        44   SparseNormalizer XGBoostClassifier             0:01:03       0.8327    0.8630\n",
      "        45   StandardScalerWrapper LightGBM                 0:00:52       0.7059    0.8630\n",
      "        46   StandardScalerWrapper RandomForest             0:00:50       0.8292    0.8630\n",
      "        47   SparseNormalizer XGBoostClassifier             0:00:54       0.8362    0.8630\n",
      "        48   SparseNormalizer XGBoostClassifier             0:00:56       0.8328    0.8630\n",
      "        49   StandardScalerWrapper RandomForest             0:00:54       0.8124    0.8630\n",
      "        50   MaxAbsScaler LightGBM                          0:00:51       0.8360    0.8630\n",
      "        51   SparseNormalizer XGBoostClassifier             0:00:54       0.8496    0.8630\n",
      "        52   RobustScaler ExtremeRandomTrees                0:00:55       0.8562    0.8630\n",
      "        53   StandardScalerWrapper LightGBM                 0:00:46       0.8360    0.8630\n",
      "        54   StandardScalerWrapper LightGBM                 0:00:53       0.8059    0.8630\n",
      "        55   StandardScalerWrapper LightGBM                 0:00:53       0.8192    0.8630\n",
      "        56   StandardScalerWrapper ExtremeRandomTrees       0:00:53       0.8562    0.8630\n",
      "        57   SparseNormalizer LightGBM                      0:00:51       0.8061    0.8630\n",
      "        58   MinMaxScaler LightGBM                          0:00:57       0.8361    0.8630\n",
      "        59   SparseNormalizer XGBoostClassifier             0:00:49       0.8462    0.8630\n",
      "        60   RobustScaler LightGBM                          0:00:47       0.8328    0.8630\n",
      "        61   RobustScaler GradientBoosting                  0:00:54       0.8360    0.8630\n",
      "        62   MinMaxScaler LightGBM                          0:00:51       0.8192    0.8630\n",
      "        63   StandardScalerWrapper RandomForest             0:00:52       0.8259    0.8630\n",
      "        64   SparseNormalizer LightGBM                      0:00:50       0.8396    0.8630\n",
      "        65   StandardScalerWrapper LightGBM                 0:00:48       0.8025    0.8630\n",
      "ERROR: {\n",
      "    \"additional_properties\": {},\n",
      "    \"error\": {\n",
      "        \"additional_properties\": {\n",
      "            \"debugInfo\": null\n",
      "        },\n",
      "        \"code\": \"UserError\",\n",
      "        \"severity\": null,\n",
      "        \"message\": \"Experiment timeout reached, please consider increasing your experiment timeout.\",\n",
      "        \"message_format\": \"Experiment timeout reached, please consider increasing your experiment timeout.\",\n",
      "        \"message_parameters\": {},\n",
      "        \"reference_code\": null,\n",
      "        \"details_uri\": null,\n",
      "        \"target\": null,\n",
      "        \"details\": [],\n",
      "        \"inner_error\": {\n",
      "            \"additional_properties\": {},\n",
      "            \"code\": \"ResourceExhausted\",\n",
      "            \"inner_error\": {\n",
      "                \"additional_properties\": {},\n",
      "                \"code\": \"Timeout\",\n",
      "                \"inner_error\": {\n",
      "                    \"additional_properties\": {},\n",
      "                    \"code\": \"ExperimentTimeoutForIterations\",\n",
      "                    \"inner_error\": null\n",
      "                }\n",
      "            }\n",
      "        }\n",
      "    },\n",
      "    \"correlation\": null,\n",
      "    \"environment\": null,\n",
      "    \"location\": null,\n",
      "    \"time\": {},\n",
      "    \"component_name\": null\n",
      "}\n"
     ]
    },
    {
     "name": "stdout",
     "output_type": "stream",
     "text": [
      "        69                                                  0:00:05          nan    0.8630\n",
      "ERROR: {\n",
      "    \"additional_properties\": {},\n",
      "    \"error\": {\n",
      "        \"additional_properties\": {\n",
      "            \"debugInfo\": null\n",
      "        },\n",
      "        \"code\": \"UserError\",\n",
      "        \"severity\": null,\n",
      "        \"message\": \"Experiment timeout reached, please consider increasing your experiment timeout.\",\n",
      "        \"message_format\": \"Experiment timeout reached, please consider increasing your experiment timeout.\",\n",
      "        \"message_parameters\": {},\n",
      "        \"reference_code\": null,\n",
      "        \"details_uri\": null,\n",
      "        \"target\": null,\n",
      "        \"details\": [],\n",
      "        \"inner_error\": {\n",
      "            \"additional_properties\": {},\n",
      "            \"code\": \"ResourceExhausted\",\n",
      "            \"inner_error\": {\n",
      "                \"additional_properties\": {},\n",
      "                \"code\": \"Timeout\",\n",
      "                \"inner_error\": {\n",
      "                    \"additional_properties\": {},\n",
      "                    \"code\": \"ExperimentTimeoutForIterations\",\n",
      "                    \"inner_error\": null\n",
      "                }\n",
      "            }\n",
      "        }\n",
      "    },\n",
      "    \"correlation\": null,\n",
      "    \"environment\": null,\n",
      "    \"location\": null,\n",
      "    \"time\": {},\n",
      "    \"component_name\": null\n",
      "}\n",
      "        66                                                  0:00:50          nan    0.8630\n",
      "ERROR: {\n",
      "    \"additional_properties\": {},\n",
      "    \"error\": {\n",
      "        \"additional_properties\": {\n",
      "            \"debugInfo\": null\n",
      "        },\n",
      "        \"code\": \"UserError\",\n",
      "        \"severity\": null,\n",
      "        \"message\": \"Experiment timeout reached, please consider increasing your experiment timeout.\",\n",
      "        \"message_format\": \"Experiment timeout reached, please consider increasing your experiment timeout.\",\n",
      "        \"message_parameters\": {},\n",
      "        \"reference_code\": null,\n",
      "        \"details_uri\": null,\n",
      "        \"target\": null,\n",
      "        \"details\": [],\n",
      "        \"inner_error\": {\n",
      "            \"additional_properties\": {},\n",
      "            \"code\": \"ResourceExhausted\",\n",
      "            \"inner_error\": {\n",
      "                \"additional_properties\": {},\n",
      "                \"code\": \"Timeout\",\n",
      "                \"inner_error\": {\n",
      "                    \"additional_properties\": {},\n",
      "                    \"code\": \"ExperimentTimeoutForIterations\",\n",
      "                    \"inner_error\": null\n",
      "                }\n",
      "            }\n",
      "        }\n",
      "    },\n",
      "    \"correlation\": null,\n",
      "    \"environment\": null,\n",
      "    \"location\": null,\n",
      "    \"time\": {},\n",
      "    \"component_name\": null\n",
      "}\n",
      "        67                                                  0:00:18          nan    0.8630\n",
      "ERROR: {\n",
      "    \"additional_properties\": {},\n",
      "    \"error\": {\n",
      "        \"additional_properties\": {\n",
      "            \"debugInfo\": null\n",
      "        },\n",
      "        \"code\": \"UserError\",\n",
      "        \"severity\": null,\n",
      "        \"message\": \"Experiment timeout reached, please consider increasing your experiment timeout.\",\n",
      "        \"message_format\": \"Experiment timeout reached, please consider increasing your experiment timeout.\",\n",
      "        \"message_parameters\": {},\n",
      "        \"reference_code\": null,\n",
      "        \"details_uri\": null,\n",
      "        \"target\": null,\n",
      "        \"details\": [],\n",
      "        \"inner_error\": {\n",
      "            \"additional_properties\": {},\n",
      "            \"code\": \"ResourceExhausted\",\n",
      "            \"inner_error\": {\n",
      "                \"additional_properties\": {},\n",
      "                \"code\": \"Timeout\",\n",
      "                \"inner_error\": {\n",
      "                    \"additional_properties\": {},\n",
      "                    \"code\": \"ExperimentTimeoutForIterations\",\n",
      "                    \"inner_error\": null\n",
      "                }\n",
      "            }\n",
      "        }\n",
      "    },\n",
      "    \"correlation\": null,\n",
      "    \"environment\": null,\n",
      "    \"location\": null,\n",
      "    \"time\": {},\n",
      "    \"component_name\": null\n",
      "}\n",
      "        68                                                  0:00:18          nan    0.8630\n",
      "ERROR: {\n",
      "    \"additional_properties\": {},\n",
      "    \"error\": {\n",
      "        \"additional_properties\": {\n",
      "            \"debugInfo\": null\n",
      "        },\n",
      "        \"code\": \"UserError\",\n",
      "        \"severity\": null,\n",
      "        \"message\": \"Experiment timeout reached, please consider increasing your experiment timeout.\",\n",
      "        \"message_format\": \"Experiment timeout reached, please consider increasing your experiment timeout.\",\n",
      "        \"message_parameters\": {},\n",
      "        \"reference_code\": null,\n",
      "        \"details_uri\": null,\n",
      "        \"target\": null,\n",
      "        \"details\": [],\n",
      "        \"inner_error\": {\n",
      "            \"additional_properties\": {},\n",
      "            \"code\": \"ResourceExhausted\",\n",
      "            \"inner_error\": {\n",
      "                \"additional_properties\": {},\n",
      "                \"code\": \"Timeout\",\n",
      "                \"inner_error\": {\n",
      "                    \"additional_properties\": {},\n",
      "                    \"code\": \"ExperimentTimeoutForIterations\",\n",
      "                    \"inner_error\": null\n",
      "                }\n",
      "            }\n",
      "        }\n",
      "    },\n",
      "    \"correlation\": null,\n",
      "    \"environment\": null,\n",
      "    \"location\": null,\n",
      "    \"time\": {},\n",
      "    \"component_name\": null\n",
      "}\n",
      "        70    VotingEnsemble                                0:01:52       0.8763    0.8763\n",
      "        71    StackEnsemble                                 0:01:52       0.8596    0.8763\n"
     ]
    },
    {
     "data": {
      "text/plain": [
       "{'runId': 'AutoML_90926142-d8d8-4f9d-a593-3d5fff6a318c',\n",
       " 'target': 'ComputeCluster',\n",
       " 'status': 'Completed',\n",
       " 'startTimeUtc': '2021-02-12T07:31:04.552432Z',\n",
       " 'endTimeUtc': '2021-02-12T07:58:55.212453Z',\n",
       " 'properties': {'num_iterations': '1000',\n",
       "  'training_type': 'TrainFull',\n",
       "  'acquisition_function': 'EI',\n",
       "  'primary_metric': 'accuracy',\n",
       "  'train_split': '0',\n",
       "  'acquisition_parameter': '0',\n",
       "  'num_cross_validation': '5',\n",
       "  'target': 'ComputeCluster',\n",
       "  'AMLSettingsJsonString': '{\"path\":null,\"name\":\"HeartFailureClassificationExp\",\"subscription_id\":\"1b944a9b-fdae-4f97-aeb1-b7eea0beac53\",\"resource_group\":\"aml-quickstarts-138666\",\"workspace_name\":\"quick-starts-ws-138666\",\"region\":\"southcentralus\",\"compute_target\":\"ComputeCluster\",\"spark_service\":null,\"azure_service\":\"remote\",\"many_models\":false,\"pipeline_fetch_max_batch_size\":1,\"iterations\":1000,\"primary_metric\":\"accuracy\",\"task_type\":\"classification\",\"data_script\":null,\"validation_size\":0.0,\"n_cross_validations\":5,\"y_min\":null,\"y_max\":null,\"num_classes\":null,\"featurization\":\"auto\",\"_ignore_package_version_incompatibilities\":false,\"is_timeseries\":false,\"max_cores_per_iteration\":1,\"max_concurrent_iterations\":5,\"iteration_timeout_minutes\":null,\"mem_in_mb\":null,\"enforce_time_on_windows\":false,\"experiment_timeout_minutes\":20,\"experiment_exit_score\":null,\"whitelist_models\":null,\"blacklist_algos\":[\"TensorFlowLinearClassifier\",\"TensorFlowDNN\"],\"supported_models\":[\"TensorFlowLinearClassifier\",\"DecisionTree\",\"ExtremeRandomTrees\",\"MultinomialNaiveBayes\",\"LogisticRegression\",\"KNN\",\"BernoulliNaiveBayes\",\"TensorFlowDNN\",\"LinearSVM\",\"LightGBM\",\"XGBoostClassifier\",\"SVM\",\"AveragedPerceptronClassifier\",\"SGD\",\"RandomForest\",\"GradientBoosting\"],\"auto_blacklist\":true,\"blacklist_samples_reached\":false,\"exclude_nan_labels\":true,\"verbosity\":20,\"_debug_log\":\"azureml_automl.log\",\"show_warnings\":false,\"model_explainability\":true,\"service_url\":null,\"sdk_url\":null,\"sdk_packages\":null,\"enable_onnx_compatible_models\":false,\"enable_split_onnx_featurizer_estimator_models\":false,\"vm_type\":\"STANDARD_D2_V2\",\"telemetry_verbosity\":20,\"send_telemetry\":true,\"enable_dnn\":false,\"scenario\":\"SDK-1.13.0\",\"environment_label\":null,\"force_text_dnn\":false,\"enable_feature_sweeping\":true,\"enable_early_stopping\":false,\"early_stopping_n_iters\":10,\"metrics\":null,\"enable_ensembling\":true,\"enable_stack_ensembling\":true,\"ensemble_iterations\":15,\"enable_tf\":false,\"enable_subsampling\":null,\"subsample_seed\":null,\"enable_nimbusml\":false,\"enable_streaming\":false,\"force_streaming\":false,\"track_child_runs\":true,\"allowed_private_models\":[],\"label_column_name\":\"DEATH_EVENT\",\"weight_column_name\":null,\"cv_split_column_names\":null,\"enable_local_managed\":false,\"_local_managed_run_id\":null,\"cost_mode\":1,\"lag_length\":0,\"metric_operation\":\"maximize\",\"preprocess\":true}',\n",
       "  'DataPrepJsonString': '{\\\\\"training_data\\\\\": \\\\\"{\\\\\\\\\\\\\"blocks\\\\\\\\\\\\\": [{\\\\\\\\\\\\\"id\\\\\\\\\\\\\": \\\\\\\\\\\\\"0211f99c-7cf7-4da8-b8fb-2d5f36813395\\\\\\\\\\\\\", \\\\\\\\\\\\\"type\\\\\\\\\\\\\": \\\\\\\\\\\\\"Microsoft.DPrep.GetFilesBlock\\\\\\\\\\\\\", \\\\\\\\\\\\\"arguments\\\\\\\\\\\\\": {\\\\\\\\\\\\\"isArchive\\\\\\\\\\\\\": false, \\\\\\\\\\\\\"path\\\\\\\\\\\\\": {\\\\\\\\\\\\\"target\\\\\\\\\\\\\": 4, \\\\\\\\\\\\\"resourceDetails\\\\\\\\\\\\\": [{\\\\\\\\\\\\\"path\\\\\\\\\\\\\": \\\\\\\\\\\\\"https://raw.githubusercontent.com/eparamasari/ML_Engineer_ND_Capstone/main/data/heart_failure_clinical_records_dataset.csv\\\\\\\\\\\\\"}]}}, \\\\\\\\\\\\\"localData\\\\\\\\\\\\\": {}, \\\\\\\\\\\\\"isEnabled\\\\\\\\\\\\\": true, \\\\\\\\\\\\\"name\\\\\\\\\\\\\": null, \\\\\\\\\\\\\"annotation\\\\\\\\\\\\\": null}, {\\\\\\\\\\\\\"id\\\\\\\\\\\\\": \\\\\\\\\\\\\"d2676bfe-34e7-44f1-b1ea-7a4ea0418077\\\\\\\\\\\\\", \\\\\\\\\\\\\"type\\\\\\\\\\\\\": \\\\\\\\\\\\\"Microsoft.DPrep.ParseDelimitedBlock\\\\\\\\\\\\\", \\\\\\\\\\\\\"arguments\\\\\\\\\\\\\": {\\\\\\\\\\\\\"columnHeadersMode\\\\\\\\\\\\\": 3, \\\\\\\\\\\\\"fileEncoding\\\\\\\\\\\\\": 0, \\\\\\\\\\\\\"handleQuotedLineBreaks\\\\\\\\\\\\\": false, \\\\\\\\\\\\\"preview\\\\\\\\\\\\\": false, \\\\\\\\\\\\\"separator\\\\\\\\\\\\\": \\\\\\\\\\\\\",\\\\\\\\\\\\\", \\\\\\\\\\\\\"skipRows\\\\\\\\\\\\\": 0, \\\\\\\\\\\\\"skipRowsMode\\\\\\\\\\\\\": 0}, \\\\\\\\\\\\\"localData\\\\\\\\\\\\\": {}, \\\\\\\\\\\\\"isEnabled\\\\\\\\\\\\\": true, \\\\\\\\\\\\\"name\\\\\\\\\\\\\": null, \\\\\\\\\\\\\"annotation\\\\\\\\\\\\\": null}, {\\\\\\\\\\\\\"id\\\\\\\\\\\\\": \\\\\\\\\\\\\"3220cd5f-d072-42c4-9020-80ba5f7e2345\\\\\\\\\\\\\", \\\\\\\\\\\\\"type\\\\\\\\\\\\\": \\\\\\\\\\\\\"Microsoft.DPrep.DropColumnsBlock\\\\\\\\\\\\\", \\\\\\\\\\\\\"arguments\\\\\\\\\\\\\": {\\\\\\\\\\\\\"columns\\\\\\\\\\\\\": {\\\\\\\\\\\\\"type\\\\\\\\\\\\\": 0, \\\\\\\\\\\\\"details\\\\\\\\\\\\\": {\\\\\\\\\\\\\"selectedColumns\\\\\\\\\\\\\": [\\\\\\\\\\\\\"Path\\\\\\\\\\\\\"]}}}, \\\\\\\\\\\\\"localData\\\\\\\\\\\\\": {}, \\\\\\\\\\\\\"isEnabled\\\\\\\\\\\\\": true, \\\\\\\\\\\\\"name\\\\\\\\\\\\\": null, \\\\\\\\\\\\\"annotation\\\\\\\\\\\\\": null}, {\\\\\\\\\\\\\"id\\\\\\\\\\\\\": \\\\\\\\\\\\\"0a8b526d-96f6-4f75-b205-d6149a1dac2a\\\\\\\\\\\\\", \\\\\\\\\\\\\"type\\\\\\\\\\\\\": \\\\\\\\\\\\\"Microsoft.DPrep.SetColumnTypesBlock\\\\\\\\\\\\\", \\\\\\\\\\\\\"arguments\\\\\\\\\\\\\": {\\\\\\\\\\\\\"columnConversion\\\\\\\\\\\\\": [{\\\\\\\\\\\\\"column\\\\\\\\\\\\\": {\\\\\\\\\\\\\"type\\\\\\\\\\\\\": 2, \\\\\\\\\\\\\"details\\\\\\\\\\\\\": {\\\\\\\\\\\\\"selectedColumn\\\\\\\\\\\\\": \\\\\\\\\\\\\"age\\\\\\\\\\\\\"}}, \\\\\\\\\\\\\"typeProperty\\\\\\\\\\\\\": 3}, {\\\\\\\\\\\\\"column\\\\\\\\\\\\\": {\\\\\\\\\\\\\"type\\\\\\\\\\\\\": 2, \\\\\\\\\\\\\"details\\\\\\\\\\\\\": {\\\\\\\\\\\\\"selectedColumn\\\\\\\\\\\\\": \\\\\\\\\\\\\"anaemia\\\\\\\\\\\\\"}}, \\\\\\\\\\\\\"typeProperty\\\\\\\\\\\\\": 2}, {\\\\\\\\\\\\\"column\\\\\\\\\\\\\": {\\\\\\\\\\\\\"type\\\\\\\\\\\\\": 2, \\\\\\\\\\\\\"details\\\\\\\\\\\\\": {\\\\\\\\\\\\\"selectedColumn\\\\\\\\\\\\\": \\\\\\\\\\\\\"creatinine_phosphokinase\\\\\\\\\\\\\"}}, \\\\\\\\\\\\\"typeProperty\\\\\\\\\\\\\": 2}, {\\\\\\\\\\\\\"column\\\\\\\\\\\\\": {\\\\\\\\\\\\\"type\\\\\\\\\\\\\": 2, \\\\\\\\\\\\\"details\\\\\\\\\\\\\": {\\\\\\\\\\\\\"selectedColumn\\\\\\\\\\\\\": \\\\\\\\\\\\\"diabetes\\\\\\\\\\\\\"}}, \\\\\\\\\\\\\"typeProperty\\\\\\\\\\\\\": 2}, {\\\\\\\\\\\\\"column\\\\\\\\\\\\\": {\\\\\\\\\\\\\"type\\\\\\\\\\\\\": 2, \\\\\\\\\\\\\"details\\\\\\\\\\\\\": {\\\\\\\\\\\\\"selectedColumn\\\\\\\\\\\\\": \\\\\\\\\\\\\"ejection_fraction\\\\\\\\\\\\\"}}, \\\\\\\\\\\\\"typeProperty\\\\\\\\\\\\\": 2}, {\\\\\\\\\\\\\"column\\\\\\\\\\\\\": {\\\\\\\\\\\\\"type\\\\\\\\\\\\\": 2, \\\\\\\\\\\\\"details\\\\\\\\\\\\\": {\\\\\\\\\\\\\"selectedColumn\\\\\\\\\\\\\": \\\\\\\\\\\\\"high_blood_pressure\\\\\\\\\\\\\"}}, \\\\\\\\\\\\\"typeProperty\\\\\\\\\\\\\": 2}, {\\\\\\\\\\\\\"column\\\\\\\\\\\\\": {\\\\\\\\\\\\\"type\\\\\\\\\\\\\": 2, \\\\\\\\\\\\\"details\\\\\\\\\\\\\": {\\\\\\\\\\\\\"selectedColumn\\\\\\\\\\\\\": \\\\\\\\\\\\\"platelets\\\\\\\\\\\\\"}}, \\\\\\\\\\\\\"typeProperty\\\\\\\\\\\\\": 3}, {\\\\\\\\\\\\\"column\\\\\\\\\\\\\": {\\\\\\\\\\\\\"type\\\\\\\\\\\\\": 2, \\\\\\\\\\\\\"details\\\\\\\\\\\\\": {\\\\\\\\\\\\\"selectedColumn\\\\\\\\\\\\\": \\\\\\\\\\\\\"serum_creatinine\\\\\\\\\\\\\"}}, \\\\\\\\\\\\\"typeProperty\\\\\\\\\\\\\": 3}, {\\\\\\\\\\\\\"column\\\\\\\\\\\\\": {\\\\\\\\\\\\\"type\\\\\\\\\\\\\": 2, \\\\\\\\\\\\\"details\\\\\\\\\\\\\": {\\\\\\\\\\\\\"selectedColumn\\\\\\\\\\\\\": \\\\\\\\\\\\\"serum_sodium\\\\\\\\\\\\\"}}, \\\\\\\\\\\\\"typeProperty\\\\\\\\\\\\\": 2}, {\\\\\\\\\\\\\"column\\\\\\\\\\\\\": {\\\\\\\\\\\\\"type\\\\\\\\\\\\\": 2, \\\\\\\\\\\\\"details\\\\\\\\\\\\\": {\\\\\\\\\\\\\"selectedColumn\\\\\\\\\\\\\": \\\\\\\\\\\\\"sex\\\\\\\\\\\\\"}}, \\\\\\\\\\\\\"typeProperty\\\\\\\\\\\\\": 2}, {\\\\\\\\\\\\\"column\\\\\\\\\\\\\": {\\\\\\\\\\\\\"type\\\\\\\\\\\\\": 2, \\\\\\\\\\\\\"details\\\\\\\\\\\\\": {\\\\\\\\\\\\\"selectedColumn\\\\\\\\\\\\\": \\\\\\\\\\\\\"smoking\\\\\\\\\\\\\"}}, \\\\\\\\\\\\\"typeProperty\\\\\\\\\\\\\": 2}, {\\\\\\\\\\\\\"column\\\\\\\\\\\\\": {\\\\\\\\\\\\\"type\\\\\\\\\\\\\": 2, \\\\\\\\\\\\\"details\\\\\\\\\\\\\": {\\\\\\\\\\\\\"selectedColumn\\\\\\\\\\\\\": \\\\\\\\\\\\\"time\\\\\\\\\\\\\"}}, \\\\\\\\\\\\\"typeProperty\\\\\\\\\\\\\": 2}, {\\\\\\\\\\\\\"column\\\\\\\\\\\\\": {\\\\\\\\\\\\\"type\\\\\\\\\\\\\": 2, \\\\\\\\\\\\\"details\\\\\\\\\\\\\": {\\\\\\\\\\\\\"selectedColumn\\\\\\\\\\\\\": \\\\\\\\\\\\\"DEATH_EVENT\\\\\\\\\\\\\"}}, \\\\\\\\\\\\\"typeProperty\\\\\\\\\\\\\": 2}]}, \\\\\\\\\\\\\"localData\\\\\\\\\\\\\": {}, \\\\\\\\\\\\\"isEnabled\\\\\\\\\\\\\": true, \\\\\\\\\\\\\"name\\\\\\\\\\\\\": null, \\\\\\\\\\\\\"annotation\\\\\\\\\\\\\": null}], \\\\\\\\\\\\\"inspectors\\\\\\\\\\\\\": [], \\\\\\\\\\\\\"meta\\\\\\\\\\\\\": {\\\\\\\\\\\\\"savedDatasetId\\\\\\\\\\\\\": \\\\\\\\\\\\\"47eaaa05-82df-40d5-80a0-e6a06060490b\\\\\\\\\\\\\", \\\\\\\\\\\\\"datasetType\\\\\\\\\\\\\": \\\\\\\\\\\\\"tabular\\\\\\\\\\\\\", \\\\\\\\\\\\\"subscriptionId\\\\\\\\\\\\\": \\\\\\\\\\\\\"1b944a9b-fdae-4f97-aeb1-b7eea0beac53\\\\\\\\\\\\\", \\\\\\\\\\\\\"workspaceId\\\\\\\\\\\\\": \\\\\\\\\\\\\"d9cf2a4d-15ef-4b78-b0bd-4de288ffba5c\\\\\\\\\\\\\", \\\\\\\\\\\\\"workspaceLocation\\\\\\\\\\\\\": \\\\\\\\\\\\\"southcentralus\\\\\\\\\\\\\"}}\\\\\", \\\\\"activities\\\\\": 0}',\n",
       "  'EnableSubsampling': None,\n",
       "  'runTemplate': 'AutoML',\n",
       "  'azureml.runsource': 'automl',\n",
       "  'display_task_type': 'classification',\n",
       "  'dependencies_versions': '{\"azureml-widgets\": \"1.20.0\", \"azureml-train\": \"1.20.0\", \"azureml-train-restclients-hyperdrive\": \"1.20.0\", \"azureml-train-core\": \"1.20.0\", \"azureml-train-automl\": \"1.20.0\", \"azureml-train-automl-runtime\": \"1.20.0\", \"azureml-train-automl-client\": \"1.20.0\", \"azureml-tensorboard\": \"1.20.0\", \"azureml-telemetry\": \"1.20.0\", \"azureml-sdk\": \"1.20.0\", \"azureml-samples\": \"0+unknown\", \"azureml-pipeline\": \"1.20.0\", \"azureml-pipeline-steps\": \"1.20.0\", \"azureml-pipeline-core\": \"1.20.0\", \"azureml-opendatasets\": \"1.20.0\", \"azureml-model-management-sdk\": \"1.0.1b6.post1\", \"azureml-mlflow\": \"1.20.0.post1\", \"azureml-interpret\": \"1.20.0\", \"azureml-explain-model\": \"1.20.0\", \"azureml-defaults\": \"1.20.0\", \"azureml-dataset-runtime\": \"1.20.0\", \"azureml-dataprep\": \"2.7.3\", \"azureml-dataprep-rslex\": \"1.5.0\", \"azureml-dataprep-native\": \"27.0.0\", \"azureml-datadrift\": \"1.20.0\", \"azureml-core\": \"1.20.0\", \"azureml-contrib-services\": \"1.20.0\", \"azureml-contrib-server\": \"1.20.0\", \"azureml-contrib-reinforcementlearning\": \"1.20.0\", \"azureml-contrib-pipeline-steps\": \"1.20.0\", \"azureml-contrib-notebook\": \"1.20.0\", \"azureml-contrib-interpret\": \"1.20.0\", \"azureml-contrib-gbdt\": \"1.20.0\", \"azureml-contrib-fairness\": \"1.20.0\", \"azureml-contrib-dataset\": \"1.20.0\", \"azureml-cli-common\": \"1.20.0\", \"azureml-automl-runtime\": \"1.20.0\", \"azureml-automl-core\": \"1.20.0\", \"azureml-accel-models\": \"1.20.0\"}',\n",
       "  '_aml_system_scenario_identification': 'Remote.Parent',\n",
       "  'ClientType': 'SDK',\n",
       "  'environment_cpu_name': 'AzureML-AutoML',\n",
       "  'environment_cpu_label': 'prod',\n",
       "  'environment_gpu_name': 'AzureML-AutoML-GPU',\n",
       "  'environment_gpu_label': 'prod',\n",
       "  'root_attribution': 'automl',\n",
       "  'attribution': 'AutoML',\n",
       "  'Orchestrator': 'AutoML',\n",
       "  'CancelUri': 'https://southcentralus.experiments.azureml.net/jasmine/v1.0/subscriptions/1b944a9b-fdae-4f97-aeb1-b7eea0beac53/resourceGroups/aml-quickstarts-138666/providers/Microsoft.MachineLearningServices/workspaces/quick-starts-ws-138666/experimentids/27f0d882-b5a9-4a8b-8130-24427f2b980e/cancel/AutoML_90926142-d8d8-4f9d-a593-3d5fff6a318c',\n",
       "  'ClientSdkVersion': '1.21.0',\n",
       "  'snapshotId': '00000000-0000-0000-0000-000000000000',\n",
       "  'SetupRunId': 'AutoML_90926142-d8d8-4f9d-a593-3d5fff6a318c_setup',\n",
       "  'SetupRunContainerId': 'dcid.AutoML_90926142-d8d8-4f9d-a593-3d5fff6a318c_setup',\n",
       "  'FeaturizationRunJsonPath': 'featurizer_container.json',\n",
       "  'FeaturizationRunId': 'AutoML_90926142-d8d8-4f9d-a593-3d5fff6a318c_featurize',\n",
       "  'ProblemInfoJsonString': '{\"dataset_num_categorical\": 0, \"is_sparse\": false, \"subsampling\": false, \"dataset_classes\": 2, \"dataset_features\": 12, \"dataset_samples\": 299, \"single_frequency_class_detected\": false}',\n",
       "  'ModelExplainRunId': 'AutoML_90926142-d8d8-4f9d-a593-3d5fff6a318c_ModelExplain'},\n",
       " 'inputDatasets': [{'dataset': {'id': '47eaaa05-82df-40d5-80a0-e6a06060490b'}, 'consumptionDetails': {'type': 'RunInput', 'inputName': 'training_data', 'mechanism': 'Direct'}}],\n",
       " 'outputDatasets': [],\n",
       " 'logFiles': {},\n",
       " 'submittedBy': 'ODL_User 138666'}"
      ]
     },
     "execution_count": 8,
     "metadata": {},
     "output_type": "execute_result"
    }
   ],
   "source": [
    "remote_run.wait_for_completion(show_output=True)"
   ]
  },
  {
   "cell_type": "markdown",
   "metadata": {},
   "source": [
    "## Best Model\n",
    "\n",
    "In the cell below, we're getting the best model from the automl experiments and display all the properties of the model.\n",
    "\n"
   ]
  },
  {
   "cell_type": "code",
   "execution_count": 9,
   "metadata": {
    "gather": {
     "logged": 1598431425670
    },
    "jupyter": {
     "outputs_hidden": false,
     "source_hidden": false
    },
    "nteract": {
     "transient": {
      "deleting": false
     }
    }
   },
   "outputs": [
    {
     "name": "stderr",
     "output_type": "stream",
     "text": [
      "WARNING:root:The version of the SDK does not match the version the model was trained on.\n",
      "WARNING:root:The consistency in the result may not be guaranteed.\n",
      "WARNING:root:Package:azureml-automl-core, training version:1.21.0, current version:1.20.0\n",
      "Package:azureml-automl-runtime, training version:1.21.0, current version:1.20.0\n",
      "Package:azureml-core, training version:1.21.0.post1, current version:1.20.0\n",
      "Package:azureml-dataprep, training version:2.8.2, current version:2.7.3\n",
      "Package:azureml-dataprep-native, training version:28.0.0, current version:27.0.0\n",
      "Package:azureml-dataprep-rslex, training version:1.6.0, current version:1.5.0\n",
      "Package:azureml-dataset-runtime, training version:1.21.0, current version:1.20.0\n",
      "Package:azureml-defaults, training version:1.21.0, current version:1.20.0\n",
      "Package:azureml-interpret, training version:1.21.0, current version:1.20.0\n",
      "Package:azureml-pipeline-core, training version:1.21.0, current version:1.20.0\n",
      "Package:azureml-telemetry, training version:1.21.0, current version:1.20.0\n",
      "Package:azureml-train-automl-client, training version:1.21.0, current version:1.20.0\n",
      "Package:azureml-train-automl-runtime, training version:1.21.0, current version:1.20.0\n",
      "WARNING:root:Please ensure the version of your local conda dependencies match the version on which your model was trained in order to properly retrieve your model.\n"
     ]
    },
    {
     "name": "stdout",
     "output_type": "stream",
     "text": [
      "Run(Experiment: HeartFailureClassificationExp,\n",
      "Id: AutoML_90926142-d8d8-4f9d-a593-3d5fff6a318c_70,\n",
      "Type: azureml.scriptrun,\n",
      "Status: Completed)\n",
      "f1_score_micro 0.8763276836158193\n",
      "f1_score_macro 0.8495459791619602\n",
      "weighted_accuracy 0.8968878829357403\n",
      "average_precision_score_weighted 0.9256618927723945\n",
      "accuracy 0.8763276836158193\n",
      "recall_score_macro 0.8456547619047619\n",
      "AUC_weighted 0.9148786683277963\n",
      "recall_score_weighted 0.8763276836158193\n",
      "norm_macro_recall 0.6913095238095238\n",
      "AUC_micro 0.9160299562705481\n",
      "average_precision_score_micro 0.9175761251835782\n",
      "log_loss 0.3712387980151897\n",
      "matthews_correlation 0.7258331573961796\n",
      "precision_score_macro 0.8837545144509594\n",
      "balanced_accuracy 0.8456547619047619\n",
      "precision_score_micro 0.8763276836158193\n",
      "recall_score_micro 0.8763276836158193\n",
      "average_precision_score_macro 0.9032289354516564\n",
      "precision_score_weighted 0.8934916290495668\n",
      "f1_score_weighted 0.8720743353669373\n",
      "AUC_macro 0.9148786683277963\n",
      "confusion_matrix aml://artifactId/ExperimentRun/dcid.AutoML_90926142-d8d8-4f9d-a593-3d5fff6a318c_70/confusion_matrix\n",
      "accuracy_table aml://artifactId/ExperimentRun/dcid.AutoML_90926142-d8d8-4f9d-a593-3d5fff6a318c_70/accuracy_table\n"
     ]
    }
   ],
   "source": [
    "# Getting the best run and model\n",
    "best_run, fitted_model = remote_run.get_output()\n",
    "\n",
    "# Printing the best run\n",
    "print(best_run)\n",
    "\n",
    "# Getting all metrics of the best run\n",
    "best_run_metrics = best_run.get_metrics()\n",
    "\n",
    "# Printing all metrics of the best run\n",
    "for metric_name in best_run_metrics:\n",
    "    metric = best_run_metrics[metric_name]\n",
    "    print(metric_name, metric)"
   ]
  },
  {
   "cell_type": "code",
   "execution_count": 10,
   "metadata": {
    "gather": {
     "logged": 1598431426111
    },
    "jupyter": {
     "outputs_hidden": false,
     "source_hidden": false
    },
    "nteract": {
     "transient": {
      "deleting": false
     }
    }
   },
   "outputs": [
    {
     "name": "stdout",
     "output_type": "stream",
     "text": [
      "Model(workspace=Workspace.create(name='quick-starts-ws-138666', subscription_id='1b944a9b-fdae-4f97-aeb1-b7eea0beac53', resource_group='aml-quickstarts-138666'), name=heart_failure_automl, id=heart_failure_automl:1, version=1, tags={'Training type': 'Automated ML'}, properties={'Accuracy': '0.8763276836158193'})\n"
     ]
    }
   ],
   "source": [
    "# Saving the best model\n",
    "best_automl_model = best_run.register_model(model_path='outputs/model.pkl', model_name='heart_failure_automl',\n",
    "                        tags = {'Training type': 'Automated ML'},\n",
    "                        properties = {'Accuracy': best_run_metrics['accuracy']})\n",
    "\n",
    "print(best_automl_model)"
   ]
  },
  {
   "cell_type": "code",
   "execution_count": 22,
   "metadata": {},
   "outputs": [
    {
     "name": "stdout",
     "output_type": "stream",
     "text": [
      "HyperDrive_HighAccuracy version: 1\n",
      "\t Accuracy : 0.7555555555555555\n",
      "\n",
      "\n",
      "heart_failure_automl version: 1\n",
      "\t Training type : Automated ML\n",
      "\t Accuracy : 0.8763276836158193\n",
      "\n",
      "\n"
     ]
    }
   ],
   "source": [
    "# Listing registered models to verify that the model has been saved\n",
    "for model in Model.list(ws):\n",
    "    print(model.name, 'version:', model.version)\n",
    "    for tag_name in model.tags:\n",
    "        tag = model.tags[tag_name]\n",
    "        print ('\\t',tag_name, ':', tag)\n",
    "    for prop_name in model.properties:\n",
    "        prop = model.properties[prop_name]\n",
    "        print ('\\t',prop_name, ':', prop)\n",
    "    print('\\n')"
   ]
  },
  {
   "cell_type": "markdown",
   "metadata": {},
   "source": [
    "## Model Deployment\n",
    "\n",
    "Remember you have to deploy only one of the two models you trained.. Perform the steps in the rest of this notebook only if you wish to deploy this model.\n",
    "\n",
    "TODO: In the cell below, register the model, create an inference config and deploy the model as a web service."
   ]
  },
  {
   "cell_type": "code",
   "execution_count": 12,
   "metadata": {
    "gather": {
     "logged": 1598431435189
    },
    "jupyter": {
     "outputs_hidden": false,
     "source_hidden": false
    },
    "nteract": {
     "transient": {
      "deleting": false
     }
    }
   },
   "outputs": [],
   "source": [
    "# Downloading the environment file\n",
    "best_run.download_file('outputs/conda_env_v_1_0_0.yml', 'envFile.yml')\n",
    "\n",
    "# Downloading the scoring file \n",
    "best_run.download_file('outputs/scoring_file_v_1_0_0.py', 'scoreScript.py')"
   ]
  },
  {
   "cell_type": "code",
   "execution_count": 14,
   "metadata": {},
   "outputs": [
    {
     "name": "stdout",
     "output_type": "stream",
     "text": [
      "Tips: You can try get_logs(): https://aka.ms/debugimage#dockerlog or local deployment: https://aka.ms/debugimage#debug-locally to debug if deployment takes longer than 10 minutes.\n",
      "Running...............\n",
      "Succeeded\n",
      "ACI service creation operation finished, operation \"Succeeded\"\n",
      "Healthy\n",
      "http://f3f19266-2c36-4fa3-b682-b0a253f3537e.southcentralus.azurecontainer.io/score\n",
      "http://f3f19266-2c36-4fa3-b682-b0a253f3537e.southcentralus.azurecontainer.io/swagger.json\n"
     ]
    }
   ],
   "source": [
    "from azureml.core.environment import Environment\n",
    "from azureml.core.model import InferenceConfig\n",
    "\n",
    "inference_config = InferenceConfig(entry_script='scoreScript.py',\n",
    "                                   environment=best_run.get_environment())\n",
    "\n",
    "# deploy\n",
    "from azureml.core.webservice import AciWebservice\n",
    "\n",
    "deployment_config = AciWebservice.deploy_configuration(cpu_cores = 1, memory_gb = 1)\n",
    "service = Model.deploy(ws, \"myservice\", [best_automl_model], inference_config, deployment_config)\n",
    "service.wait_for_deployment(show_output = True)\n",
    "print(service.state)\n",
    "\n",
    "print(service.scoring_uri)\n",
    "\n",
    "print(service.swagger_uri)"
   ]
  },
  {
   "cell_type": "code",
   "execution_count": 18,
   "metadata": {},
   "outputs": [
    {
     "name": "stdout",
     "output_type": "stream",
     "text": [
      "{\"data\": [{\"age\": 70.0, \"anaemia\": 0, \"creatinine_phosphokinase\": 161, \"diabetes\": 0, \"ejection_fraction\": 25, \"high_blood_pressure\": 0, \"platelets\": 244000.0, \"serum_creatinine\": 1.2, \"serum_sodium\": 142, \"sex\": 0, \"smoking\": 0, \"time\": 66}, {\"age\": 85.0, \"anaemia\": 0, \"creatinine_phosphokinase\": 212, \"diabetes\": 0, \"ejection_fraction\": 38, \"high_blood_pressure\": 0, \"platelets\": 186000.0, \"serum_creatinine\": 0.9, \"serum_sodium\": 136, \"sex\": 1, \"smoking\": 0, \"time\": 187}, {\"age\": 78.0, \"anaemia\": 1, \"creatinine_phosphokinase\": 64, \"diabetes\": 0, \"ejection_fraction\": 40, \"high_blood_pressure\": 0, \"platelets\": 277000.0, \"serum_creatinine\": 0.7, \"serum_sodium\": 137, \"sex\": 1, \"smoking\": 1, \"time\": 187}, {\"age\": 63.0, \"anaemia\": 1, \"creatinine_phosphokinase\": 61, \"diabetes\": 1, \"ejection_fraction\": 40, \"high_blood_pressure\": 0, \"platelets\": 221000.0, \"serum_creatinine\": 1.1, \"serum_sodium\": 140, \"sex\": 0, \"smoking\": 0, \"time\": 86}, {\"age\": 67.0, \"anaemia\": 0, \"creatinine_phosphokinase\": 213, \"diabetes\": 0, \"ejection_fraction\": 38, \"high_blood_pressure\": 0, \"platelets\": 215000.0, \"serum_creatinine\": 1.2, \"serum_sodium\": 133, \"sex\": 0, \"smoking\": 0, \"time\": 245}]}\n"
     ]
    }
   ],
   "source": [
    "import json\n",
    "\n",
    "#Importing test data\n",
    "data_df = ds.to_pandas_dataframe().dropna()\n",
    "test_df = data_df.sample(5) # data_df is the pandas dataframe of the original data\n",
    "label_df = test_df.pop('DEATH_EVENT')\n",
    "\n",
    "test_sample = json.dumps({'data': test_df.to_dict(orient='records')})\n",
    "\n",
    "print(test_sample)"
   ]
  },
  {
   "cell_type": "markdown",
   "metadata": {
    "collapsed": true,
    "gather": {
     "logged": 1598431657736
    },
    "jupyter": {
     "outputs_hidden": false,
     "source_hidden": false
    },
    "nteract": {
     "transient": {
      "deleting": false
     }
    }
   },
   "source": [
    "In the cell below, we are sending a request to the web service deployed to test it."
   ]
  },
  {
   "cell_type": "code",
   "execution_count": 19,
   "metadata": {
    "gather": {
     "logged": 1598432707604
    },
    "jupyter": {
     "outputs_hidden": false,
     "source_hidden": false
    },
    "nteract": {
     "transient": {
      "deleting": false
     }
    }
   },
   "outputs": [],
   "source": [
    "import requests # for http post request\n",
    "\n",
    "# Set the content type\n",
    "headers = {'Content-type': 'application/json'}\n",
    "\n",
    "response = requests.post(service.scoring_uri, test_sample, headers=headers)"
   ]
  },
  {
   "cell_type": "code",
   "execution_count": 20,
   "metadata": {},
   "outputs": [
    {
     "name": "stdout",
     "output_type": "stream",
     "text": [
      "\"{\\\"result\\\": [1, 0, 0, 0, 0]}\"\n"
     ]
    }
   ],
   "source": [
    "# Printing results from the inference\n",
    "print(response.text)"
   ]
  },
  {
   "cell_type": "code",
   "execution_count": 21,
   "metadata": {},
   "outputs": [
    {
     "name": "stdout",
     "output_type": "stream",
     "text": [
      "68     1\n",
      "207    0\n",
      "204    0\n",
      "99     0\n",
      "272    0\n",
      "Name: DEATH_EVENT, dtype: int64\n"
     ]
    }
   ],
   "source": [
    "# Printing ground truth labels\n",
    "print(label_df)"
   ]
  },
  {
   "cell_type": "markdown",
   "metadata": {
    "collapsed": true,
    "gather": {
     "logged": 1598432765711
    },
    "jupyter": {
     "outputs_hidden": false,
     "source_hidden": false
    },
    "nteract": {
     "transient": {
      "deleting": false
     }
    }
   },
   "source": [
    "In the cell below, we are printing the logs of the web service and deleting the service"
   ]
  },
  {
   "cell_type": "code",
   "execution_count": 23,
   "metadata": {
    "jupyter": {
     "outputs_hidden": false,
     "source_hidden": false
    },
    "nteract": {
     "transient": {
      "deleting": false
     }
    }
   },
   "outputs": [
    {
     "name": "stdout",
     "output_type": "stream",
     "text": [
      "2021-02-12T09:52:42,762385200+00:00 - rsyslog/run \n",
      "2021-02-12T09:52:42,769884100+00:00 - iot-server/run \n",
      "2021-02-12T09:52:42,781209500+00:00 - gunicorn/run \n",
      "2021-02-12T09:52:42,804964600+00:00 - nginx/run \n",
      "/usr/sbin/nginx: /azureml-envs/azureml_20a8278aa8b20dd48cc50f56a6d2586c/lib/libcrypto.so.1.0.0: no version information available (required by /usr/sbin/nginx)\n",
      "/usr/sbin/nginx: /azureml-envs/azureml_20a8278aa8b20dd48cc50f56a6d2586c/lib/libcrypto.so.1.0.0: no version information available (required by /usr/sbin/nginx)\n",
      "/usr/sbin/nginx: /azureml-envs/azureml_20a8278aa8b20dd48cc50f56a6d2586c/lib/libssl.so.1.0.0: no version information available (required by /usr/sbin/nginx)\n",
      "/usr/sbin/nginx: /azureml-envs/azureml_20a8278aa8b20dd48cc50f56a6d2586c/lib/libssl.so.1.0.0: no version information available (required by /usr/sbin/nginx)\n",
      "/usr/sbin/nginx: /azureml-envs/azureml_20a8278aa8b20dd48cc50f56a6d2586c/lib/libssl.so.1.0.0: no version information available (required by /usr/sbin/nginx)\n",
      "rsyslogd: /azureml-envs/azureml_20a8278aa8b20dd48cc50f56a6d2586c/lib/libuuid.so.1: no version information available (required by rsyslogd)\n",
      "EdgeHubConnectionString and IOTEDGE_IOTHUBHOSTNAME are not set. Exiting...\n",
      "2021-02-12T09:52:44,220667400+00:00 - iot-server/finish 1 0\n",
      "2021-02-12T09:52:44,236061600+00:00 - Exit code 1 is normal. Not restarting iot-server.\n",
      "Starting gunicorn 19.9.0\n",
      "Listening at: http://127.0.0.1:31311 (65)\n",
      "Using worker: sync\n",
      "worker timeout is set to 300\n",
      "Booting worker with pid: 95\n",
      "SPARK_HOME not set. Skipping PySpark Initialization.\n",
      "Generating new fontManager, this may take some time...\n",
      "Initializing logger\n",
      "2021-02-12 09:52:49,814 | root | INFO | Starting up app insights client\n",
      "2021-02-12 09:52:49,815 | root | INFO | Starting up request id generator\n",
      "2021-02-12 09:52:49,815 | root | INFO | Starting up app insight hooks\n",
      "2021-02-12 09:52:49,816 | root | INFO | Invoking user's init function\n",
      "2021-02-12 09:53:01,146 | root | INFO | Users's init has completed successfully\n",
      "2021-02-12 09:53:01,207 | root | INFO | Skipping middleware: dbg_model_info as it's not enabled.\n",
      "2021-02-12 09:53:01,208 | root | INFO | Skipping middleware: dbg_resource_usage as it's not enabled.\n",
      "2021-02-12 09:53:01,210 | root | INFO | Scoring timeout is found from os.environ: 60000 ms\n",
      "2021-02-12 09:53:01,268 | root | INFO | 200\n",
      "127.0.0.1 - - [12/Feb/2021:09:53:01 +0000] \"GET /swagger.json HTTP/1.0\" 200 2830 \"-\" \"Go-http-client/1.1\"\n",
      "2021-02-12 09:53:05,525 | root | INFO | 200\n",
      "127.0.0.1 - - [12/Feb/2021:09:53:05 +0000] \"GET /swagger.json HTTP/1.0\" 200 2830 \"-\" \"Go-http-client/1.1\"\n",
      "2021-02-12 09:53:08,445 | root | INFO | 200\n",
      "127.0.0.1 - - [12/Feb/2021:09:53:08 +0000] \"GET /swagger.json HTTP/1.0\" 200 2830 \"-\" \"Go-http-client/1.1\"\n",
      "2021-02-12 09:53:08,782 | root | INFO | 200\n",
      "127.0.0.1 - - [12/Feb/2021:09:53:08 +0000] \"GET /swagger.json HTTP/1.0\" 200 2830 \"-\" \"Go-http-client/1.1\"\n",
      "2021-02-12 09:54:53,805 | root | INFO | 200\n",
      "127.0.0.1 - - [12/Feb/2021:09:54:53 +0000] \"GET /swagger.json HTTP/1.0\" 200 2830 \"-\" \"Go-http-client/1.1\"\n",
      "2021-02-12 09:54:54,127 | root | INFO | 200\n",
      "127.0.0.1 - - [12/Feb/2021:09:54:54 +0000] \"GET /swagger.json HTTP/1.0\" 200 2830 \"-\" \"Go-http-client/1.1\"\n",
      "2021-02-12 09:58:50,786 | root | INFO | Validation Request Content-Type\n",
      "2021-02-12 09:58:50,792 | root | INFO | Scoring Timer is set to 60.0 seconds\n",
      "2021-02-12 09:58:51,150 | root | INFO | 200\n",
      "127.0.0.1 - - [12/Feb/2021:09:58:51 +0000] \"POST /score HTTP/1.0\" 200 31 \"-\" \"python-requests/2.25.1\"\n",
      "2021-02-12 10:07:00,429 | root | INFO | Validation Request Content-Type\n",
      "2021-02-12 10:07:00,430 | root | INFO | Scoring Timer is set to 60.0 seconds\n",
      "2021-02-12 10:07:00,673 | root | INFO | 200\n",
      "127.0.0.1 - - [12/Feb/2021:10:07:00 +0000] \"POST /score HTTP/1.0\" 200 22 \"-\" \"python-requests/2.24.0\"\n",
      "2021-02-12 10:08:17,369 | root | INFO | Validation Request Content-Type\n",
      "2021-02-12 10:08:17,370 | root | INFO | Scoring Timer is set to 60.0 seconds\n",
      "2021-02-12 10:08:17,637 | root | INFO | 200\n",
      "127.0.0.1 - - [12/Feb/2021:10:08:17 +0000] \"POST /score HTTP/1.0\" 200 22 \"-\" \"python-requests/2.24.0\"\n",
      "2021-02-12 10:08:21,430 | root | INFO | Validation Request Content-Type\n",
      "2021-02-12 10:08:21,431 | root | INFO | Scoring Timer is set to 60.0 seconds\n",
      "2021-02-12 10:08:21,765 | root | INFO | 200\n",
      "127.0.0.1 - - [12/Feb/2021:10:08:21 +0000] \"POST /score HTTP/1.0\" 200 22 \"-\" \"python-requests/2.24.0\"\n",
      "2021-02-12 10:10:39,185 | root | INFO | 200\n",
      "127.0.0.1 - - [12/Feb/2021:10:10:39 +0000] \"GET /swagger.json HTTP/1.0\" 200 2830 \"-\" \"Go-http-client/1.1\"\n",
      "2021-02-12 10:10:39,586 | root | INFO | 200\n",
      "127.0.0.1 - - [12/Feb/2021:10:10:39 +0000] \"GET /swagger.json HTTP/1.0\" 200 2830 \"-\" \"Go-http-client/1.1\"\n",
      "2021-02-12 10:12:48,731 | root | INFO | 200\n",
      "127.0.0.1 - - [12/Feb/2021:10:12:48 +0000] \"GET /swagger.json HTTP/1.0\" 200 2830 \"-\" \"Go-http-client/1.1\"\n",
      "2021-02-12 10:12:49,041 | root | INFO | 200\n",
      "127.0.0.1 - - [12/Feb/2021:10:12:49 +0000] \"GET /swagger.json HTTP/1.0\" 200 2830 \"-\" \"Go-http-client/1.1\"\n",
      "2021-02-12 10:13:55,950 | root | INFO | 200\n",
      "127.0.0.1 - - [12/Feb/2021:10:13:55 +0000] \"GET /swagger.json HTTP/1.0\" 200 2830 \"-\" \"Go-http-client/1.1\"\n",
      "2021-02-12 10:13:56,391 | root | INFO | 200\n",
      "127.0.0.1 - - [12/Feb/2021:10:13:56 +0000] \"GET /swagger.json HTTP/1.0\" 200 2830 \"-\" \"Go-http-client/1.1\"\n",
      "\n"
     ]
    }
   ],
   "source": [
    "print(service.get_logs())"
   ]
  },
  {
   "cell_type": "code",
   "execution_count": 24,
   "metadata": {},
   "outputs": [],
   "source": [
    "service.delete()"
   ]
  },
  {
   "cell_type": "code",
   "execution_count": null,
   "metadata": {},
   "outputs": [],
   "source": []
  }
 ],
 "metadata": {
  "kernel_info": {
   "name": "python3-azureml"
  },
  "kernelspec": {
   "display_name": "Python 3.6 - AzureML",
   "language": "python",
   "name": "python3-azureml"
  },
  "language_info": {
   "codemirror_mode": {
    "name": "ipython",
    "version": 3
   },
   "file_extension": ".py",
   "mimetype": "text/x-python",
   "name": "python",
   "nbconvert_exporter": "python",
   "pygments_lexer": "ipython3",
   "version": "3.6.9"
  },
  "nteract": {
   "version": "nteract-front-end@1.0.0"
  }
 },
 "nbformat": 4,
 "nbformat_minor": 2
}
